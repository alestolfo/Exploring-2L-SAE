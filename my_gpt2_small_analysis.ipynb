{
 "cells": [
  {
   "cell_type": "code",
   "execution_count": null,
   "metadata": {},
   "outputs": [],
   "source": [
    "import transformer_lens\n",
    "from transformer_lens import HookedTransformer, utils\n",
    "import torch as t\n",
    "import numpy as np\n",
    "import gradio as gr\n",
    "\n",
    "import torch as t\n",
    "#from google.colab import drive\n",
    "\n",
    "# This will prompt for authorization.\n",
    "#drive.mount('/content/drive')\n",
    "\n",
    "import einops\n",
    "import plotly.express as px\n",
    "import plotly.graph_objects as go\n",
    "import pandas as pd\n",
    "import tqdm\n",
    "from functools import partial\n",
    "from datasets import load_dataset\n",
    "from IPython.display import display"
   ]
  },
  {
   "cell_type": "code",
   "execution_count": null,
   "metadata": {},
   "outputs": [],
   "source": [
    "# load gpt2-small\n",
    "model = HookedTransformer.from_pretrained(\"gpt2-small\").to('cuda')\n",
    "\n",
    "data = load_dataset(\"stas/openwebtext-10k\", split=\"train\")\n",
    "tokenized_data = utils.tokenize_and_concatenate(data, model.tokenizer, max_length=128)\n",
    "tokenized_data = tokenized_data.shuffle(22)"
   ]
  },
  {
   "cell_type": "code",
   "execution_count": null,
   "metadata": {},
   "outputs": [],
   "source": [
    "import torch \n",
    "from pathlib import Path\n",
    "import torch.nn as nn\n",
    "import pprint\n",
    "import json \n",
    "import torch.nn.functional as F\n",
    "\n",
    "DTYPES = {\"fp32\": torch.float32, \"fp16\": torch.float16, \"bf16\": torch.bfloat16}\n",
    "SAVE_DIR = Path(\"/workspace/1L-Sparse-Autoencoder/checkpoints\")\n",
    "class AutoEncoder(nn.Module):\n",
    "    def __init__(self, cfg):\n",
    "        super().__init__()\n",
    "        d_hidden = cfg[\"dict_size\"]\n",
    "        l1_coeff = cfg[\"l1_coeff\"]\n",
    "        dtype = DTYPES[cfg[\"enc_dtype\"]]\n",
    "        torch.manual_seed(cfg[\"seed\"])\n",
    "        self.W_enc = nn.Parameter(torch.nn.init.kaiming_uniform_(torch.empty(cfg[\"act_size\"], d_hidden, dtype=dtype)))\n",
    "        self.W_dec = nn.Parameter(torch.nn.init.kaiming_uniform_(torch.empty(d_hidden, cfg[\"act_size\"], dtype=dtype)))\n",
    "        self.b_enc = nn.Parameter(torch.zeros(d_hidden, dtype=dtype))\n",
    "        self.b_dec = nn.Parameter(torch.zeros(cfg[\"act_size\"], dtype=dtype))\n",
    "\n",
    "        self.W_dec.data[:] = self.W_dec / self.W_dec.norm(dim=-1, keepdim=True)\n",
    "\n",
    "        self.d_hidden = d_hidden\n",
    "        self.l1_coeff = l1_coeff\n",
    "\n",
    "        self.to(cfg[\"device\"])\n",
    "    \n",
    "    def forward(self, x):\n",
    "        x_cent = x - self.b_dec\n",
    "        acts = F.relu(x_cent @ self.W_enc + self.b_enc)\n",
    "        x_reconstruct = acts @ self.W_dec + self.b_dec\n",
    "        l2_loss = (x_reconstruct.float() - x.float()).pow(2).sum(-1).mean(0)\n",
    "        l1_loss = self.l1_coeff * (acts.float().abs().sum())\n",
    "        loss = l2_loss + l1_loss\n",
    "        return loss, x_reconstruct, acts, l2_loss, l1_loss\n",
    "    \n",
    "    @torch.no_grad()\n",
    "    def make_decoder_weights_and_grad_unit_norm(self):\n",
    "        W_dec_normed = self.W_dec / self.W_dec.norm(dim=-1, keepdim=True)\n",
    "        W_dec_grad_proj = (self.W_dec.grad * W_dec_normed).sum(-1, keepdim=True) * W_dec_normed\n",
    "        self.W_dec.grad -= W_dec_grad_proj\n",
    "        # Bugfix(?) for ensuring W_dec retains unit norm, this was not there when I trained my original autoencoders.\n",
    "        self.W_dec.data = W_dec_normed\n",
    "    \n",
    "    def get_version(self):\n",
    "        version_list = [int(file.name.split(\".\")[0]) for file in list(SAVE_DIR.iterdir()) if \"pt\" in str(file)]\n",
    "        if len(version_list):\n",
    "            return 1+max(version_list)\n",
    "        else:\n",
    "            return 0\n",
    "\n",
    "    def save(self):\n",
    "        version = self.get_version()\n",
    "        torch.save(self.state_dict(), SAVE_DIR/(str(version)+\".pt\"))\n",
    "        with open(SAVE_DIR/(str(version)+\"_cfg.json\"), \"w\") as f:\n",
    "            json.dump(cfg, f)\n",
    "        print(\"Saved as version\", version)\n",
    "    \n",
    "    @classmethod\n",
    "    def load(cls, version):\n",
    "        cfg = (json.load(open(SAVE_DIR/(str(version)+\"_cfg.json\"), \"r\")))\n",
    "        pprint.pprint(cfg)\n",
    "        self = cls(cfg=cfg)\n",
    "        self.load_state_dict(torch.load(SAVE_DIR/(str(version)+\".pt\")))\n",
    "        return self\n",
    "\n",
    "    @classmethod\n",
    "    def load_from_hf(cls, version, device_override=None):\n",
    "        \"\"\"\n",
    "        Loads the saved autoencoder from HuggingFace. \n",
    "        \n",
    "        Version is expected to be an int, or \"run1\" or \"run2\"\n",
    "\n",
    "        version 25 is the final checkpoint of the first autoencoder run,\n",
    "        version 47 is the final checkpoint of the second autoencoder run.\n",
    "        \"\"\"\n",
    "        if version==\"run1\":\n",
    "            version = 25\n",
    "        elif version==\"run2\":\n",
    "            version = 47\n",
    "        \n",
    "        cfg = utils.download_file_from_hf(\"NeelNanda/sparse_autoencoder\", f\"{version}_cfg.json\")\n",
    "        if device_override is not None:\n",
    "            cfg[\"device\"] = device_override\n",
    "\n",
    "        pprint.pprint(cfg)\n",
    "        self = cls(cfg=cfg)\n",
    "        self.load_state_dict(utils.download_file_from_hf(\"NeelNanda/sparse_autoencoder\", f\"{version}.pt\", force_is_torch=True))\n",
    "        return self\n"
   ]
  },
  {
   "cell_type": "code",
   "execution_count": null,
   "metadata": {},
   "outputs": [],
   "source": [
    "hook_point, layer = \"resid_pre\", 9\n",
    "dic = utils.download_file_from_hf(\"jacobcd52/gpt2-small-sparse-autoencoders\", f\"gpt2-small_6144_{hook_point}_{layer}.pt\", force_is_torch=True)\n",
    "W_dec , b_dec, W_enc, b_enc = dic[\"W_dec\"], dic[\"b_dec\"], dic[\"W_enc\"], dic[\"b_enc\"]\n",
    "\n",
    "cfg = {\n",
    "    \"dict_size\": 6144,\n",
    "    \"act_size\": 768,\n",
    "    \"l1_coeff\": 0.001,\n",
    "    \"enc_dtype\": \"fp32\",\n",
    "    \"seed\": 0,\n",
    "    \"device\": \"cuda\",\n",
    "    \"model_batch_size\": 1028,\n",
    "}\n",
    "encoder_resid_pre_9 = AutoEncoder(cfg)\n",
    "encoder_resid_pre_9.load_state_dict(dic)"
   ]
  },
  {
   "cell_type": "code",
   "execution_count": null,
   "metadata": {},
   "outputs": [],
   "source": [
    "# get the reconstruction loss\n",
    "\n",
    "def replacement_hook(mlp_post, hook, encoder):\n",
    "    mlp_post_reconstr = encoder(mlp_post)[1]\n",
    "    return mlp_post_reconstr\n",
    "\n",
    "def mean_ablate_hook(mlp_post, hook):\n",
    "    mlp_post[:] = mlp_post.mean([0, 1])\n",
    "    return mlp_post\n",
    "\n",
    "def zero_ablate_hook(mlp_post, hook):\n",
    "    mlp_post[:] = 0.\n",
    "    return mlp_post\n",
    "\n",
    "@t.no_grad()\n",
    "def get_recons_loss(encoder, all_tokens, num_batches=5, local_encoder=None):\n",
    "    loss_list = []\n",
    "    for i in range(num_batches):\n",
    "        tokens = all_tokens[t.randperm(len(all_tokens))[:cfg[\"model_batch_size\"]]]\n",
    "        loss = model(tokens, return_type=\"loss\")\n",
    "        recons_loss = model.run_with_hooks(tokens, return_type=\"loss\", fwd_hooks=[(utils.get_act_name(\"resid_pre\", 9), partial(replacement_hook, encoder=local_encoder))])\n",
    "        # mean_abl_loss = model.run_with_hooks(tokens, return_type=\"loss\", fwd_hooks=[(utils.get_act_name(\"post\", 0), mean_ablate_hook)])\n",
    "        zero_abl_loss = model.run_with_hooks(tokens, return_type=\"loss\", fwd_hooks=[(utils.get_act_name(\"resid_pre\", 9), zero_ablate_hook)])\n",
    "        loss_list.append((loss, recons_loss, zero_abl_loss))\n",
    "    losses = t.tensor(loss_list)\n",
    "    loss, recons_loss, zero_abl_loss = losses.mean(0).tolist()\n",
    "\n",
    "    print(f\"loss: {loss:.4f}, recons_loss: {recons_loss:.4f}, zero_abl_loss: {zero_abl_loss:.4f}\")\n",
    "    score = ((zero_abl_loss - recons_loss)/(zero_abl_loss - loss))\n",
    "    print(f\"Reconstruction Score: {score:.2%}\")\n",
    "    # print(f\"{((zero_abl_loss - mean_abl_loss)/(zero_abl_loss - loss)).item():.2%}\")\n",
    "    return score, loss, recons_loss, zero_abl_loss\n",
    "\n",
    "local_encoder = encoder_resid_pre_9\n",
    "\n",
    "with torch.no_grad():\n",
    "    example_tokens = tokenized_data[:200][\"tokens\"].to(\"cuda\")\n",
    "    logits, cache = model.run_with_cache(example_tokens)\n",
    "    per_token_loss = model.loss_fn(logits, example_tokens, True)\n",
    "    # imshow(per_token_loss)\n",
    "\n",
    "get_recons_loss(encoder_resid_pre_9, example_tokens, num_batches=5, local_encoder=local_encoder)"
   ]
  },
  {
   "cell_type": "code",
   "execution_count": null,
   "metadata": {},
   "outputs": [],
   "source": [
    "def get_feature_acts(point, layer, dic, num_batches = 1000, minibatch_size = 50):\n",
    "  try:\n",
    "    del feature_acts\n",
    "    del random_feature_acts\n",
    "  except NameError:\n",
    "    pass\n",
    "\n",
    "  # get however many tokens we need\n",
    "  toks = tokenized_data[\"tokens\"][:num_batches]\n",
    "  toks = toks.to(\"cuda\")\n",
    "\n",
    "  # get activations on test tokens at point of interest. Run model on batches of tokens with size [batch_size, 128]. Be careful with RAM.\n",
    "\n",
    "  random_W_enc = t.randn( dic[\"W_enc\"].size() ).cuda()\n",
    "\n",
    "  for i in tqdm.tqdm(range(toks.size(0)//minibatch_size)):\n",
    "    # split toks into minibatch and run model with cache on minibatch\n",
    "    toks_batch = toks[minibatch_size*i : minibatch_size*(i+1), :]\n",
    "    logits, cache = model.run_with_cache(toks_batch, stop_at_layer=layer+1, names_filter=utils.get_act_name(point, layer))\n",
    "    del logits\n",
    "\n",
    "    act_batch = cache[point, layer]\n",
    "    act_batch = act_batch.detach().cuda()\n",
    "    del cache\n",
    "\n",
    "    # get feature acts and random feature acts on this minibatch (fewer random ones to save RAM)\n",
    "    feature_act_batch = t.relu(einops.einsum(act_batch - dic[\"b_dec\"], dic[\"W_enc\"], \"batch seq resid , resid mlp -> batch seq mlp\")  + dic[\"b_enc\"])\n",
    "\n",
    "    random_feature_act_batch = t.relu(einops.einsum(act_batch[:10] - dic[\"b_dec\"], random_W_enc, \"batch seq resid , resid mlp -> batch seq mlp\")  + dic[\"b_enc\"])\n",
    "    random_feature_act_batch = random_feature_act_batch / random_feature_act_batch.norm(dim=-1, keepdim=True) * feature_act_batch[:10].norm(dim=-1, keepdim=True)  #fix normalisation\n",
    "    del act_batch\n",
    "\n",
    "    # append minibatch feature acts to storage variable\n",
    "    if i == 0:  # on first iteration, create feature_acts\n",
    "      feature_acts = feature_act_batch\n",
    "      random_feature_acts = random_feature_act_batch\n",
    "    else:  # then add to it\n",
    "      feature_acts = t.cat([feature_acts, feature_act_batch], dim=0)\n",
    "      random_feature_acts = t.cat([random_feature_acts, random_feature_act_batch], dim=0)\n",
    "\n",
    "    del feature_act_batch\n",
    "    del random_feature_act_batch\n",
    "\n",
    "  # set BOS acts to zero\n",
    "  feature_acts[:, 0, :] = 0\n",
    "  random_feature_acts[:, 0, :] = 0\n",
    "\n",
    "  # flatten [batch n_seq] dimensions\n",
    "  feature_acts = feature_acts.reshape(-1, feature_acts.size(2))\n",
    "  random_feature_acts = random_feature_acts.reshape(-1, random_feature_acts.size(2))\n",
    "\n",
    "  print(\"feature_acts has size:\", feature_acts.size())\n",
    "\n",
    "  return toks, feature_acts, random_feature_acts\n",
    "\n",
    "\n",
    "toks, feature_acts, random_feature_acts = get_feature_acts(\"resid_pre\", 9, encoder_resid_pre_9.state_dict(), num_batches = 1000, minibatch_size = 50)"
   ]
  },
  {
   "cell_type": "code",
   "execution_count": null,
   "metadata": {},
   "outputs": [],
   "source": [
    "l0_metric = (feature_acts > 0).float().mean(0) * 128\n",
    "px.histogram(l0_metric.cpu().numpy(), nbins=100, title=\"L0 Metric\")"
   ]
  },
  {
   "cell_type": "code",
   "execution_count": null,
   "metadata": {},
   "outputs": [],
   "source": [
    "feature_density = (feature_acts > 0).float().mean(0).detach().cpu()\n",
    "feature_density_log = np.log10(feature_density.numpy() + 1e-8)\n",
    "px.histogram(feature_density_log, title=\"Feature Density\", labels={\"value\": \"Density\", \"variable\": \"Feature\"})"
   ]
  },
  {
   "cell_type": "code",
   "execution_count": null,
   "metadata": {},
   "outputs": [],
   "source": [
    "hidden_is_pos0 = feature_acts > 0\n",
    "d_enc = feature_acts.shape[-1]\n",
    "cooccur_count = torch.zeros((d_enc, d_enc), device=\"cuda\", dtype=torch.float32)\n",
    "for end_i in tqdm.trange(d_enc):\n",
    "    cooccur_count[:, end_i] = hidden_is_pos0[hidden_is_pos0[:, end_i]].float().sum(0)\n",
    "# %%\n",
    "num_firings0 = hidden_is_pos0.sum(0)\n",
    "cooccur_freq = cooccur_count / torch.maximum(num_firings0[:, None], num_firings0[None, :])\n"
   ]
  },
  {
   "cell_type": "code",
   "execution_count": null,
   "metadata": {},
   "outputs": [],
   "source": [
    "# set nan to 0\n",
    "cooccur_freq[cooccur_freq.isnan()] = 0.\n",
    "# set diag to 0\n",
    "cooccur_freq.fill_diagonal_(0)\n",
    "# fill dense features with 0 \n",
    "cooccur_freq[feature_density_log > -2,:] = 0\n",
    "# cooccur_freq[:] = 0.\n",
    "\n",
    "val, ind = cooccur_freq.flatten().topk(500)\n",
    "\n",
    "\n",
    "start_topk_ind = (ind // d_enc)\n",
    "other_topk_ind = (ind % d_enc)\n",
    "\n",
    "\n",
    "df = pd.DataFrame(\n",
    "    {\n",
    "        \"start_topk_ind\": start_topk_ind.cpu().numpy(),\n",
    "        \"other_topk_ind\": other_topk_ind.cpu().numpy(),\n",
    "        \"val\": val.cpu().numpy(),\n",
    "        \"earlier_features\": num_firings0[start_topk_ind].cpu().numpy(),\n",
    "        \"other_features\": num_firings0[other_topk_ind].cpu().numpy(),\n",
    "        \"start_top_k_density\": feature_density[start_topk_ind.cpu()].cpu().numpy(),\n",
    "        \"other_top_k_density\": feature_density[other_topk_ind.cpu()].cpu().numpy(),\n",
    "        \"feature_density_ratio\": feature_density[start_topk_ind.cpu()].cpu().numpy() / feature_density[other_topk_ind.cpu()].cpu().numpy(),\n",
    "    }\n",
    ")\n",
    "\n",
    "df.sample(40)\n",
    "# # %%"
   ]
  },
  {
   "cell_type": "code",
   "execution_count": null,
   "metadata": {},
   "outputs": [],
   "source": [
    "# %%\n",
    "# cooccur_count = cooccur_count.float() / hidden_acts0.shape[0]\n",
    "# %%\n",
    "fig = px.histogram(cooccur_freq[cooccur_freq>0.3].detach().cpu(), log_y=True)\n",
    "fig.show()"
   ]
  },
  {
   "cell_type": "code",
   "execution_count": null,
   "metadata": {},
   "outputs": [],
   "source": [
    "feature_acts.shape"
   ]
  },
  {
   "cell_type": "code",
   "execution_count": null,
   "metadata": {},
   "outputs": [],
   "source": [
    "token_df = nutils.make_token_df(toks)"
   ]
  },
  {
   "cell_type": "code",
   "execution_count": 121,
   "metadata": {},
   "outputs": [
    {
     "data": {
      "text/html": [
       "<div>\n",
       "<style scoped>\n",
       "    .dataframe tbody tr th:only-of-type {\n",
       "        vertical-align: middle;\n",
       "    }\n",
       "\n",
       "    .dataframe tbody tr th {\n",
       "        vertical-align: top;\n",
       "    }\n",
       "\n",
       "    .dataframe thead th {\n",
       "        text-align: right;\n",
       "    }\n",
       "</style>\n",
       "<table border=\"1\" class=\"dataframe\">\n",
       "  <thead>\n",
       "    <tr style=\"text-align: right;\">\n",
       "      <th></th>\n",
       "      <th>str_tokens</th>\n",
       "      <th>unique_token</th>\n",
       "      <th>context</th>\n",
       "      <th>batch</th>\n",
       "      <th>pos</th>\n",
       "      <th>label</th>\n",
       "      <th>val</th>\n",
       "      <th>val1</th>\n",
       "      <th>val2</th>\n",
       "    </tr>\n",
       "  </thead>\n",
       "  <tbody>\n",
       "    <tr>\n",
       "      <th>40595</th>\n",
       "      <td>This</td>\n",
       "      <td>This/19</td>\n",
       "      <td>academic literature.\\n\\n|This|,</td>\n",
       "      <td>317</td>\n",
       "      <td>19</td>\n",
       "      <td>317/19</td>\n",
       "      <td>41.937229</td>\n",
       "      <td>41.937229</td>\n",
       "      <td>1.094690</td>\n",
       "    </tr>\n",
       "    <tr>\n",
       "      <th>33549</th>\n",
       "      <td>This</td>\n",
       "      <td>This/13</td>\n",
       "      <td>every citizen.\\n\\n|This| article</td>\n",
       "      <td>262</td>\n",
       "      <td>13</td>\n",
       "      <td>262/13</td>\n",
       "      <td>41.799770</td>\n",
       "      <td>41.799770</td>\n",
       "      <td>1.875313</td>\n",
       "    </tr>\n",
       "    <tr>\n",
       "      <th>53424</th>\n",
       "      <td>This</td>\n",
       "      <td>This/48</td>\n",
       "      <td>search query.\\n\\n|This| is</td>\n",
       "      <td>417</td>\n",
       "      <td>48</td>\n",
       "      <td>417/48</td>\n",
       "      <td>40.419174</td>\n",
       "      <td>40.419174</td>\n",
       "      <td>1.086643</td>\n",
       "    </tr>\n",
       "    <tr>\n",
       "      <th>28693</th>\n",
       "      <td>This</td>\n",
       "      <td>This/21</td>\n",
       "      <td>�ites.\\n\\n|This| is</td>\n",
       "      <td>224</td>\n",
       "      <td>21</td>\n",
       "      <td>224/21</td>\n",
       "      <td>40.028366</td>\n",
       "      <td>40.028366</td>\n",
       "      <td>2.845940</td>\n",
       "    </tr>\n",
       "    <tr>\n",
       "      <th>18174</th>\n",
       "      <td>This</td>\n",
       "      <td>This/126</td>\n",
       "      <td>to work.\"\\n\\n|This|</td>\n",
       "      <td>141</td>\n",
       "      <td>126</td>\n",
       "      <td>141/126</td>\n",
       "      <td>39.188549</td>\n",
       "      <td>39.188549</td>\n",
       "      <td>4.416582</td>\n",
       "    </tr>\n",
       "    <tr>\n",
       "      <th>88655</th>\n",
       "      <td>This</td>\n",
       "      <td>This/79</td>\n",
       "      <td>with 5 percent undecided.| This| is</td>\n",
       "      <td>692</td>\n",
       "      <td>79</td>\n",
       "      <td>692/79</td>\n",
       "      <td>38.682384</td>\n",
       "      <td>38.682384</td>\n",
       "      <td>0.011215</td>\n",
       "    </tr>\n",
       "    <tr>\n",
       "      <th>68906</th>\n",
       "      <td>This</td>\n",
       "      <td>This/42</td>\n",
       "      <td>��s arms.| This| is</td>\n",
       "      <td>538</td>\n",
       "      <td>42</td>\n",
       "      <td>538/42</td>\n",
       "      <td>38.680344</td>\n",
       "      <td>38.680344</td>\n",
       "      <td>1.351418</td>\n",
       "    </tr>\n",
       "    <tr>\n",
       "      <th>81508</th>\n",
       "      <td>This</td>\n",
       "      <td>This/100</td>\n",
       "      <td>a mountain\".\\n\\n|This| evidently</td>\n",
       "      <td>636</td>\n",
       "      <td>100</td>\n",
       "      <td>636/100</td>\n",
       "      <td>38.573799</td>\n",
       "      <td>38.573799</td>\n",
       "      <td>0.353576</td>\n",
       "    </tr>\n",
       "    <tr>\n",
       "      <th>96352</th>\n",
       "      <td>This</td>\n",
       "      <td>This/96</td>\n",
       "      <td>ari said.\\n\\n|This| year</td>\n",
       "      <td>752</td>\n",
       "      <td>96</td>\n",
       "      <td>752/96</td>\n",
       "      <td>38.561771</td>\n",
       "      <td>38.561771</td>\n",
       "      <td>3.267462</td>\n",
       "    </tr>\n",
       "    <tr>\n",
       "      <th>113590</th>\n",
       "      <td>This</td>\n",
       "      <td>This/54</td>\n",
       "      <td>criminal code.\\n\\n|This| May</td>\n",
       "      <td>887</td>\n",
       "      <td>54</td>\n",
       "      <td>887/54</td>\n",
       "      <td>38.256516</td>\n",
       "      <td>38.256516</td>\n",
       "      <td>1.771352</td>\n",
       "    </tr>\n",
       "    <tr>\n",
       "      <th>116628</th>\n",
       "      <td>This</td>\n",
       "      <td>This/20</td>\n",
       "      <td>only person doing so.| This| is</td>\n",
       "      <td>911</td>\n",
       "      <td>20</td>\n",
       "      <td>911/20</td>\n",
       "      <td>38.204166</td>\n",
       "      <td>38.204166</td>\n",
       "      <td>1.145535</td>\n",
       "    </tr>\n",
       "    <tr>\n",
       "      <th>41258</th>\n",
       "      <td>This</td>\n",
       "      <td>This/42</td>\n",
       "      <td>of kriging.| This| is</td>\n",
       "      <td>322</td>\n",
       "      <td>42</td>\n",
       "      <td>322/42</td>\n",
       "      <td>37.850243</td>\n",
       "      <td>37.850243</td>\n",
       "      <td>0.000000</td>\n",
       "    </tr>\n",
       "    <tr>\n",
       "      <th>8970</th>\n",
       "      <td>This</td>\n",
       "      <td>This/10</td>\n",
       "      <td>perfectly to 3D.| This| Batman</td>\n",
       "      <td>70</td>\n",
       "      <td>10</td>\n",
       "      <td>70/10</td>\n",
       "      <td>37.279942</td>\n",
       "      <td>37.279942</td>\n",
       "      <td>1.733231</td>\n",
       "    </tr>\n",
       "    <tr>\n",
       "      <th>1717</th>\n",
       "      <td>This</td>\n",
       "      <td>This/53</td>\n",
       "      <td>even there.\\n\\n|This| was</td>\n",
       "      <td>13</td>\n",
       "      <td>53</td>\n",
       "      <td>13/53</td>\n",
       "      <td>37.049507</td>\n",
       "      <td>37.049507</td>\n",
       "      <td>1.415449</td>\n",
       "    </tr>\n",
       "    <tr>\n",
       "      <th>9652</th>\n",
       "      <td>This</td>\n",
       "      <td>This/52</td>\n",
       "      <td>actually deeds of trust.| This| process</td>\n",
       "      <td>75</td>\n",
       "      <td>52</td>\n",
       "      <td>75/52</td>\n",
       "      <td>37.022926</td>\n",
       "      <td>37.022926</td>\n",
       "      <td>0.452580</td>\n",
       "    </tr>\n",
       "    <tr>\n",
       "      <th>46936</th>\n",
       "      <td>This</td>\n",
       "      <td>This/88</td>\n",
       "      <td>the Movies.��| This| was</td>\n",
       "      <td>366</td>\n",
       "      <td>88</td>\n",
       "      <td>366/88</td>\n",
       "      <td>37.000923</td>\n",
       "      <td>37.000923</td>\n",
       "      <td>0.000000</td>\n",
       "    </tr>\n",
       "    <tr>\n",
       "      <th>34264</th>\n",
       "      <td>This</td>\n",
       "      <td>This/88</td>\n",
       "      <td>.��\\n\\n|This| hard</td>\n",
       "      <td>267</td>\n",
       "      <td>88</td>\n",
       "      <td>267/88</td>\n",
       "      <td>36.934216</td>\n",
       "      <td>36.934216</td>\n",
       "      <td>2.396078</td>\n",
       "    </tr>\n",
       "    <tr>\n",
       "      <th>55887</th>\n",
       "      <td>This</td>\n",
       "      <td>This/79</td>\n",
       "      <td>45.8 billion.| This| article</td>\n",
       "      <td>436</td>\n",
       "      <td>79</td>\n",
       "      <td>436/79</td>\n",
       "      <td>36.903393</td>\n",
       "      <td>36.903393</td>\n",
       "      <td>2.167404</td>\n",
       "    </tr>\n",
       "    <tr>\n",
       "      <th>52686</th>\n",
       "      <td>This</td>\n",
       "      <td>This/78</td>\n",
       "      <td>the Rich Text Editor.| This| is</td>\n",
       "      <td>411</td>\n",
       "      <td>78</td>\n",
       "      <td>411/78</td>\n",
       "      <td>36.775875</td>\n",
       "      <td>36.775875</td>\n",
       "      <td>0.000000</td>\n",
       "    </tr>\n",
       "    <tr>\n",
       "      <th>86533</th>\n",
       "      <td>This</td>\n",
       "      <td>This/5</td>\n",
       "      <td>&lt;|endoftext|&gt;HSR construction.| This| extension</td>\n",
       "      <td>676</td>\n",
       "      <td>5</td>\n",
       "      <td>676/5</td>\n",
       "      <td>36.719296</td>\n",
       "      <td>36.719296</td>\n",
       "      <td>2.625205</td>\n",
       "    </tr>\n",
       "    <tr>\n",
       "      <th>40162</th>\n",
       "      <td>This</td>\n",
       "      <td>This/98</td>\n",
       "      <td>leaks in journalistic history.| This| has</td>\n",
       "      <td>313</td>\n",
       "      <td>98</td>\n",
       "      <td>313/98</td>\n",
       "      <td>36.671696</td>\n",
       "      <td>36.671696</td>\n",
       "      <td>0.974410</td>\n",
       "    </tr>\n",
       "    <tr>\n",
       "      <th>55181</th>\n",
       "      <td>This</td>\n",
       "      <td>This/13</td>\n",
       "      <td>all the parts interchangeable.| This| is</td>\n",
       "      <td>431</td>\n",
       "      <td>13</td>\n",
       "      <td>431/13</td>\n",
       "      <td>36.668926</td>\n",
       "      <td>36.668926</td>\n",
       "      <td>0.789380</td>\n",
       "    </tr>\n",
       "    <tr>\n",
       "      <th>32593</th>\n",
       "      <td>This</td>\n",
       "      <td>This/81</td>\n",
       "      <td>Android, as well?| This| question</td>\n",
       "      <td>254</td>\n",
       "      <td>81</td>\n",
       "      <td>254/81</td>\n",
       "      <td>36.656456</td>\n",
       "      <td>36.656456</td>\n",
       "      <td>2.975426</td>\n",
       "    </tr>\n",
       "    <tr>\n",
       "      <th>41942</th>\n",
       "      <td>This</td>\n",
       "      <td>This/86</td>\n",
       "      <td>sheltered accounts.| This| is</td>\n",
       "      <td>327</td>\n",
       "      <td>86</td>\n",
       "      <td>327/86</td>\n",
       "      <td>36.515301</td>\n",
       "      <td>36.515301</td>\n",
       "      <td>0.970058</td>\n",
       "    </tr>\n",
       "    <tr>\n",
       "      <th>56813</th>\n",
       "      <td>This</td>\n",
       "      <td>This/109</td>\n",
       "      <td>apparatus in the country.| This| will</td>\n",
       "      <td>443</td>\n",
       "      <td>109</td>\n",
       "      <td>443/109</td>\n",
       "      <td>36.506054</td>\n",
       "      <td>36.506054</td>\n",
       "      <td>0.019608</td>\n",
       "    </tr>\n",
       "    <tr>\n",
       "      <th>74298</th>\n",
       "      <td>This</td>\n",
       "      <td>This/58</td>\n",
       "      <td>��s whole.| This| is</td>\n",
       "      <td>580</td>\n",
       "      <td>58</td>\n",
       "      <td>580/58</td>\n",
       "      <td>36.343040</td>\n",
       "      <td>36.343040</td>\n",
       "      <td>0.000000</td>\n",
       "    </tr>\n",
       "    <tr>\n",
       "      <th>106091</th>\n",
       "      <td>This</td>\n",
       "      <td>This/107</td>\n",
       "      <td>one possession.\\n\\n|This| game</td>\n",
       "      <td>828</td>\n",
       "      <td>107</td>\n",
       "      <td>828/107</td>\n",
       "      <td>36.269424</td>\n",
       "      <td>36.269424</td>\n",
       "      <td>0.997932</td>\n",
       "    </tr>\n",
       "    <tr>\n",
       "      <th>63868</th>\n",
       "      <td>This</td>\n",
       "      <td>This/124</td>\n",
       "      <td>meetings later this month.| This| would</td>\n",
       "      <td>498</td>\n",
       "      <td>124</td>\n",
       "      <td>498/124</td>\n",
       "      <td>36.267075</td>\n",
       "      <td>36.267075</td>\n",
       "      <td>1.636873</td>\n",
       "    </tr>\n",
       "    <tr>\n",
       "      <th>117621</th>\n",
       "      <td>This</td>\n",
       "      <td>This/117</td>\n",
       "      <td>a vision and policy.| This| would</td>\n",
       "      <td>918</td>\n",
       "      <td>117</td>\n",
       "      <td>918/117</td>\n",
       "      <td>36.000679</td>\n",
       "      <td>36.000679</td>\n",
       "      <td>2.904848</td>\n",
       "    </tr>\n",
       "    <tr>\n",
       "      <th>76290</th>\n",
       "      <td>This</td>\n",
       "      <td>This/2</td>\n",
       "      <td>&lt;|endoftext|&gt;\\n|This| is</td>\n",
       "      <td>596</td>\n",
       "      <td>2</td>\n",
       "      <td>596/2</td>\n",
       "      <td>35.950863</td>\n",
       "      <td>35.950863</td>\n",
       "      <td>2.819380</td>\n",
       "    </tr>\n",
       "  </tbody>\n",
       "</table>\n",
       "</div>"
      ],
      "text/plain": [
       "       str_tokens unique_token  \\\n",
       "40595        This      This/19   \n",
       "33549        This      This/13   \n",
       "53424        This      This/48   \n",
       "28693        This      This/21   \n",
       "18174        This     This/126   \n",
       "88655        This      This/79   \n",
       "68906        This      This/42   \n",
       "81508        This     This/100   \n",
       "96352        This      This/96   \n",
       "113590       This      This/54   \n",
       "116628       This      This/20   \n",
       "41258        This      This/42   \n",
       "8970         This      This/10   \n",
       "1717         This      This/53   \n",
       "9652         This      This/52   \n",
       "46936        This      This/88   \n",
       "34264        This      This/88   \n",
       "55887        This      This/79   \n",
       "52686        This      This/78   \n",
       "86533        This       This/5   \n",
       "40162        This      This/98   \n",
       "55181        This      This/13   \n",
       "32593        This      This/81   \n",
       "41942        This      This/86   \n",
       "56813        This     This/109   \n",
       "74298        This      This/58   \n",
       "106091       This     This/107   \n",
       "63868        This     This/124   \n",
       "117621       This     This/117   \n",
       "76290        This       This/2   \n",
       "\n",
       "                                                context  batch  pos    label  \\\n",
       "40595                   academic literature.\\n\\n|This|,    317   19   317/19   \n",
       "33549                  every citizen.\\n\\n|This| article    262   13   262/13   \n",
       "53424                        search query.\\n\\n|This| is    417   48   417/48   \n",
       "28693                               �ites.\\n\\n|This| is    224   21   224/21   \n",
       "18174                               to work.\"\\n\\n|This|    141  126  141/126   \n",
       "88655               with 5 percent undecided.| This| is    692   79   692/79   \n",
       "68906                               ��s arms.| This| is    538   42   538/42   \n",
       "81508                  a mountain\".\\n\\n|This| evidently    636  100  636/100   \n",
       "96352                          ari said.\\n\\n|This| year    752   96   752/96   \n",
       "113590                     criminal code.\\n\\n|This| May    887   54   887/54   \n",
       "116628                  only person doing so.| This| is    911   20   911/20   \n",
       "41258                             of kriging.| This| is    322   42   322/42   \n",
       "8970                     perfectly to 3D.| This| Batman     70   10    70/10   \n",
       "1717                          even there.\\n\\n|This| was     13   53    13/53   \n",
       "9652            actually deeds of trust.| This| process     75   52    75/52   \n",
       "46936                          the Movies.��| This| was    366   88   366/88   \n",
       "34264                                .��\\n\\n|This| hard    267   88   267/88   \n",
       "55887                      45.8 billion.| This| article    436   79   436/79   \n",
       "52686                   the Rich Text Editor.| This| is    411   78   411/78   \n",
       "86533   <|endoftext|>HSR construction.| This| extension    676    5    676/5   \n",
       "40162         leaks in journalistic history.| This| has    313   98   313/98   \n",
       "55181          all the parts interchangeable.| This| is    431   13   431/13   \n",
       "32593                 Android, as well?| This| question    254   81   254/81   \n",
       "41942                     sheltered accounts.| This| is    327   86   327/86   \n",
       "56813             apparatus in the country.| This| will    443  109  443/109   \n",
       "74298                              ��s whole.| This| is    580   58   580/58   \n",
       "106091                   one possession.\\n\\n|This| game    828  107  828/107   \n",
       "63868           meetings later this month.| This| would    498  124  498/124   \n",
       "117621                a vision and policy.| This| would    918  117  918/117   \n",
       "76290                          <|endoftext|>\\n|This| is    596    2    596/2   \n",
       "\n",
       "              val       val1      val2  \n",
       "40595   41.937229  41.937229  1.094690  \n",
       "33549   41.799770  41.799770  1.875313  \n",
       "53424   40.419174  40.419174  1.086643  \n",
       "28693   40.028366  40.028366  2.845940  \n",
       "18174   39.188549  39.188549  4.416582  \n",
       "88655   38.682384  38.682384  0.011215  \n",
       "68906   38.680344  38.680344  1.351418  \n",
       "81508   38.573799  38.573799  0.353576  \n",
       "96352   38.561771  38.561771  3.267462  \n",
       "113590  38.256516  38.256516  1.771352  \n",
       "116628  38.204166  38.204166  1.145535  \n",
       "41258   37.850243  37.850243  0.000000  \n",
       "8970    37.279942  37.279942  1.733231  \n",
       "1717    37.049507  37.049507  1.415449  \n",
       "9652    37.022926  37.022926  0.452580  \n",
       "46936   37.000923  37.000923  0.000000  \n",
       "34264   36.934216  36.934216  2.396078  \n",
       "55887   36.903393  36.903393  2.167404  \n",
       "52686   36.775875  36.775875  0.000000  \n",
       "86533   36.719296  36.719296  2.625205  \n",
       "40162   36.671696  36.671696  0.974410  \n",
       "55181   36.668926  36.668926  0.789380  \n",
       "32593   36.656456  36.656456  2.975426  \n",
       "41942   36.515301  36.515301  0.970058  \n",
       "56813   36.506054  36.506054  0.019608  \n",
       "74298   36.343040  36.343040  0.000000  \n",
       "106091  36.269424  36.269424  0.997932  \n",
       "63868   36.267075  36.267075  1.636873  \n",
       "117621  36.000679  36.000679  2.904848  \n",
       "76290   35.950863  35.950863  2.819380  "
      ]
     },
     "metadata": {},
     "output_type": "display_data"
    },
    {
     "data": {
      "text/html": [
       "<div>\n",
       "<style scoped>\n",
       "    .dataframe tbody tr th:only-of-type {\n",
       "        vertical-align: middle;\n",
       "    }\n",
       "\n",
       "    .dataframe tbody tr th {\n",
       "        vertical-align: top;\n",
       "    }\n",
       "\n",
       "    .dataframe thead th {\n",
       "        text-align: right;\n",
       "    }\n",
       "</style>\n",
       "<table border=\"1\" class=\"dataframe\">\n",
       "  <thead>\n",
       "    <tr style=\"text-align: right;\">\n",
       "      <th></th>\n",
       "      <th>str_tokens</th>\n",
       "      <th>unique_token</th>\n",
       "      <th>context</th>\n",
       "      <th>batch</th>\n",
       "      <th>pos</th>\n",
       "      <th>label</th>\n",
       "      <th>val</th>\n",
       "      <th>val1</th>\n",
       "      <th>val2</th>\n",
       "    </tr>\n",
       "  </thead>\n",
       "  <tbody>\n",
       "    <tr>\n",
       "      <th>90132</th>\n",
       "      <td>this</td>\n",
       "      <td>this/20</td>\n",
       "      <td>subjected to an attack on| this| scale</td>\n",
       "      <td>704</td>\n",
       "      <td>20</td>\n",
       "      <td>704/20</td>\n",
       "      <td>0.000000</td>\n",
       "      <td>0.000000</td>\n",
       "      <td>25.313328</td>\n",
       "    </tr>\n",
       "    <tr>\n",
       "      <th>73814</th>\n",
       "      <td>this</td>\n",
       "      <td>this/86</td>\n",
       "      <td>we near a conclusion to| this| evaluation</td>\n",
       "      <td>576</td>\n",
       "      <td>86</td>\n",
       "      <td>576/86</td>\n",
       "      <td>2.233396</td>\n",
       "      <td>2.233396</td>\n",
       "      <td>24.943745</td>\n",
       "    </tr>\n",
       "    <tr>\n",
       "      <th>22199</th>\n",
       "      <td>this</td>\n",
       "      <td>this/55</td>\n",
       "      <td>rural and urban areas in| this| respect</td>\n",
       "      <td>173</td>\n",
       "      <td>55</td>\n",
       "      <td>173/55</td>\n",
       "      <td>0.654719</td>\n",
       "      <td>0.654719</td>\n",
       "      <td>23.604286</td>\n",
       "    </tr>\n",
       "    <tr>\n",
       "      <th>94766</th>\n",
       "      <td>this</td>\n",
       "      <td>this/46</td>\n",
       "      <td>the legislation to include in| this| database</td>\n",
       "      <td>740</td>\n",
       "      <td>46</td>\n",
       "      <td>740/46</td>\n",
       "      <td>0.000000</td>\n",
       "      <td>0.000000</td>\n",
       "      <td>23.482731</td>\n",
       "    </tr>\n",
       "    <tr>\n",
       "      <th>105736</th>\n",
       "      <td>this</td>\n",
       "      <td>this/8</td>\n",
       "      <td>publishers and exchanges centered on| this| last</td>\n",
       "      <td>826</td>\n",
       "      <td>8</td>\n",
       "      <td>826/8</td>\n",
       "      <td>2.496266</td>\n",
       "      <td>2.496266</td>\n",
       "      <td>23.411850</td>\n",
       "    </tr>\n",
       "    <tr>\n",
       "      <th>109204</th>\n",
       "      <td>this</td>\n",
       "      <td>this/20</td>\n",
       "      <td>on Twitter with comments on| this| nearly</td>\n",
       "      <td>853</td>\n",
       "      <td>20</td>\n",
       "      <td>853/20</td>\n",
       "      <td>4.136060</td>\n",
       "      <td>4.136060</td>\n",
       "      <td>23.355202</td>\n",
       "    </tr>\n",
       "    <tr>\n",
       "      <th>108427</th>\n",
       "      <td>this</td>\n",
       "      <td>this/11</td>\n",
       "      <td>are with those affected by| this| horrific</td>\n",
       "      <td>847</td>\n",
       "      <td>11</td>\n",
       "      <td>847/11</td>\n",
       "      <td>2.344148</td>\n",
       "      <td>2.344148</td>\n",
       "      <td>22.971230</td>\n",
       "    </tr>\n",
       "    <tr>\n",
       "      <th>121423</th>\n",
       "      <td>this</td>\n",
       "      <td>this/79</td>\n",
       "      <td>very little to do with| this| technology</td>\n",
       "      <td>948</td>\n",
       "      <td>79</td>\n",
       "      <td>948/79</td>\n",
       "      <td>0.000000</td>\n",
       "      <td>0.000000</td>\n",
       "      <td>22.868614</td>\n",
       "    </tr>\n",
       "    <tr>\n",
       "      <th>27384</th>\n",
       "      <td>this</td>\n",
       "      <td>this/120</td>\n",
       "      <td>a far bigger role in| this| election</td>\n",
       "      <td>213</td>\n",
       "      <td>120</td>\n",
       "      <td>213/120</td>\n",
       "      <td>0.000000</td>\n",
       "      <td>0.000000</td>\n",
       "      <td>22.755737</td>\n",
       "    </tr>\n",
       "    <tr>\n",
       "      <th>63950</th>\n",
       "      <td>this</td>\n",
       "      <td>this/78</td>\n",
       "      <td>The only other pages from| this| book</td>\n",
       "      <td>499</td>\n",
       "      <td>78</td>\n",
       "      <td>499/78</td>\n",
       "      <td>3.590360</td>\n",
       "      <td>3.590360</td>\n",
       "      <td>22.754097</td>\n",
       "    </tr>\n",
       "    <tr>\n",
       "      <th>41030</th>\n",
       "      <td>this</td>\n",
       "      <td>this/70</td>\n",
       "      <td>privacy can be respected at| this| time</td>\n",
       "      <td>320</td>\n",
       "      <td>70</td>\n",
       "      <td>320/70</td>\n",
       "      <td>0.000000</td>\n",
       "      <td>0.000000</td>\n",
       "      <td>22.627480</td>\n",
       "    </tr>\n",
       "    <tr>\n",
       "      <th>97509</th>\n",
       "      <td>this</td>\n",
       "      <td>this/101</td>\n",
       "      <td>are disgustingly biased on| this| issue</td>\n",
       "      <td>761</td>\n",
       "      <td>101</td>\n",
       "      <td>761/101</td>\n",
       "      <td>0.000000</td>\n",
       "      <td>0.000000</td>\n",
       "      <td>22.529991</td>\n",
       "    </tr>\n",
       "    <tr>\n",
       "      <th>120501</th>\n",
       "      <td>this</td>\n",
       "      <td>this/53</td>\n",
       "      <td>25,000 individuals in| this| business</td>\n",
       "      <td>941</td>\n",
       "      <td>53</td>\n",
       "      <td>941/53</td>\n",
       "      <td>4.284163</td>\n",
       "      <td>4.284163</td>\n",
       "      <td>22.343693</td>\n",
       "    </tr>\n",
       "    <tr>\n",
       "      <th>49468</th>\n",
       "      <td>this</td>\n",
       "      <td>this/60</td>\n",
       "      <td>a laptop could have vetted| this| preacher</td>\n",
       "      <td>386</td>\n",
       "      <td>60</td>\n",
       "      <td>386/60</td>\n",
       "      <td>3.669723</td>\n",
       "      <td>3.669723</td>\n",
       "      <td>22.262566</td>\n",
       "    </tr>\n",
       "    <tr>\n",
       "      <th>45113</th>\n",
       "      <td>this</td>\n",
       "      <td>this/57</td>\n",
       "      <td>stain on the face of| this| campus</td>\n",
       "      <td>352</td>\n",
       "      <td>57</td>\n",
       "      <td>352/57</td>\n",
       "      <td>0.000000</td>\n",
       "      <td>0.000000</td>\n",
       "      <td>22.228661</td>\n",
       "    </tr>\n",
       "    <tr>\n",
       "      <th>127167</th>\n",
       "      <td>this</td>\n",
       "      <td>this/63</td>\n",
       "      <td>, Roberts has belonged to| this| latter</td>\n",
       "      <td>993</td>\n",
       "      <td>63</td>\n",
       "      <td>993/63</td>\n",
       "      <td>1.070226</td>\n",
       "      <td>1.070226</td>\n",
       "      <td>22.204865</td>\n",
       "    </tr>\n",
       "    <tr>\n",
       "      <th>46703</th>\n",
       "      <td>this</td>\n",
       "      <td>this/111</td>\n",
       "      <td>To sustain the city in| this| difficult</td>\n",
       "      <td>364</td>\n",
       "      <td>111</td>\n",
       "      <td>364/111</td>\n",
       "      <td>0.000000</td>\n",
       "      <td>0.000000</td>\n",
       "      <td>22.169239</td>\n",
       "    </tr>\n",
       "    <tr>\n",
       "      <th>94207</th>\n",
       "      <td>this</td>\n",
       "      <td>this/127</td>\n",
       "      <td>said.The contents of| this|</td>\n",
       "      <td>735</td>\n",
       "      <td>127</td>\n",
       "      <td>735/127</td>\n",
       "      <td>7.467763</td>\n",
       "      <td>7.467763</td>\n",
       "      <td>22.139500</td>\n",
       "    </tr>\n",
       "    <tr>\n",
       "      <th>39144</th>\n",
       "      <td>this</td>\n",
       "      <td>this/104</td>\n",
       "      <td>shifts allow the losers from| this| arrangement</td>\n",
       "      <td>305</td>\n",
       "      <td>104</td>\n",
       "      <td>305/104</td>\n",
       "      <td>0.344043</td>\n",
       "      <td>0.344043</td>\n",
       "      <td>22.100697</td>\n",
       "    </tr>\n",
       "    <tr>\n",
       "      <th>125582</th>\n",
       "      <td>this</td>\n",
       "      <td>this/14</td>\n",
       "      <td>money to their account on| this| ledger</td>\n",
       "      <td>981</td>\n",
       "      <td>14</td>\n",
       "      <td>981/14</td>\n",
       "      <td>0.857646</td>\n",
       "      <td>0.857646</td>\n",
       "      <td>22.096157</td>\n",
       "    </tr>\n",
       "    <tr>\n",
       "      <th>32570</th>\n",
       "      <td>this</td>\n",
       "      <td>this/58</td>\n",
       "      <td>app store could help address| this| deficit</td>\n",
       "      <td>254</td>\n",
       "      <td>58</td>\n",
       "      <td>254/58</td>\n",
       "      <td>0.242040</td>\n",
       "      <td>0.242040</td>\n",
       "      <td>22.049366</td>\n",
       "    </tr>\n",
       "    <tr>\n",
       "      <th>56948</th>\n",
       "      <td>this</td>\n",
       "      <td>this/116</td>\n",
       "      <td>to Ratzinger for| this| reason</td>\n",
       "      <td>444</td>\n",
       "      <td>116</td>\n",
       "      <td>444/116</td>\n",
       "      <td>0.000000</td>\n",
       "      <td>0.000000</td>\n",
       "      <td>21.928520</td>\n",
       "    </tr>\n",
       "    <tr>\n",
       "      <th>68658</th>\n",
       "      <td>this</td>\n",
       "      <td>this/50</td>\n",
       "      <td>; even if only at| this| point</td>\n",
       "      <td>536</td>\n",
       "      <td>50</td>\n",
       "      <td>536/50</td>\n",
       "      <td>0.000000</td>\n",
       "      <td>0.000000</td>\n",
       "      <td>21.920570</td>\n",
       "    </tr>\n",
       "    <tr>\n",
       "      <th>51714</th>\n",
       "      <td>this</td>\n",
       "      <td>this/2</td>\n",
       "      <td>&lt;|endoftext|&gt; for| this| higher</td>\n",
       "      <td>404</td>\n",
       "      <td>2</td>\n",
       "      <td>404/2</td>\n",
       "      <td>2.995236</td>\n",
       "      <td>2.995236</td>\n",
       "      <td>21.907684</td>\n",
       "    </tr>\n",
       "    <tr>\n",
       "      <th>105987</th>\n",
       "      <td>this</td>\n",
       "      <td>this/3</td>\n",
       "      <td>&lt;|endoftext|&gt; theme in| this| matchup</td>\n",
       "      <td>828</td>\n",
       "      <td>3</td>\n",
       "      <td>828/3</td>\n",
       "      <td>3.563069</td>\n",
       "      <td>3.563069</td>\n",
       "      <td>21.825871</td>\n",
       "    </tr>\n",
       "    <tr>\n",
       "      <th>114438</th>\n",
       "      <td>this</td>\n",
       "      <td>this/6</td>\n",
       "      <td>way to contribute to solving| this| global</td>\n",
       "      <td>894</td>\n",
       "      <td>6</td>\n",
       "      <td>894/6</td>\n",
       "      <td>0.168353</td>\n",
       "      <td>0.168353</td>\n",
       "      <td>21.694065</td>\n",
       "    </tr>\n",
       "    <tr>\n",
       "      <th>40866</th>\n",
       "      <td>this</td>\n",
       "      <td>this/34</td>\n",
       "      <td>The government did look at| this| matter</td>\n",
       "      <td>319</td>\n",
       "      <td>34</td>\n",
       "      <td>319/34</td>\n",
       "      <td>1.862711</td>\n",
       "      <td>1.862711</td>\n",
       "      <td>21.681862</td>\n",
       "    </tr>\n",
       "    <tr>\n",
       "      <th>37123</th>\n",
       "      <td>this</td>\n",
       "      <td>this/3</td>\n",
       "      <td>&lt;|endoftext|&gt; now at| this| link</td>\n",
       "      <td>290</td>\n",
       "      <td>3</td>\n",
       "      <td>290/3</td>\n",
       "      <td>0.000000</td>\n",
       "      <td>0.000000</td>\n",
       "      <td>21.644035</td>\n",
       "    </tr>\n",
       "    <tr>\n",
       "      <th>4832</th>\n",
       "      <td>this</td>\n",
       "      <td>this/96</td>\n",
       "      <td>into Trump's antics in| this| post</td>\n",
       "      <td>37</td>\n",
       "      <td>96</td>\n",
       "      <td>37/96</td>\n",
       "      <td>1.670588</td>\n",
       "      <td>1.670588</td>\n",
       "      <td>21.640465</td>\n",
       "    </tr>\n",
       "    <tr>\n",
       "      <th>73748</th>\n",
       "      <td>this</td>\n",
       "      <td>this/20</td>\n",
       "      <td>��As part of| this| process</td>\n",
       "      <td>576</td>\n",
       "      <td>20</td>\n",
       "      <td>576/20</td>\n",
       "      <td>3.600911</td>\n",
       "      <td>3.600911</td>\n",
       "      <td>21.594723</td>\n",
       "    </tr>\n",
       "  </tbody>\n",
       "</table>\n",
       "</div>"
      ],
      "text/plain": [
       "       str_tokens unique_token  \\\n",
       "90132        this      this/20   \n",
       "73814        this      this/86   \n",
       "22199        this      this/55   \n",
       "94766        this      this/46   \n",
       "105736       this       this/8   \n",
       "109204       this      this/20   \n",
       "108427       this      this/11   \n",
       "121423       this      this/79   \n",
       "27384        this     this/120   \n",
       "63950        this      this/78   \n",
       "41030        this      this/70   \n",
       "97509        this     this/101   \n",
       "120501       this      this/53   \n",
       "49468        this      this/60   \n",
       "45113        this      this/57   \n",
       "127167       this      this/63   \n",
       "46703        this     this/111   \n",
       "94207        this     this/127   \n",
       "39144        this     this/104   \n",
       "125582       this      this/14   \n",
       "32570        this      this/58   \n",
       "56948        this     this/116   \n",
       "68658        this      this/50   \n",
       "51714        this       this/2   \n",
       "105987       this       this/3   \n",
       "114438       this       this/6   \n",
       "40866        this      this/34   \n",
       "37123        this       this/3   \n",
       "4832         this      this/96   \n",
       "73748        this      this/20   \n",
       "\n",
       "                                                  context  batch  pos  \\\n",
       "90132              subjected to an attack on| this| scale    704   20   \n",
       "73814           we near a conclusion to| this| evaluation    576   86   \n",
       "22199             rural and urban areas in| this| respect    173   55   \n",
       "94766       the legislation to include in| this| database    740   46   \n",
       "105736   publishers and exchanges centered on| this| last    826    8   \n",
       "109204          on Twitter with comments on| this| nearly    853   20   \n",
       "108427         are with those affected by| this| horrific    847   11   \n",
       "121423           very little to do with| this| technology    948   79   \n",
       "27384                a far bigger role in| this| election    213  120   \n",
       "63950               The only other pages from| this| book    499   78   \n",
       "41030             privacy can be respected at| this| time    320   70   \n",
       "97509             are disgustingly biased on| this| issue    761  101   \n",
       "120501              25,000 individuals in| this| business    941   53   \n",
       "49468          a laptop could have vetted| this| preacher    386   60   \n",
       "45113                  stain on the face of| this| campus    352   57   \n",
       "127167            , Roberts has belonged to| this| latter    993   63   \n",
       "46703             To sustain the city in| this| difficult    364  111   \n",
       "94207                         said.The contents of| this|    735  127   \n",
       "39144     shifts allow the losers from| this| arrangement    305  104   \n",
       "125582            money to their account on| this| ledger    981   14   \n",
       "32570         app store could help address| this| deficit    254   58   \n",
       "56948                      to Ratzinger for| this| reason    444  116   \n",
       "68658                      ; even if only at| this| point    536   50   \n",
       "51714                     <|endoftext|> for| this| higher    404    2   \n",
       "105987              <|endoftext|> theme in| this| matchup    828    3   \n",
       "114438         way to contribute to solving| this| global    894    6   \n",
       "40866            The government did look at| this| matter    319   34   \n",
       "37123                    <|endoftext|> now at| this| link    290    3   \n",
       "4832                   into Trump's antics in| this| post     37   96   \n",
       "73748                         ��As part of| this| process    576   20   \n",
       "\n",
       "          label       val      val1       val2  \n",
       "90132    704/20  0.000000  0.000000  25.313328  \n",
       "73814    576/86  2.233396  2.233396  24.943745  \n",
       "22199    173/55  0.654719  0.654719  23.604286  \n",
       "94766    740/46  0.000000  0.000000  23.482731  \n",
       "105736    826/8  2.496266  2.496266  23.411850  \n",
       "109204   853/20  4.136060  4.136060  23.355202  \n",
       "108427   847/11  2.344148  2.344148  22.971230  \n",
       "121423   948/79  0.000000  0.000000  22.868614  \n",
       "27384   213/120  0.000000  0.000000  22.755737  \n",
       "63950    499/78  3.590360  3.590360  22.754097  \n",
       "41030    320/70  0.000000  0.000000  22.627480  \n",
       "97509   761/101  0.000000  0.000000  22.529991  \n",
       "120501   941/53  4.284163  4.284163  22.343693  \n",
       "49468    386/60  3.669723  3.669723  22.262566  \n",
       "45113    352/57  0.000000  0.000000  22.228661  \n",
       "127167   993/63  1.070226  1.070226  22.204865  \n",
       "46703   364/111  0.000000  0.000000  22.169239  \n",
       "94207   735/127  7.467763  7.467763  22.139500  \n",
       "39144   305/104  0.344043  0.344043  22.100697  \n",
       "125582   981/14  0.857646  0.857646  22.096157  \n",
       "32570    254/58  0.242040  0.242040  22.049366  \n",
       "56948   444/116  0.000000  0.000000  21.928520  \n",
       "68658    536/50  0.000000  0.000000  21.920570  \n",
       "51714     404/2  2.995236  2.995236  21.907684  \n",
       "105987    828/3  3.563069  3.563069  21.825871  \n",
       "114438    894/6  0.168353  0.168353  21.694065  \n",
       "40866    319/34  1.862711  1.862711  21.681862  \n",
       "37123     290/3  0.000000  0.000000  21.644035  \n",
       "4832      37/96  1.670588  1.670588  21.640465  \n",
       "73748    576/20  3.600911  3.600911  21.594723  "
      ]
     },
     "metadata": {},
     "output_type": "display_data"
    }
   ],
   "source": [
    "import  neel.utils as nutils\n",
    "feature_id = 2271\t\n",
    "token_df[\"val1\"] = (feature_acts[:, feature_id]).detach().cpu().numpy()\n",
    "feature_id = 2158\t\n",
    "token_df[\"val2\"] = (feature_acts[:, feature_id]).detach().cpu().numpy()\n",
    "pd.set_option('display.max_rows', 50)\n",
    "display(token_df.sort_values(\"val1\", ascending=False).head(30))\n",
    "display(token_df.sort_values(\"val2\", ascending=False).head(30))"
   ]
  },
  {
   "cell_type": "code",
   "execution_count": 119,
   "metadata": {},
   "outputs": [
    {
     "data": {
      "application/vnd.plotly.v1+json": {
       "config": {
        "plotlyServerURL": "https://plot.ly"
       },
       "data": [
        {
         "customdata": [
          [
           " which",
           "<|endoftext|>| which| had"
          ],
          [
           " every",
           " as they're used in| every| shop"
          ],
          [
           " this",
           " the courage to jump off| this| one"
          ],
          [
           " that",
           " work our way over to| that| one"
          ],
          [
           " that",
           " pulls the ball, and| that|'s"
          ],
          [
           " this",
           "0 against unranked opponents| this| season"
          ],
          [
           " this",
           " outscored its opponents| this| season"
          ],
          [
           " The",
           "-degree VR environment.| The| CES"
          ],
          [
           "These",
           " visual experience.\n\n|These| —"
          ],
          [
           "This",
           " even there.\n\n|This| was"
          ],
          [
           " this",
           " my attention that he posted| this| photo"
          ],
          [
           " this",
           ": ��Had ordered| this| suit"
          ],
          [
           " every",
           "<|endoftext|> changes the behavior of| every| single"
          ],
          [
           " the",
           " part of the kernel with| the| option"
          ],
          [
           " this",
           "based approach. I wrote| this| wrapper"
          ],
          [
           " that",
           " Then whatever the answer to| that| question"
          ],
          [
           " that",
           " to that question is,| that| will"
          ],
          [
           " it",
           " are just as contaminated by| it| all"
          ],
          [
           " that",
           " the size challenge. But| that| stereotypical"
          ],
          [
           " this",
           " needed a pit bull in| this| neighborhood"
          ],
          [
           " this",
           "od compound in Portland,| this| one"
          ],
          [
           "This",
           " salad tomorrow.\n\n|This| post"
          ],
          [
           " these",
           " or other issues. Sometimes| these| unsc"
          ],
          [
           " this",
           "<|endoftext|> reform on Capitol Hill| this| year"
          ],
          [
           " this",
           " what he says. In| this| example"
          ],
          [
           " this",
           " problem with doing that in| this| game"
          ],
          [
           "That",
           " Cup.\n\n\"|That| music"
          ],
          [
           " this",
           " we answered what was behind| this| big"
          ],
          [
           " these",
           " supporters apparently wanted to ensure| these| women"
          ],
          [
           " an",
           " using Genius. To see| an| annotation"
          ],
          [
           " this",
           " into Trump's antics in| this| post"
          ],
          [
           " that",
           " (as I'll save| that| for"
          ],
          [
           "This",
           " release.\n\n\"|This| is"
          ],
          [
           "This",
           " explained.\n\n\"|This| is"
          ],
          [
           " this",
           ", philosophers of science believe| this| now"
          ],
          [
           " This",
           " in a physics textbook.| This| is"
          ],
          [
           " this",
           " start teaching again and all| this| stuff"
          ],
          [
           " this",
           " now just locked in to| this| other"
          ],
          [
           " other",
           " just locked in to this| other| ["
          ],
          [
           " this",
           " Council approved the increase earlier| this| month"
          ],
          [
           " this",
           " Cheetahs have adopted| this| playing"
          ],
          [
           " this",
           " the past year. Despite| this|,"
          ],
          [
           " this",
           "<|endoftext|>��| this| assessment"
          ],
          [
           " the",
           " since Shelf Awareness broke| the| story"
          ],
          [
           " this",
           "<|endoftext|>| this| site"
          ],
          [
           " the",
           " to settle before I begin| the| next"
          ],
          [
           " that",
           " currently wrapping up, but| that| was"
          ],
          [
           " first",
           " hundreds of thousands. The| first| smarter"
          ],
          [
           " this",
           " not difficult to recognise in| this| lovely"
          ],
          [
           " This",
           " explain, not confuse.| This| time"
          ],
          [
           " that",
           " from Canada. Okay,| that|'s"
          ],
          [
           " this",
           " quark matter. In| this| case"
          ],
          [
           " this",
           " stabilize itself and survive in| this| state"
          ],
          [
           " this",
           " A-type star in| this| hypothetical"
          ],
          [
           " that",
           " for us to accentuate| that|."
          ],
          [
           "This",
           " 14, 1990) (|This| episode"
          ],
          [
           " This",
           " perfectly to 3D.| This| Batman"
          ],
          [
           " similar",
           " Sweden at risk of a| similar| outcome"
          ],
          [
           " this",
           " war? Well, consider| this|:"
          ],
          [
           " the",
           " up to level < entering| the| circle"
          ],
          [
           " This",
           " actually deeds of trust.| This| process"
          ],
          [
           " This",
           "as elaborated upon below).| This| process"
          ],
          [
           " few",
           " never looked back. A| few| times"
          ],
          [
           " this",
           "<|endoftext|>| this| process"
          ],
          [
           " it",
           "\nFor those who saw| it| more"
          ],
          [
           "This",
           " not shown).\n\n|This| report"
          ],
          [
           " present",
           " lectin isolated in the| present| investigation"
          ],
          [
           " this",
           " unlike the previous two,| this| article"
          ],
          [
           " following",
           "end parts that cover the| following| main"
          ],
          [
           " it",
           "If you want to try| it| by"
          ],
          [
           " this",
           " and MySQL running to build| this| chart"
          ],
          [
           " this",
           "ob chasing their food sources| this| direction"
          ],
          [
           "Another",
           " this direction.\n\n|Another| big"
          ],
          [
           " this",
           " Oregon coast had never seen| this| before"
          ],
          [
           " these",
           " still don't know why| these| Dol"
          ],
          [
           " it",
           " \"complete agreement\" with| it|,"
          ],
          [
           " this",
           " lame! Lets deal with| this| but"
          ],
          [
           " This",
           "� in.��| This| one"
          ],
          [
           " every",
           " for your pursuit to express| every| moment"
          ],
          [
           " this",
           " 53% of workers citing| this|:"
          ],
          [
           " The",
           " Charitable Trusts.| The| same"
          ],
          [
           " same",
           "itable Trusts. The| same| is"
          ],
          [
           " That",
           " other kinds of engineering.| That| means"
          ],
          [
           " this",
           " who thinks we can move| this| economy"
          ],
          [
           " this",
           " didn��t come| this| far"
          ],
          [
           " these",
           " Byne. Together,| these| two"
          ],
          [
           " Each",
           " Monday, November 29.| Each| of"
          ],
          [
           " this",
           "ona said, \"At| this| time"
          ],
          [
           " Which",
           " toy for my puppy!| Which| he"
          ],
          [
           " this",
           " adore!\n\nAnd| this| is"
          ],
          [
           " This",
           "driver/torch!| This| is"
          ],
          [
           " this",
           "th's screwdriver so| this| will"
          ],
          [
           " each",
           " civil liberties protections differ in| each| of"
          ],
          [
           " this",
           " and pastoral. I write| this| because"
          ],
          [
           " this",
           " reasonable manner. He shares| this| temperament"
          ],
          [
           " another",
           "ff accessed, and deployed| another| that"
          ],
          [
           "This",
           "-116):\n\n|This| had"
          ],
          [
           " this",
           " see (for example)| this| or"
          ],
          [
           " this",
           "for example) this or| this| from"
          ],
          [
           " these",
           " could be altered by manipulating| these| metabolic"
          ],
          [
           "Similar",
           " cells.\n\n\"|Similar| control"
          ],
          [
           " this",
           "It is detailed information like| this| that"
          ],
          [
           " this",
           "; economic models often work| this| way"
          ],
          [
           " that",
           "-school mathematics. But| that|"
          ],
          [
           " that",
           " people who want to do| that|,"
          ],
          [
           " It",
           " that, I think.| It|�"
          ],
          [
           " this",
           " leaders were failing to show| this|."
          ],
          [
           " These",
           " sticking with the process.| These| people"
          ],
          [
           " this",
           " up to 500 less shots| this| season"
          ],
          [
           " that",
           " If he were to achieve| that| feat"
          ],
          [
           "This",
           " anul trecut.|This| is"
          ],
          [
           " is",
           "ul trecut.This| is| the"
          ],
          [
           " These",
           " to rig the election.| These| outrageous"
          ],
          [
           " which",
           "<|endoftext|>| which| have"
          ],
          [
           " This",
           " ranks up your Team.| This| is"
          ],
          [
           " this",
           " is and attempt to justify| this| by"
          ],
          [
           " This",
           " insight to the leader.| This| may"
          ],
          [
           " this",
           " the same. So in| this| context"
          ],
          [
           " [",
           " kuutsinaruti| [|ku"
          ],
          [
           " [",
           "� atigitsaq| [|a"
          ],
          [
           " that",
           ", the ranking Democrat on| that| panel"
          ],
          [
           "This",
           " to work.\"\n\n|This|"
          ],
          [
           " Cheong",
           " is that of suspense.| Cheong| ("
          ],
          [
           "That",
           " tax bill.\n\n|That|'s"
          ],
          [
           "The",
           " been removed.\n\n|The| very"
          ],
          [
           " this",
           "<|endoftext|>2 percent| this| year"
          ],
          [
           " few",
           " stood shocked nearby. A| few| away"
          ],
          [
           " these",
           " to praise the commitment of| these| Isles"
          ],
          [
           " this",
           "�t want to do| this| because"
          ],
          [
           " that",
           "�t wanna deal with| that| it"
          ],
          [
           " that",
           ":\n\nWell,| that| was"
          ],
          [
           " this",
           " Clinton-Trump debate,| this| one"
          ],
          [
           " these",
           " in a way used by| these| people"
          ],
          [
           " this",
           " who are paid to organize| this| fraud"
          ],
          [
           " This",
           " to connect the dots.| This| was"
          ],
          [
           " this",
           "<|endoftext|>| this| form"
          ],
          [
           " first",
           "<|endoftext|>.\n\nThe| first| formally"
          ],
          [
           "One",
           " a machine.\n\n|One|"
          ],
          [
           " or",
           " any individual member what he| or| she"
          ],
          [
           " This",
           " Spence.��| This| is"
          ],
          [
           " thought",
           " Design is a school of| thought| which"
          ],
          [
           " this",
           " sides of his mouth about| this| signature"
          ],
          [
           "these",
           ", hormones, stress—|these| are"
          ],
          [
           " this",
           " So it could be that| this| is"
          ],
          [
           " this",
           " weather—is she on| this| medication"
          ],
          [
           " these",
           "\n\n'We knew| these| different"
          ],
          [
           "The",
           " educational infrastructure.\n\n|The| situation"
          ],
          [
           " same",
           " Mediafax reported. The| same| document"
          ],
          [
           " this",
           " rural and urban areas in| this| respect"
          ],
          [
           " this",
           " rural areas are confronted with| this| situation"
          ],
          [
           " situation",
           " areas are confronted with this| situation|,"
          ],
          [
           "The",
           " in cities.\n\n|The| absence"
          ],
          [
           " that",
           " end of her fight with| that| psychopath"
          ],
          [
           " these",
           " an internationally recognized authority on| these| matters"
          ],
          [
           " That",
           " in the default settings.| That| made"
          ],
          [
           "Another",
           " web interface.\n\n|Another| set"
          ],
          [
           " this",
           " most successful fishing captains understood| this| migr"
          ],
          [
           " current",
           " phase, water temperature,| current| direction"
          ],
          [
           " that",
           "d always start out in| that| weakened"
          ],
          [
           " this",
           "<|endoftext|> of| this| issue"
          ],
          [
           " another",
           " All-Star money or| another| family"
          ],
          [
           " these",
           " \"always white people putting| these| things"
          ],
          [
           " this",
           " and try to get him| this| win"
          ],
          [
           "Last",
           "kin said. ��|Last| two"
          ],
          [
           " this",
           " out. In some ways| this| may"
          ],
          [
           " these",
           " the best ways to obtain| these| cards"
          ],
          [
           " last",
           "\n\nIt started the| last| Wednesday"
          ],
          [
           " a",
           " energy had to withstand such| a| w"
          ],
          [
           "This",
           "' and said, '|This| election"
          ],
          [
           " this",
           " Ready For Hillary, tweeted| this| picture"
          ],
          [
           " The",
           " opposed to paper ballots.| The| study"
          ],
          [
           " this",
           " been hacked, but indicated| this| was"
          ],
          [
           "This",
           " Maple Leafs, 2.|This| is"
          ],
          [
           " this",
           " technical details that went into| this|,"
          ],
          [
           "This",
           " time.\n\n\"|This| is"
          ],
          [
           " impact",
           " always shown that our broader| impact| —"
          ],
          [
           " this",
           " a far bigger role in| this| election"
          ],
          [
           " election",
           " far bigger role in this| election|.\""
          ],
          [
           " these",
           " and the girls are certain| these| three"
          ],
          [
           " this",
           " sectarian strife that continues to| this| day"
          ],
          [
           " these",
           " Pictures 36 Pictures All of| these| celebrities"
          ],
          [
           " These",
           " More picture galleries 16 Pictures| These| photos"
          ],
          [
           " this",
           " expected outcomes in core subjects| this| year"
          ],
          [
           " this",
           " to 3.8%| this| year"
          ],
          [
           " These",
           " access journal PLoS One.| These| findings"
          ],
          [
           " it",
           " not only moved out of| it| to"
          ],
          [
           " much",
           " out of it to settle| much| of"
          ],
          [
           " these",
           " to trace the movement of| these|"
          ],
          [
           " this",
           "The other major force in| this| area"
          ],
          [
           "This",
           "�ites.\n\n|This| is"
          ],
          [
           " this",
           " of gas supplies. Is| this| not"
          ],
          [
           " This",
           " put things in proportion.| This| is"
          ],
          [
           " following",
           " Zealanders which of the| following| statements"
          ],
          [
           " this",
           " life, but God guided| this| process"
          ],
          [
           " this",
           " God had no part in| this| process"
          ],
          [
           " this",
           " was finally published in May| this| year"
          ],
          [
           " that",
           " suicide almost robbed her of| that| bright"
          ],
          [
           " This",
           "\n\n*Correction:| This| article"
          ],
          [
           " These",
           " reduce your carbon footprint.| These| are"
          ],
          [
           " that",
           " Goldstein should consider giving up| that| luxury"
          ],
          [
           " this",
           " like I want I want| this| to"
          ],
          [
           " this",
           " the trick\n\nto| this| Oh"
          ],
          [
           "Last",
           "He added: ��|Last| night"
          ],
          [
           " this",
           " God is trying to make| this| so"
          ],
          [
           " that",
           "�� himself to beat| that| one"
          ],
          [
           " that",
           " doesn��t do| that| nothing"
          ],
          [
           " this",
           "kegaard too had diagnosed| this| particular"
          ],
          [
           " particular",
           "gaard too had diagnosed this| particular| form"
          ],
          [
           " these",
           " took over in 2010 and| these| MPs"
          ],
          [
           " this",
           " you have a hand in| this|."
          ],
          [
           " the",
           "acey Crouch also received| the| letter"
          ],
          [
           " offence",
           "<|endoftext|> an indictable| offence|."
          ],
          [
           " this",
           " See Backtalk interview in| this| issue"
          ],
          [
           " this",
           " competition in Paris. But| this| Israeli"
          ],
          [
           " That",
           " was 8 months old.| That| means"
          ],
          [
           " same",
           " means she developed prematurely,| same| thing"
          ],
          [
           " that",
           " once or twice, but| that| decision"
          ],
          [
           " this",
           " second T-Rex,| this| one"
          ],
          [
           " this",
           "To see the reefs change| this| dramatically"
          ],
          [
           "This",
           ".\n\n��|This| intense"
          ],
          [
           " intense",
           "\n\n��This| intense| heat"
          ],
          [
           " this",
           "�To our knowledge,| this| is"
          ],
          [
           " this",
           " app store could help address| this| deficit"
          ],
          [
           " This",
           " Android, as well?| This| question"
          ],
          [
           " every",
           " player a +2 to| every| subsequent"
          ],
          [
           " It",
           "<|endoftext|>friendly electorate.| It|'s"
          ],
          [
           " that",
           " counterparts elsewhere to reach for| that| option"
          ],
          [
           " these",
           ". Unfortunately, many of| these| things"
          ],
          [
           " every",
           " agencies abilities to listen to| every| citizen"
          ],
          [
           "This",
           " every citizen.\n\n|This| article"
          ],
          [
           " this",
           " permission to republish| this| article"
          ],
          [
           " this",
           " justifying-piracy post from| this| morning"
          ],
          [
           " this",
           "d like to expand on| this| part"
          ],
          [
           " video",
           " does not support HTML5| video| tag"
          ],
          [
           " this",
           "t know actually, maybe| this| would"
          ],
          [
           "Last",
           " for change.\n\n|Last|"
          ],
          [
           " this",
           "��\n\nFrom| this| recent"
          ],
          [
           " recent",
           "�\n\nFrom this| recent| hearing"
          ],
          [
           " this",
           " in Florida. Many believe| this| is"
          ],
          [
           " another",
           " Many believe this is yet| another| sign"
          ],
          [
           " this",
           " the more we saw that| this| game"
          ],
          [
           " These",
           " a big rework.| These| past"
          ],
          [
           " this",
           " groundwork to make sure that| this| game"
          ],
          [
           "This",
           ".��\n\n|This| hard"
          ],
          [
           " work",
           "�\n\nThis hard| work| paid"
          ],
          [
           " next",
           " and Lai discussed their| next| move"
          ],
          [
           " this",
           "A little birdie gave| this| to"
          ],
          [
           " this",
           "ie gave this to us| this| morning"
          ],
          [
           " these",
           " They are a bit hot| these| days"
          ],
          [
           " this",
           " exchange.\n\nBut| this| is"
          ],
          [
           " following",
           "<|endoftext|>\n\nThe| following| is"
          ],
          [
           " this",
           " average, caloric intakes on| this| diet"
          ],
          [
           " this",
           " dietary fat. Obviously,| this| will"
          ],
          [
           " that",
           "\nSo with all of| that| in"
          ],
          [
           " this",
           " charge of curating all| this| video"
          ],
          [
           " These",
           " used in law enforcement.| These| are"
          ],
          [
           " this",
           "\n\"We fully retract| this| paper"
          ],
          [
           " that",
           " a decision and improve on| that| decision"
          ],
          [
           " different",
           " your previous decisions were a| different| beings"
          ],
          [
           " this",
           " fit in. So in| this| quarterback"
          ],
          [
           " this",
           " quarterbacks likely to be in| this| year"
          ],
          [
           " that",
           " I start growing curious of| that| L"
          ],
          [
           " this",
           ". I do not mean| this| as"
          ],
          [
           " these",
           " gear is designed to take| these| loads"
          ],
          [
           " result",
           " the touchdown. The end| result| was"
          ],
          [
           " this",
           "Hare International airport earlier| this| year"
          ],
          [
           " this",
           "<|endoftext|> now at| this| link"
          ],
          [
           "The",
           "f reports.\n\n|The| activists"
          ],
          [
           " This",
           " get a second serve .| This| is"
          ],
          [
           "The",
           " William Jennings.\n\n|The| company"
          ],
          [
           " this",
           "<|endoftext|> much she loves| this| man"
          ],
          [
           " That",
           "��t able.| That|"
          ],
          [
           "That",
           ",\" he says. \"|That| takes"
          ],
          [
           " That",
           " part of your salary.| That|�"
          ],
          [
           " Another",
           " schemes in the country.| Another| $"
          ],
          [
           " this",
           " And in defence of all| this|,"
          ],
          [
           " that",
           " hiding in plain sight behind| that|,"
          ],
          [
           "Last",
           "�� he added.|Last| week"
          ],
          [
           " this",
           " school and college and announced| this| summer"
          ],
          [
           " last",
           " online in China. During| last| year"
          ],
          [
           "This",
           " 60 ]−\n\n|This| salt"
          ],
          [
           " deciding",
           " Internet access has become a| deciding| factor"
          ],
          [
           " this",
           "��I feel like| this| is"
          ],
          [
           " this",
           " in public, especially for| this|."
          ],
          [
           " that",
           " income growth. In aggregate| that| decision"
          ],
          [
           " second",
           "al consequences. And the| second| era"
          ],
          [
           " this",
           " shifts allow the losers from| this| arrangement"
          ],
          [
           " this",
           " been in a relationship with| this| woman"
          ],
          [
           " this",
           " about spending the next year| this|"
          ],
          [
           "Last",
           " pollinators.\n\n|Last| year"
          ],
          [
           " this",
           " restricted to talk. Earlier| this| week"
          ],
          [
           " that",
           " says. ��At| that| time"
          ],
          [
           "This",
           " was like, ��|This| kid"
          ],
          [
           " this",
           " similar wiretap order earlier| this| year"
          ],
          [
           " this",
           " banking blockade against WikiLeaks download| this| PDF"
          ],
          [
           " This",
           " leaks in journalistic history.| This| has"
          ],
          [
           " that",
           "�� before, but| that|�"
          ],
          [
           "This",
           " academic literature.\n\n|This|,"
          ],
          [
           " this",
           "The government did look at| this| matter"
          ],
          [
           " this",
           " 883 suspects. To| this| day"
          ],
          [
           " this",
           " privacy can be respected at| this| time"
          ],
          [
           " this",
           "The New York Post reported| this| week"
          ],
          [
           " this",
           " were warming faster, and| this| was"
          ],
          [
           " This",
           " of kriging.| This| is"
          ],
          [
           " is",
           " kriging. This| is| a"
          ],
          [
           " this",
           " right way to look at| this| is"
          ],
          [
           " Every",
           " be much more local.| Every| missing"
          ],
          [
           " each",
           " the 1999 Tour – but| each| passing"
          ],
          [
           " this",
           " but each passing day sees| this| time"
          ],
          [
           " these",
           "I always like to end| these| updates"
          ],
          [
           " this",
           " discussion about interest. All| this| talk"
          ],
          [
           " That",
           " the most important number.| That| continues"
          ],
          [
           " This",
           "sheltered accounts.| This| is"
          ],
          [
           " our",
           " vegan casseroles to| our| Daily"
          ],
          [
           " These",
           " to take one example.| These| tend"
          ],
          [
           " This",
           " bed for the night.| This| can"
          ],
          [
           " this",
           " not correct Daudi on| this| point"
          ],
          [
           " It",
           " and never ending faith.| It| is"
          ],
          [
           " that",
           " at a level equal to| that| of"
          ],
          [
           " That",
           " for white American households.| That| means"
          ],
          [
           " that",
           " Hispanics. My friends,| that| gap"
          ],
          [
           " this",
           " slob? Consider building| this| food"
          ],
          [
           " This",
           " RAST dresser.| This| hacker"
          ],
          [
           " this",
           " What is at stake in| this| contest"
          ],
          [
           " these",
           " all manufacturers to offer together| these| technically"
          ],
          [
           " these",
           " Office of Aviation to make| these| safety"
          ],
          [
           " this",
           " stain on the face of| this| campus"
          ],
          [
           "One",
           " protective orders.\n\n|One| taken"
          ],
          [
           " This",
           " health associations and correlations.| This| led"
          ],
          [
           " these",
           " initially not able to reproduce| these| effects"
          ],
          [
           " these",
           "<|endoftext|>AM has uncovered| these| overdoses"
          ],
          [
           " that",
           "\n\nSo I did| that|"
          ],
          [
           " this",
           "To sustain the city in| this| difficult"
          ],
          [
           " difficult",
           " sustain the city in this| difficult| site"
          ],
          [
           " this",
           " to make our theme for| this| issue"
          ],
          [
           " This",
           " the Movies.��| This| was"
          ],
          [
           " that",
           " the ball was out by| that| much"
          ],
          [
           " so",
           " scorn, as they did| so|."
          ],
          [
           " this",
           " level of past players on| this| roster"
          ],
          [
           " this",
           " Steve Ballmer – If| this| Microsoft"
          ],
          [
           " here",
           "\nTake two key provisions| here|,"
          ],
          [
           " US",
           ".3 1.07| US| Platinum"
          ],
          [
           " this",
           ". As things stand,| this| constitutes"
          ],
          [
           " whole",
           " developmental learning disabilities, the| whole| process"
          ],
          [
           " Such",
           " used to test drugs.| Such| organ"
          ],
          [
           " this",
           ":\n\nWe hope| this| work"
          ],
          [
           "Such",
           " vivo systems.\n\n|Such| 3"
          ],
          [
           " The",
           " conduct biomedical research worldwide.| The| NC"
          ],
          [
           " this",
           " a laptop could have vetted| this| preacher"
          ],
          [
           "One",
           " something else).\n\n|One| rum"
          ],
          [
           " This",
           " the flat ones bounce.| This| has"
          ],
          [
           " One",
           " filed as a result.| One| by"
          ],
          [
           " this",
           ", or he's doing| this| because"
          ],
          [
           " this",
           " And the latest evidence of| this| comes"
          ],
          [
           " each",
           " do than wail on| each| other"
          ],
          [
           " that",
           " defense and Cover 3 at| that|."
          ],
          [
           " That",
           " Cover 3 at that.| That|�"
          ],
          [
           " these",
           ", the benefit with scouting| these|"
          ],
          [
           " this",
           "ine Chiou contributed to| this| report"
          ],
          [
           " this",
           " believe the official word at| this| point"
          ],
          [
           " this",
           " be too painful to see| this| beautiful"
          ],
          [
           " beautiful",
           " too painful to see this| beautiful| device"
          ],
          [
           " This",
           "\nBefore We Broke| This| Story"
          ],
          [
           " last",
           " of runs. Like the| last| time"
          ],
          [
           " these",
           " be examining the trends of| these| factors"
          ],
          [
           " us",
           " your tickets now! Like| us| on"
          ],
          [
           "More",
           " FAQ's.\n\n|More| rewards"
          ],
          [
           " this",
           "<|endoftext|> for| this| higher"
          ],
          [
           " that",
           " atheists have no trouble with| that|,"
          ],
          [
           " reverse",
           " bullying – is that the| reverse| is"
          ],
          [
           " This",
           " and get up field.| This| is"
          ],
          [
           " this",
           " a lot of play in| this| way"
          ],
          [
           " this",
           " offer. In view of| this|,"
          ],
          [
           " that",
           "red in the stomach of| that| f"
          ],
          [
           " this",
           " opt for the isolation of| this| rust"
          ],
          [
           " this",
           " love in the embrace of| this| venom"
          ],
          [
           " these",
           " Moreover, the law in| these| societies"
          ],
          [
           " This",
           " the Rich Text Editor.| This| is"
          ],
          [
           "This",
           " GPL one:\n\n|This| is"
          ],
          [
           " is",
           " one:\n\nThis| is| a"
          ],
          [
           " this",
           " City at the end of| this| month"
          ],
          [
           " That",
           "000 lines of code.| That| code"
          ],
          [
           " this",
           "ie made it clear that| this| was"
          ],
          [
           "This",
           " search query.\n\n|This| is"
          ],
          [
           " and",
           " be adapted to both salty| and| fresh"
          ],
          [
           " that",
           " sort them all based on| that| risk"
          ],
          [
           "Which",
           " be offered.\n\n|Which| projects"
          ],
          [
           " whole",
           ", no problem.\" The| whole| time"
          ],
          [
           " that",
           " about half that. Besides| that| the"
          ],
          [
           "Next",
           " or so.\n\n|Next| to"
          ],
          [
           " this",
           "al, which looks like| this|."
          ],
          [
           " this",
           "\n\nThe key to| this| family"
          ],
          [
           " This",
           " looks absolutely effortless.| This| is"
          ],
          [
           " this",
           " here's what Dawson said| this| week"
          ],
          [
           " that",
           " Dawson said this week about| that| fight"
          ],
          [
           " It",
           " way that they did.| It|'s"
          ],
          [
           " these",
           " and grew to represent,| these| three"
          ],
          [
           " three",
           " grew to represent, these| three| players"
          ],
          [
           " This",
           " all the parts interchangeable.| This| is"
          ],
          [
           " that",
           "t know the answer to| that| question"
          ],
          [
           " this",
           "ve still got to give| this| production"
          ],
          [
           " This",
           "45.8 billion.| This| article"
          ],
          [
           " these",
           " timelines continue to slip,| these| 2"
          ],
          [
           " that",
           "<|endoftext|> residents who live in| that| area"
          ],
          [
           " this",
           " High Holidays, and| this| disrupt"
          ],
          [
           " This",
           " apparatus in the country.| This| will"
          ],
          [
           " this",
           " to Ratzinger for| this| reason"
          ],
          [
           " that",
           " people, is also from| that| state"
          ],
          [
           " this",
           " side, has spotlighted| this| destination"
          ],
          [
           " that",
           ", really make something of| that| inspiration"
          ],
          [
           "That",
           ",\" Page said. \"|That| goes"
          ],
          [
           " This",
           "-bet for value.| This| leads"
          ],
          [
           " this",
           "agh's minutes are up| this| season"
          ],
          [
           " This",
           "-bits of data.| This| is"
          ],
          [
           " result",
           "796fb\n\nThe| result| is"
          ],
          [
           " here",
           "s only getting better from| here|."
          ],
          [
           " this",
           " of my 23 years,| this| is"
          ],
          [
           " Each",
           "<|endoftext|> be aware of.| Each| actor"
          ],
          [
           " this",
           ". An example of where| this| can"
          ],
          [
           "Another",
           ") situation.\n\n|Another| is"
          ],
          [
           " that",
           " burdens.\n\nFor| that| short"
          ],
          [
           " this",
           " of about $75 million| this| year"
          ],
          [
           " that",
           " don��t do| that|."
          ],
          [
           " these",
           "\n\nYou might like| these|"
          ],
          [
           " fourth",
           " build.\n\nThe| fourth| and"
          ],
          [
           " This",
           ". All rights reserved.| This| material"
          ],
          [
           " this",
           "\n\nRead or Share| this| story"
          ],
          [
           " this",
           " with Pakistan has said,| this|"
          ],
          [
           " This",
           "aded pixels per second.| This| means"
          ],
          [
           " tonight",
           " to fuel further protests at| tonight|'s"
          ],
          [
           " that",
           " King will continue to offer| that| alternative"
          ],
          [
           " this",
           " need to look farther than| this| chart"
          ],
          [
           " two",
           " reduce inequality\n\nThe| two| biggest"
          ],
          [
           " That",
           " Spider for the LM.| That| got"
          ],
          [
           " This",
           " March 3, 1969.| This| was"
          ],
          [
           " thus",
           " Dictionary of Musicians concludes| thus|:"
          ],
          [
           " these",
           " going to college thanks to| these| terms"
          ],
          [
           " this",
           ". The continued belief in| this| misconception"
          ],
          [
           " these",
           " creations to make use of| these| services"
          ],
          [
           " this",
           " birtherism—comes| this| revelation"
          ],
          [
           "Another",
           " to 423.\n\n|Another| report"
          ],
          [
           " this",
           "t necessarily continue to do| this|"
          ],
          [
           " a",
           " rape? Indeed, such| a| low"
          ],
          [
           "Another",
           " he said.\n\n|Another| witness"
          ],
          [
           " This",
           " to call one in.| This| all"
          ],
          [
           " this",
           " a series of meetings later| this| month"
          ],
          [
           " This",
           " meetings later this month.| This| would"
          ],
          [
           " this",
           "The only other pages from| this| book"
          ],
          [
           " this",
           " books, a find like| this| has"
          ],
          [
           " third",
           ", he came to his| third| reason"
          ],
          [
           " this",
           " edition only available by backing| this| Kickstarter"
          ],
          [
           "This",
           "bury, Vermont\n\n|This| 84"
          ],
          [
           " This",
           " Bridge comes under attack.| This| bus"
          ],
          [
           " this",
           " our best shot at winning| this| thing"
          ],
          [
           " This",
           " and subsequently withdrew it.| This| is"
          ],
          [
           " this",
           ".\n\n\"In| this| terrain"
          ],
          [
           " the",
           " lecturer at Illinois who conducted| the| research"
          ],
          [
           "The",
           " weeks ago.\n\n|The| rate"
          ],
          [
           " this",
           " by no means out of| this| discussion"
          ],
          [
           " that",
           " absolutely needed to upgrade on| that| side"
          ],
          [
           "The",
           " been disclosed.\n\n|The| European"
          ],
          [
           " this",
           " CSiR. In| this| paper"
          ],
          [
           " these",
           " this paper, we address| these| questions"
          ],
          [
           " this",
           "iR. We approach| this| question"
          ],
          [
           " next",
           " into the cage for his| next| fight"
          ],
          [
           " that",
           "tshire with some of| that| taking"
          ],
          [
           " this",
           " make up something that is| this| bad"
          ],
          [
           " these",
           " for 440. I ran| these| tones"
          ],
          [
           " Both",
           " for the 440 piece.| Both| apps"
          ],
          [
           " Each",
           " Easter bunny looks like.| Each| of"
          ],
          [
           " each",
           " They divided both to conquer| each|."
          ],
          [
           " this",
           " with Blacks, and by| this| means"
          ],
          [
           " that",
           " said: Refraining from| that| which"
          ],
          [
           " that",
           " that he becomes involved in| that| which"
          ],
          [
           " above",
           " devices.\n\nThe| above|"
          ],
          [
           " next",
           " battles and injuries. The| next| four"
          ],
          [
           " this",
           " During the regular season,| this| column"
          ],
          [
           " that",
           "ist.\n\nBut| that| was"
          ],
          [
           " these",
           "com. ��When| these|"
          ],
          [
           " This",
           " Conway told ��CBS| This| Morning"
          ],
          [
           " this",
           " Giles-light trade chip| this| July"
          ],
          [
           " this",
           "; even if only at| this| point"
          ],
          [
           " This",
           "��s arms.| This| is"
          ],
          [
           " that",
           " the week to focus on| that| and"
          ],
          [
           " other",
           " money or is it the| other| way"
          ],
          [
           " first",
           " bonds.\n\nThe| first| and"
          ],
          [
           " next",
           " Remember?\n\nThe| next| step"
          ],
          [
           "These",
           " years ago. ��|These| technologies"
          ],
          [
           " this",
           "oplastic activities. In| this| review"
          ],
          [
           " current",
           " figures and tables for the| current|"
          ],
          [
           " this",
           " earnest on October 12,| this| could"
          ],
          [
           " that",
           " not the classification authority for| that| information"
          ],
          [
           " this",
           " way of explanation. So| this| is"
          ],
          [
           " this",
           " criminal justice system. For| this| reason"
          ],
          [
           " these",
           ". For this reason,| these| approaches"
          ],
          [
           " these",
           "a2\n\nWith| these| we"
          ],
          [
           " this",
           "\n\nFourth commit at| this| point"
          ],
          [
           " this",
           "725f\n\nHow| this| ties"
          ],
          [
           " his",
           ", he logs in using| his| username"
          ],
          [
           " These",
           " password for first time.| These| credentials"
          ],
          [
           " this",
           " the api key corresponding to| this| user"
          ],
          [
           " this",
           " app. Mobile app stores| this| api"
          ],
          [
           " this",
           " mobile end and then uses| this| token"
          ],
          [
           " every",
           " then uses this token for| every| subsequent"
          ],
          [
           "This",
           " of proposals. ��|This| policy"
          ],
          [
           " that",
           "career faculty hired in| that| period"
          ],
          [
           " information",
           " that period, according to| information| from"
          ],
          [
           "The",
           " finance department.\n\n|The| closest"
          ],
          [
           " that",
           ". ��Not with| that| thing"
          ],
          [
           " here",
           " in alternative downtempo| here| and"
          ],
          [
           " these",
           " separating church and state,| these| state"
          ],
          [
           " this",
           ". \"Depending on how| this| case"
          ],
          [
           " this",
           " how this case goes,| this| could"
          ],
          [
           " this",
           ". As of 2018,| this| number"
          ],
          [
           " these",
           "<|endoftext|> ��None of| these| theories"
          ],
          [
           " this",
           " green light to the plan| this| morning"
          ],
          [
           "The",
           " this morning.\n\n|The| trusts"
          ],
          [
           " these",
           " They��re available| these| days"
          ],
          [
           " this",
           " here at home. And| this| year"
          ],
          [
           " this",
           " right now, to accelerate| this| trend"
          ],
          [
           "This",
           " efforts.\n\n\"|This| abnormal"
          ],
          [
           " this",
           "��As part of| this| process"
          ],
          [
           " this",
           " we near a conclusion to| this| evaluation"
          ],
          [
           " this",
           " position with a hand of| this| type"
          ],
          [
           " This",
           "��s whole.| This| is"
          ],
          [
           " this",
           " the hell do we fix| this|?"
          ],
          [
           " that",
           " the most important variable in| that| equation"
          ],
          [
           " These",
           " of the two schools.| These| two"
          ],
          [
           " two",
           " the two schools. These| two| schools"
          ],
          [
           " last",
           "\n\nAt an inquest| last| month"
          ],
          [
           "Last",
           "��The ��|Last| Hur"
          ],
          [
           " that",
           " The Senate Of course,| that| doesn"
          ],
          [
           " This",
           " Langtang Valley.| This| particular"
          ],
          [
           " particular",
           "tang Valley. This| particular|"
          ],
          [
           "That",
           " Conservative Central Office. \"|That|'s"
          ],
          [
           " and",
           " in the league in scoring| and| third"
          ],
          [
           " that",
           " struggles. They identify in| that| way"
          ],
          [
           " each",
           " and Two come up against| each| other"
          ],
          [
           " each",
           "��re impressed by| each| other"
          ],
          [
           " each",
           " develop that mutual respect for| each| other"
          ],
          [
           " this",
           "��\n\nShare| this|:"
          ],
          [
           "this",
           " if (isset($|this|->"
          ],
          [
           "this",
           ")) { unset($|this|->"
          ],
          [
           "this",
           " if (isset($|this|->"
          ],
          [
           "this",
           "])) { return $|this|->"
          ],
          [
           "this",
           "search($key, $|this|->"
          ],
          [
           "this",
           ") : isset($|this|->"
          ],
          [
           "this",
           " return new ArrayIterator($|this|->"
          ],
          [
           "This",
           "<|endoftext|>\n|This| is"
          ],
          [
           " this",
           " pumpkin puree. Stir| this| until"
          ],
          [
           " that",
           " NDP and otherwise depriving| that| party"
          ],
          [
           " that",
           " not make sense, from| that| perspective"
          ],
          [
           " this",
           " and Jane both agree on| this|,"
          ],
          [
           " This",
           " for areas of convergence.| This| is"
          ],
          [
           " another",
           "Porter also underlined| another| possible"
          ],
          [
           " this",
           " worth it? To answer| this|,"
          ],
          [
           " this",
           " policing. The reasons for| this| are"
          ],
          [
           " this",
           " how WG will implement| this|,"
          ],
          [
           " that",
           ". On August 16 of| that| year"
          ],
          [
           " these",
           ". As is customary in| these| situations"
          ],
          [
           " this",
           " surprise to be playing at| this| level"
          ],
          [
           " This",
           " playing at this level.| This| will"
          ],
          [
           " same",
           "rodiil works the| same| way"
          ],
          [
           " first",
           " job.\n\nThe| first| collection"
          ],
          [
           " this",
           "\nThe first collection from| this| new"
          ],
          [
           " new",
           "The first collection from this| new| NYC"
          ],
          [
           " any",
           " offers far more flexibility than| any| similar"
          ],
          [
           " this",
           "\n\nOn top of| this|,"
          ],
          [
           " this",
           " offer video calls. With| this| new"
          ],
          [
           " new",
           " video calls. With this| new| beta"
          ],
          [
           " that",
           " been kind of jealous about| that|.\""
          ],
          [
           " this",
           " Thompson was confronted again with| this| p"
          ],
          [
           " this",
           " to think about Africa as| this| hom"
          ],
          [
           " this",
           " Kings were 5-0| this| season"
          ],
          [
           " this",
           " that we can call upon| this| informal"
          ],
          [
           " this",
           " the theoretical account. Whether| this| is"
          ],
          [
           " this",
           " are not in things,| this| would"
          ],
          [
           "This",
           " and restless.\n\n|This| does"
          ],
          [
           " new",
           " to its benefit. The| new| process"
          ],
          [
           " this",
           " paying. The implications that| this| reality"
          ],
          [
           " reality",
           ". The implications that this| reality| holds"
          ],
          [
           " this",
           " not have. It was| this| exact"
          ],
          [
           " this",
           " which scars history books to| this| day"
          ],
          [
           " this",
           " day. For proof of| this|,"
          ],
          [
           "That",
           ".��\n\n|That| wasn"
          ],
          [
           "That",
           " recalls Slaughter. ��|That| first"
          ],
          [
           " The",
           " and Hyperallergic.| The| group"
          ],
          [
           " these",
           " is absolutely necessary to take| these| properties"
          ],
          [
           " these",
           "meih) returning from| these| countries"
          ],
          [
           " that",
           "ince Priebus seemed to contradict| that|"
          ],
          [
           " this",
           " and his children. In| this| way"
          ],
          [
           "Another",
           " digital medium.\n\n|Another| character"
          ],
          [
           "This",
           " a mountain\".\n\n|This| evidently"
          ],
          [
           " each",
           " seen \"grinning at| each| other"
          ],
          [
           " this",
           "-June quarter of Nvidia| this| year"
          ],
          [
           " here",
           " isn��t listed| here| that"
          ],
          [
           " this",
           " Picks.\n\nIn| this| case"
          ],
          [
           " this",
           "In an op-ed| this| month"
          ],
          [
           " this",
           "-caused death,| this| account"
          ],
          [
           " these",
           ", but willfully engages in| these| behaviors"
          ],
          [
           " these",
           " and recommendations, which found| these| students"
          ],
          [
           " latter",
           " And yet, regarding the| latter|,"
          ],
          [
           " these",
           "\nThe radical feminism behind| these| courses"
          ],
          [
           " this",
           " with their 10 year anniversary| this| November"
          ],
          [
           " few",
           " after the Restoration. A| few| verses"
          ],
          [
           " this",
           "OK, I made up| this| story"
          ],
          [
           " This",
           " with any contemporary philosophers.| This| is"
          ],
          [
           "Last",
           "ert said.\n\n|Last| year"
          ],
          [
           " this",
           " Germany to be eligible;| this| includes"
          ],
          [
           " this",
           " (typically half) of| this|"
          ],
          [
           " These",
           " to 29 degrees Celsius.| These| extremely"
          ],
          [
           "The",
           " terminal illnesses.\n\n|The| report"
          ],
          [
           " each",
           " of good and evil fighting| each| other"
          ],
          [
           " this",
           " But King's version of| this| battle"
          ],
          [
           " which",
           " other franchises zag,| which| is"
          ],
          [
           " [",
           "<|endoftext|>,\n\nIt| [|Trump"
          ],
          [
           " this",
           " money's rolling in and| this| is"
          ],
          [
           " this",
           "'ve never seen anything like| this|,"
          ],
          [
           " this",
           " anything like this, and| this| is"
          ],
          [
           " this",
           " Trump is well aware of| this| and"
          ],
          [
           " this",
           " Kung Fu Panda film,| this| c"
          ],
          [
           " this",
           " Panda film (right),| this| c"
          ],
          [
           " this",
           " triumphant radical heroism only reinforces| this| bondage"
          ],
          [
           "This",
           " ago.\n\n\"|This| is"
          ],
          [
           " another",
           "\n\n\"This is| another| good"
          ],
          [
           " this",
           " the displayed cyber code in| this| illustration"
          ],
          [
           " these",
           ". In either case,| these| are"
          ],
          [
           " this",
           " data.\n\nIn| this| post"
          ],
          [
           " This",
           " or below that threshold.| This| works"
          ],
          [
           " these",
           "�s hard to break| these| feelings"
          ],
          [
           " this",
           " is, ��Is| this| all"
          ],
          [
           " such",
           " can still be fooled through| such| simple"
          ],
          [
           " This",
           "<|endoftext|>HSR construction.| This| extension"
          ],
          [
           " that",
           " the Transit Center. Above| that| are"
          ],
          [
           " final",
           "hound waiting room. The| final| indoors"
          ],
          [
           " these",
           " strength and rigidity,| these| plastics"
          ],
          [
           " These",
           ", and in Medicare.| These| standards"
          ],
          [
           " The",
           "umene in Australia.| The| sp"
          ],
          [
           " That",
           " to produce a concentrate.| That| concentrate"
          ],
          [
           " this",
           " the \"I've done| this| my"
          ],
          [
           " Many",
           " to their state legislatures.| Many|"
          ],
          [
           " this",
           "\n\n��Once| this| plan"
          ],
          [
           " this",
           " VoteAs previously announced,| this| week"
          ],
          [
           " that",
           " the weeks leading up to| that| day"
          ],
          [
           " This",
           " with 5 percent undecided.| This| is"
          ],
          [
           " this",
           " number one goalie, and| this| season"
          ],
          [
           " This",
           " his time to shine.| This| may"
          ],
          [
           " this",
           " only good move Toronto made| this| off"
          ],
          [
           " this",
           " impossible player to rank on| this| list"
          ],
          [
           " Another",
           " the guns to school.| Another| friend"
          ],
          [
           " This",
           " Mega Star Enterprises Inc.| This| adds"
          ],
          [
           " This",
           " of the gold standard.| This| enabled"
          ],
          [
           " that",
           "atin Country Club. Beyond| that|,"
          ],
          [
           " this",
           " (near the center of| this| photo"
          ],
          [
           " this",
           " subjected to an attack on| this| scale"
          ],
          [
           " That",
           "<|endoftext|> issues going on.| That| there"
          ],
          [
           " recent",
           ".\n\nDuring a| recent| visiting"
          ],
          [
           " this",
           " ship were also implanted with| this| Pl"
          ],
          [
           "That",
           " White House.\n\n|That| message"
          ],
          [
           " This",
           " fact check (Note –| This| is"
          ],
          [
           " this",
           "��s interview;| this| is"
          ],
          [
           " very",
           " school, followed by doing| very| well"
          ],
          [
           " these",
           " and in the course of| these| conversations"
          ],
          [
           " this",
           " he only became aware of| this| fact"
          ],
          [
           " fact",
           " only became aware of this| fact| on"
          ],
          [
           " This",
           ": I am Katie.| This| is"
          ],
          [
           "These",
           " another official.\n\n|These| are"
          ],
          [
           "Last",
           ".��\n\n|Last| week"
          ],
          [
           " this",
           ")\n\nTo put| this| in"
          ],
          [
           " This",
           " lot to be desired.| This| bullpen"
          ],
          [
           " these",
           "\n��Where are| these| shards"
          ],
          [
           " That",
           " is getting very rich.| That|'s"
          ],
          [
           " these",
           " for a time before running| these| clean"
          ],
          [
           " This",
           "), and click ok.| This| comes"
          ],
          [
           "Each",
           " click ok.\n\n|Each| entry"
          ],
          [
           " Every",
           " $200,000.| Every| penny"
          ],
          [
           "That",
           " community apart.\n\n|That| characterization"
          ],
          [
           " this",
           "A kind of climax of| this| same"
          ],
          [
           " same",
           " kind of climax of this| same| trend"
          ],
          [
           " This",
           " zest and zeal.| This| festival"
          ],
          [
           " festival",
           "est and zeal. This| festival| is"
          ],
          [
           " this",
           " play a stellar role in| this| festival"
          ],
          [
           " that",
           " too scrambling and disorderly for| that|."
          ],
          [
           " this",
           " disorderly for that. Or| this| is"
          ],
          [
           " this",
           " said.The contents of| this|"
          ],
          [
           " which",
           " replication process is working,| which| binary"
          ],
          [
           " current",
           " binary log name and the| current| position"
          ],
          [
           " that",
           " it, ready to take| that| bad"
          ],
          [
           " these",
           " appreciate being able to buy| these| ingredients"
          ],
          [
           "This",
           ".[15]\n\n|This| letter"
          ],
          [
           " states",
           "<|endoftext|> already,\" the website| states|."
          ],
          [
           " That",
           " simply want clean air.| That| belief"
          ],
          [
           " this",
           " the legislation to include in| this| database"
          ],
          [
           "These",
           " gaming console. ��|These| are"
          ],
          [
           " This",
           " on the other side!| This| unit"
          ],
          [
           " This",
           " of 5 by Skip from| This|"
          ],
          [
           " There",
           "road tattoos.��| There|�"
          ],
          [
           " That",
           " lines on the road.| That| guy"
          ],
          [
           " this",
           " that the express aim of| this| Order"
          ],
          [
           " That",
           " people willing to watch.| That| population"
          ],
          [
           " this",
           "��\n\nIn| this| case"
          ],
          [
           " this",
           "I never imagined any of| this| would"
          ],
          [
           "This",
           "ari said.\n\n|This| year"
          ],
          [
           " controversial",
           " in clinical settings is a| controversial| practice"
          ],
          [
           " this",
           "\n\"Thus, at| this|"
          ],
          [
           " these",
           " Guidelines is the use of| these| impl"
          ],
          [
           " This",
           " under-consumed.| This| statement"
          ],
          [
           " this",
           " exception should be made in| this| case"
          ],
          [
           " this",
           " are disgustingly biased on| this| issue"
          ],
          [
           " these",
           " at night. Mainly| these| thoughts"
          ],
          [
           " this",
           " sky. Of course,| this| desire"
          ],
          [
           " it",
           " seemed, seeking to satisfy| it| in"
          ],
          [
           " here",
           "�s really going on| here|."
          ],
          [
           " It",
           " the megabanks.| It| is"
          ],
          [
           " this",
           " that compelled me to write| this| book"
          ],
          [
           " busy",
           "\nSpring is a particularly| busy| season"
          ],
          [
           "this",
           "—or falsifying—|this| weird"
          ],
          [
           " this",
           " your way clear to letting| this| go"
          ],
          [
           " the",
           " the final step to begin| the| process"
          ],
          [
           " following",
           " Creator however I get the| following| error"
          ],
          [
           " That",
           " talk to his mother.\"| That| is"
          ],
          [
           " this",
           " interesting analogy. However,| this| Evangel"
          ],
          [
           " Fro",
           " noise.The MSI Twin| Fro|z"
          ],
          [
           " our",
           " of his tunics for| our| shoot"
          ],
          [
           " credit",
           "\n\nWhen using a| credit| card"
          ],
          [
           " same",
           " the total purchase. The| same| goes"
          ],
          [
           " this",
           "argent, you know| this|,"
          ],
          [
           " That",
           " Grassland Elementary Schools.| That| park"
          ],
          [
           " this",
           "way with a gun under| this| bill"
          ],
          [
           " this",
           " is really clear. And| this| is"
          ],
          [
           " this",
           " whole new fruit. In| this| peach"
          ],
          [
           " this",
           ".\n\nAll of| this| amounts"
          ],
          [
           " another",
           ". where she will reveal| another| song"
          ],
          [
           " that",
           " think you should have done| that|,"
          ],
          [
           "\"",
           "<|endoftext|>humans|\"| do"
          ],
          [
           " this",
           " closest friends and show them| this| wiki"
          ],
          [
           " that",
           "��re sensitive to| that| sort"
          ],
          [
           " this",
           " of OS X Yosemite like| this| one"
          ],
          [
           " everything",
           ". If you can read| everything| fine"
          ],
          [
           " That",
           " would take defenders deep.| That|�"
          ],
          [
           " this",
           " Redskins beat writers admit camp| this| year"
          ],
          [
           " Much",
           " life beneath the surface.| Much| of"
          ],
          [
           " of",
           " beneath the surface. Much| of| the"
          ],
          [
           " That",
           " that we are fools.\"| That| attitude"
          ],
          [
           " each",
           " as much protein in to| each| meal"
          ],
          [
           " This",
           " what works for you.| This| isn"
          ],
          [
           " this",
           " facility. To date,| this| law"
          ],
          [
           " each",
           " maintains a word doc with| each| cabinet"
          ],
          [
           " this",
           " us!\n\nLike| this| post"
          ],
          [
           " following",
           " editor, and add the| following| lines"
          ],
          [
           " this",
           " here.\n\nAnd| this| is"
          ],
          [
           " this",
           "�m getting tired of| this| constant"
          ],
          [
           " this",
           " choose.\n\nDuring| this| entire"
          ],
          [
           " entire",
           ".\n\nDuring this| entire| period"
          ],
          [
           " this",
           " Trump Campaign has already incurred| this| past"
          ],
          [
           " this",
           " his filing that he believes| this| entire"
          ],
          [
           " entire",
           " filing that he believes this| entire| suit"
          ],
          [
           " That",
           " profiled Latino drivers.| That| ruling"
          ],
          [
           " this",
           " that our culture reveres| this| state"
          ],
          [
           " this",
           "<|endoftext|>aring| this| makes"
          ],
          [
           " this",
           " why do I tell all| this|?"
          ],
          [
           " these",
           " want you to know that| these| things"
          ],
          [
           " that",
           " is not helping you at| that| point"
          ],
          [
           " this",
           " publishers and exchanges centered on| this| last"
          ],
          [
           " last",
           " and exchanges centered on this| last|-"
          ],
          [
           " this",
           "ve been working with like| this| ["
          ],
          [
           " this",
           "change], because they think| this| is"
          ],
          [
           " The",
           " the global average ocean.| The| authors"
          ],
          [
           " this",
           ". The authors should know| this|,"
          ],
          [
           " this",
           " of the paper not catch| this| basic"
          ],
          [
           " our",
           " wonder how closely anyone read| our| paper"
          ],
          [
           " this",
           "<|endoftext|> theme in| this| matchup"
          ],
          [
           " that",
           " and paving the way for| that| barn"
          ],
          [
           "This",
           " one possession.\n\n|This| game"
          ],
          [
           " that",
           " they are ordained, throughout| that| whole"
          ],
          [
           " this",
           " Israeli products, as well| this| year"
          ],
          [
           " that",
           " their sales practices, presumably| that| is"
          ],
          [
           " this",
           ". How can we say| this|?"
          ],
          [
           " such",
           " consists of former members of| such| companies"
          ],
          [
           " this",
           " one of them, then| this| is"
          ],
          [
           "Each",
           " our pockets.\n\n|Each| year"
          ],
          [
           " this",
           " only criticism of my experience| this| year"
          ],
          [
           " this",
           " attempt but fail to swallow| this| Swedish"
          ],
          [
           " this",
           " better if broken up like| this|."
          ],
          [
           " this",
           " this. So, while| this| may"
          ],
          [
           " which",
           " wolf attacked 31 people,| which| resulted"
          ],
          [
           " present",
           " Gysinge (within| present|-"
          ],
          [
           " one",
           "\nWith the exception of| one| 19"
          ],
          [
           " This",
           " to support the child.| This| method"
          ],
          [
           " this",
           "ão Luis – and that| this| will"
          ],
          [
           " this",
           " are with those affected by| this| horrific"
          ],
          [
           " horrific",
           " with those affected by this| horrific| act"
          ],
          [
           " current",
           " that may not fit your| current| goals"
          ],
          [
           " this",
           " setup, should you find| this| is"
          ],
          [
           " these",
           " recommend crafting as many of| these| as"
          ],
          [
           " this",
           "15,000+ At| this| point"
          ],
          [
           " this",
           " on Twitter with comments on| this| nearly"
          ],
          [
           "This",
           "<|endoftext|>|This| story"
          ],
          [
           " these",
           " 2018 reconciliation bill Congress redirect| these| dollars"
          ],
          [
           " this",
           "\"In a sense,| this| is"
          ],
          [
           " these",
           " if not clear intent caused| these| rebels"
          ],
          [
           " this",
           "\n\nThen, earlier| this| week"
          ],
          [
           " This",
           " display white upon blue.| This|,"
          ],
          [
           "This",
           " effective flag.\n\n|This| sampling"
          ],
          [
           "This",
           " appear representative.\n\n|This| is"
          ],
          [
           " is",
           " representative.\n\nThis| is| the"
          ],
          [
           " This",
           " based on local data.| This| is"
          ],
          [
           " an",
           " points, and are assigned| an| average"
          ],
          [
           " One",
           " to any of them.| One| day"
          ],
          [
           " That",
           " Western deserters.| That|�"
          ],
          [
           " each",
           " from CARE Norway shows,| each| tiny"
          ],
          [
           " that",
           ".\n\nTo hammer| that| idea"
          ],
          [
           "There",
           " from the data\n\n|There| are"
          ],
          [
           " this",
           " will not cover it in| this| post"
          ],
          [
           " this",
           " logs.\n\nIn| this| post"
          ],
          [
           " this",
           " face, because he swore| this| deal"
          ],
          [
           " this",
           " a serious hit too because| this| was"
          ],
          [
           " that",
           " ally. Oh well,| that| may"
          ],
          [
           " That",
           " the LMPC car.| That| would"
          ],
          [
           " this",
           " Richard Hoagland in| this| article"
          ],
          [
           " It",
           " our upcoming radio show.| It|�"
          ],
          [
           " These",
           " Hoagland About All| These| Issues"
          ],
          [
           " other",
           " a brewing process unlike any| other|,"
          ],
          [
           " this",
           " Seraphim addresses the paradox| this| way"
          ],
          [
           " This",
           " all seriousness, keep .| This| page"
          ],
          [
           " This",
           " in all seriousness, .| This|"
          ],
          [
           " this",
           "�s changed a bit| this| year"
          ],
          [
           "This",
           " criminal code.\n\n|This| May"
          ],
          [
           " criminal",
           "\nThis May 2014 provision| criminal|izes"
          ],
          [
           "That",
           "'s office.\n\n|That| might"
          ],
          [
           " this",
           "<|endoftext|>| this| time"
          ],
          [
           " each",
           " of personnel who fought in| each| battle"
          ],
          [
           " this",
           " will be difficult to remember| this| way"
          ],
          [
           " this",
           " way to contribute to solving| this| global"
          ],
          [
           " these",
           " 1971.\n\nSince| these| people"
          ],
          [
           " this",
           " steps in the evolution of| this| feeding"
          ],
          [
           " that",
           " and investors seem to like| that|.\""
          ],
          [
           " these",
           " may be allowed to use| these| firms"
          ],
          [
           " these",
           " regarding data protection, but| these| tend"
          ],
          [
           " This",
           " to the other dimension.| This| invented"
          ],
          [
           " this",
           ". Someone once told me| this| was"
          ],
          [
           " this",
           "<|endoftext|> to| this| quickly"
          ],
          [
           " these",
           " terrified of the prospect of| these| investigations"
          ],
          [
           " this",
           " a lifetime of choices under| this| false"
          ],
          [
           " Which",
           " under this false paradigm.| Which| is"
          ],
          [
           " these",
           " importance that videos such as| these| find"
          ],
          [
           " this",
           " hands of those reeling from| this| divide"
          ],
          [
           " so",
           " was the only person doing| so|."
          ],
          [
           " This",
           " only person doing so.| This| is"
          ],
          [
           " this",
           " been killed for their work| this| year"
          ],
          [
           " this",
           " 2015, the university surpassed| this| goal"
          ],
          [
           " these",
           "free eggs. Many of| these| sustain"
          ],
          [
           " new",
           " a bold appearance in a| new| report"
          ],
          [
           " this",
           " reason.\n\nPublished| this| week"
          ],
          [
           " The",
           " females respond to stress.| The| findings"
          ],
          [
           "This",
           " achieved.\n\n\"|This| is"
          ],
          [
           " here",
           " a Western-style society| here|,\""
          ],
          [
           " this",
           " PS Vita and PS4| this| Autumn"
          ],
          [
           " this",
           " he will continue to do| this| and"
          ],
          [
           "The",
           "l said.\n\n|The| private"
          ],
          [
           " This",
           " a vision and policy.| This| would"
          ],
          [
           " this",
           ", but clothes made of| this| cloth"
          ],
          [
           " One",
           " tried more radical departures.| One| promising"
          ],
          [
           " this",
           " When he continues to spread| this| kind"
          ],
          [
           " this",
           " degrading. We cannot let| this| be"
          ],
          [
           " that",
           " way to find out about| that| is"
          ],
          [
           " this",
           " peruse, I recommend| this| list"
          ],
          [
           " that",
           " talking about it, but| that|�"
          ],
          [
           " this",
           " is so good!) or| this| ("
          ],
          [
           " that",
           "fully think his way through| that|,"
          ],
          [
           " that",
           " came around the side and| that| could"
          ],
          [
           " another",
           " that could arguably have been| another| yellow"
          ],
          [
           " these",
           " another yellow card. And| these| are"
          ],
          [
           " The",
           " Open Markets Operations Committee.| The| Fed"
          ],
          [
           " this",
           " gets picked up. So| this| is"
          ],
          [
           " here",
           " just started watching the show| here| and"
          ],
          [
           " these",
           " the fact that I do| these| cool"
          ],
          [
           " This",
           " a local Bitcoin node.| This| node"
          ],
          [
           " this",
           ".\n\nBut as| this| recent"
          ],
          [
           " recent",
           "\n\nBut as this| recent| video"
          ],
          [
           " that",
           " Ken can win. But| that| depends"
          ],
          [
           " Two",
           " mice. (c)| Two|–"
          ],
          [
           " That",
           " from a year ago.| That| figure"
          ],
          [
           " this",
           " 25,000 individuals in| this| business"
          ],
          [
           " this",
           "\nKeep in mind that| this| is"
          ],
          [
           " this",
           " the game better. In| this| case"
          ],
          [
           " this",
           " one way or another whether| this| slightly"
          ],
          [
           " this",
           " very little to do with| this| technology"
          ],
          [
           " that",
           " not very many schools with| that| many"
          ],
          [
           "It",
           " crazy arcade installation\n\n|It|'s"
          ],
          [
           " this",
           "s an image for sharing| this| episode"
          ],
          [
           " Every",
           " again compromise our responsibilities.| Every| time"
          ],
          [
           " this",
           "��When you leave| this| meeting"
          ],
          [
           " this",
           "��m like,| this| is"
          ],
          [
           " these",
           " and regulatory requirements, but| these| measures"
          ],
          [
           " This",
           " measures have proved inadequate.| This| indicates"
          ],
          [
           " this",
           "% to 8% over| this| time"
          ],
          [
           "That",
           "% today.\n\n|That| Gib"
          ],
          [
           " these",
           " us a lot about what| these| anti"
          ],
          [
           "Wow",
           ", etc.\n\n|Wow|,"
          ],
          [
           " that",
           " an interest in. Sadly| that| system"
          ],
          [
           " these",
           " there's better music available| these| companies"
          ],
          [
           " this",
           " will I ever. Should| this| charge"
          ],
          [
           " this",
           " and we do not consider| this| unethical"
          ],
          [
           " this",
           "<|endoftext|> that| this| is"
          ],
          [
           "blooded",
           " where a more full-|blooded| Conservative"
          ],
          [
           " this",
           " of the paradoxes of| this| is"
          ],
          [
           " this",
           " it. One explanation for| this| is"
          ],
          [
           " this",
           " ��probably everybody in| this| room"
          ],
          [
           " this",
           " live far away? In| this| video"
          ],
          [
           " such",
           " learn how to talk about| such| relationships"
          ],
          [
           " this",
           " Many include tigers. In| this| posting"
          ],
          [
           " this",
           " money to their account on| this| ledger"
          ],
          [
           " this",
           " off-ramp between| this| chain"
          ],
          [
           " this",
           "\nThe main benefit of| this| second"
          ],
          [
           " this",
           " and scalability. Since| this| second"
          ],
          [
           " bright",
           "��s wearing a| bright| lip"
          ],
          [
           " this",
           " down more than 20 percent| this| year"
          ],
          [
           "That",
           " South Side.\n\n|That| trademark"
          ],
          [
           " This",
           " damage and constipation.| This| level"
          ],
          [
           " level",
           " and constipation. This| level| of"
          ],
          [
           " this",
           ", Roberts has belonged to| this| latter"
          ],
          [
           " latter",
           " Roberts has belonged to this| latter| group"
          ],
          [
           " these",
           " and the hundreds of partners| these| manufacturers"
          ],
          [
           " this",
           " into a hex editor reveals| this| image"
          ],
          [
           " following",
           " a text editor, the| following| was"
          ],
          [
           " These",
           " they are state property.| These| areas"
          ],
          [
           " these",
           " worked. They thought that| these| projects"
          ],
          [
           " This",
           " to the main thread.| This| event"
          ],
          [
           " this",
           "? And so I consider| this| to"
          ],
          [
           " this",
           " (\"winning a battle like| this| would"
          ],
          [
           " this",
           " there's very little of| this| attorney"
          ],
          [
           " this",
           " of this attorney general,| this| Department"
          ]
         ],
         "hovertemplate": "val1=%{x}<br>val2=%{y}<br>str_tokens=%{customdata[0]}<br>context=%{customdata[1]}<extra></extra>",
         "legendgroup": "",
         "marker": {
          "color": "#636efa",
          "symbol": "circle"
         },
         "mode": "markers",
         "name": "",
         "orientation": "v",
         "showlegend": false,
         "type": "scatter",
         "x": [
          1.200284,
          0,
          0,
          0,
          2.59439,
          3.5121984,
          4.345298,
          0.20851612,
          15.153623,
          37.049507,
          0.47506905,
          0,
          0,
          0,
          7.024928,
          0,
          1.1996336,
          0,
          0.9228878,
          0,
          17.150555,
          32.976875,
          11.27925,
          6.7864923,
          8.179135,
          0,
          0.95011806,
          3.3308096,
          0.7466469,
          0,
          1.6705885,
          0,
          31.566368,
          32.2041,
          7.437318,
          34.04202,
          2.958148,
          0.14868927,
          0,
          0,
          4.2029085,
          6.581395,
          20.905182,
          0,
          11.363114,
          0,
          0.21461487,
          0.9750614,
          2.6584501,
          35.80697,
          1.3152952,
          11.482739,
          0,
          1.9864569,
          0,
          23.735699,
          37.27994,
          0,
          5.565816,
          0,
          37.022926,
          32.455856,
          0.11898708,
          11.363114,
          0,
          33.33549,
          0,
          21.486156,
          0,
          0,
          1.1850891,
          8.36098,
          1.7858362,
          0,
          2.88383,
          0,
          0.93791294,
          35.266174,
          0,
          1.9456921,
          0.8519039,
          4.186446,
          2.7310133,
          1.4988623,
          0,
          2.8772821,
          4.8985987,
          4.2338495,
          0.021923065,
          16.62828,
          30.53481,
          20.478191,
          0,
          3.3287973,
          1.8211708,
          0,
          34.01534,
          5.7406893,
          0,
          0,
          3.0673265,
          0,
          2.9767694,
          4.398656,
          0,
          0.8626108,
          6.190219,
          13.352536,
          9.323291,
          0,
          29.844189,
          0.80526066,
          13.766416,
          1.200284,
          35.331055,
          1.2694159,
          31.111763,
          3.3861513,
          1.6011524,
          0.9125242,
          0,
          39.18855,
          1.6000528,
          6.52617,
          0.78800297,
          7.0598593,
          1.9108591,
          0,
          0.82108784,
          0,
          0.62094975,
          17.595741,
          0,
          0,
          31.259094,
          11.363114,
          0.9804306,
          2.0835638,
          0.16002655,
          30.54903,
          0,
          3.0599394,
          11.243695,
          20.161285,
          0,
          3.9306993,
          1.1690149,
          2.204154,
          0.65471935,
          0,
          0,
          0.14942837,
          0,
          0,
          2.6691523,
          2.3283472,
          1.9197092,
          0,
          0,
          1.6016636,
          0,
          0,
          2.606618,
          0.43494606,
          22.278019,
          1.0408573,
          0,
          0,
          27.939434,
          4.726775,
          0.9415531,
          18.45816,
          30.181488,
          0.6972933,
          27.967392,
          1.6268072,
          0,
          0,
          5.1430845,
          0,
          2.0209246,
          11.107802,
          8.783763,
          7.3115625,
          16.458015,
          0,
          0,
          0,
          3.3849573,
          40.028366,
          7.312085,
          30.830238,
          4.7243586,
          0,
          0.31404686,
          4.4140997,
          0,
          19.713139,
          16.734787,
          0,
          7.379018,
          5.758235,
          1.4298811,
          0,
          0,
          0,
          2.0659761,
          0,
          10.8233,
          1.6362553,
          0,
          0,
          0,
          27.783699,
          2.2115965,
          0,
          0.32965183,
          11.546231,
          6.919614,
          34.563374,
          0.8999052,
          23.97181,
          0.24203968,
          36.656456,
          0,
          0.42905903,
          0,
          4.0861063,
          0,
          41.79977,
          0,
          1.8558903,
          1.0105038,
          0,
          21.01176,
          0.88426304,
          7.2840147,
          0,
          18.859394,
          0,
          18.824589,
          15.753552,
          10.660607,
          36.934216,
          1.2761574,
          0,
          2.6955786,
          7.6015024,
          0.55161476,
          31.131104,
          7.8639536,
          0,
          26.96857,
          0,
          0,
          15.172429,
          1.9640017,
          0,
          0,
          7.5379057,
          0,
          0,
          6.5290384,
          0,
          0.8676815,
          0,
          0,
          0.023897171,
          34.27269,
          0.07523346,
          2.9269056,
          1.5208035,
          2.8873682,
          2.9377851,
          2.660386,
          0.046866417,
          0,
          1.7920637,
          10.244388,
          0,
          27.577995,
          0,
          16.564041,
          1.3677568,
          1.6116343,
          2.0016508,
          0.34404278,
          0,
          1.9348011,
          0.12597847,
          5.968568,
          0,
          20.94841,
          0,
          7.2001467,
          36.671696,
          1.1691628,
          41.93723,
          1.862711,
          3.390998,
          0,
          12.13728,
          28.39141,
          37.850243,
          2.8092413,
          4.8121347,
          0.92184067,
          2.0750437,
          4.154048,
          0,
          10.018918,
          0.15006065,
          36.5153,
          0,
          14.127723,
          35.485474,
          0,
          1.394722,
          0,
          4.433383,
          0.5398483,
          0,
          26.465164,
          1.6923304,
          0,
          0,
          0,
          2.5831537,
          32.609203,
          0,
          0,
          0,
          0,
          0,
          4.7655115,
          37.000923,
          0,
          0,
          0,
          11.569949,
          0,
          0,
          24.331337,
          0.1202507,
          2.891326,
          16.40247,
          2.2977533,
          0.22581959,
          3.6697226,
          0.60771847,
          34.805435,
          0.45461273,
          0,
          4.939788,
          0,
          0,
          2.9802675,
          0.640955,
          0,
          0,
          1.3243275,
          0,
          0,
          0,
          0,
          0,
          0.630682,
          2.9952364,
          0,
          5.3862276,
          33.42307,
          2.2728186,
          5.991105,
          0,
          1.443223,
          0,
          0,
          36.775875,
          35.48297,
          0.72310066,
          0,
          4.3841524,
          22.966057,
          40.419174,
          0,
          0,
          1.9027672,
          0.3084364,
          0,
          0.76184654,
          0,
          8.158,
          35.068665,
          10.054059,
          0,
          0.49857235,
          7.7989225,
          1.0766315,
          36.668926,
          0,
          2.7041101,
          36.903393,
          7.639632,
          0,
          25.917229,
          36.506054,
          0,
          0,
          5.2661734,
          0,
          2.0850039,
          31.569935,
          3.8900938,
          32.811584,
          0.068122864,
          0,
          14.682923,
          4.252551,
          14.847953,
          2.6296206,
          0,
          5.2475977,
          0,
          0,
          1.3392315,
          14.449517,
          0,
          24.0377,
          34.036667,
          0,
          0,
          2.848899,
          0.38717175,
          1.7580318,
          33.40513,
          0,
          0,
          1.4750271,
          0,
          0.48862553,
          2.9433432,
          1.5021667,
          0.00858593,
          2.625167,
          35.742565,
          0,
          36.267075,
          3.5903597,
          3.2324877,
          0,
          3.1095762,
          32.50397,
          35.673084,
          0.17058277,
          33.143845,
          7.0938196,
          0,
          0.3943367,
          0,
          0,
          0.027226448,
          9.86365,
          0,
          1.301444,
          0,
          0,
          0,
          0.082380295,
          0.16984844,
          2.7735376,
          0,
          0.15441322,
          0,
          0,
          7.640134,
          0.1407938,
          25.105137,
          4.2184515,
          2.5201216,
          7.164769,
          4.4285593,
          0,
          38.680344,
          0,
          0,
          2.1972322,
          0.6452446,
          16.889172,
          8.81655,
          0,
          26.26867,
          0,
          27.156242,
          12.667197,
          7.420945,
          1.9580393,
          0,
          9.875934,
          0,
          12.581992,
          0,
          1.859211,
          0,
          0,
          35.809338,
          0,
          0,
          0.31032562,
          0,
          0,
          7.159816,
          7.985675,
          17.858608,
          20.654423,
          7.16549,
          9.023999,
          0.109259605,
          0,
          28.817345,
          0,
          30.183174,
          3.6009111,
          2.2333956,
          0,
          36.34304,
          0,
          0,
          10.493402,
          2.250678,
          0,
          0.9855108,
          1.9811335,
          29.650406,
          2.8838358,
          2.1520357,
          0.09090996,
          0,
          0,
          0,
          0,
          0.80775166,
          7.8844156,
          2.6412535,
          3.172677,
          1.244936,
          3.0870047,
          0.15677357,
          3.7596617,
          35.950863,
          4.346978,
          0,
          0,
          4.1138525,
          34.6703,
          0,
          3.6134462,
          5.833867,
          0.44772816,
          0,
          0,
          0,
          30.44463,
          0,
          2.734929,
          5.678155,
          0,
          0,
          0.4583454,
          9.9414625,
          0,
          0,
          1.4881496,
          0.7896519,
          0,
          1.6113234,
          18.508919,
          19.283195,
          35.11548,
          0.28733826,
          16.470665,
          0.42136574,
          4.4742327,
          0,
          1.6914053,
          3.630206,
          2.5824175,
          0.094184875,
          0,
          0,
          0,
          12.313817,
          0.39219952,
          38.5738,
          0,
          7.225505,
          0,
          9.590373,
          7.54399,
          23.177612,
          0,
          1.5527878,
          0,
          0,
          7.017268,
          0.50492287,
          0.7507324,
          30.64455,
          0.09401417,
          30.809258,
          9.710084,
          14.646983,
          0.15438175,
          0,
          3.6555033,
          0.14815617,
          0.86910725,
          16.851467,
          0,
          20.138409,
          0.66678905,
          25.345665,
          8.757249,
          0,
          28.016075,
          0,
          0,
          9.814824,
          9.826648,
          33.495247,
          0,
          8.4126215,
          0,
          36.719296,
          0,
          0.15433502,
          8.44521,
          16.316044,
          0.1739788,
          1.6136112,
          0,
          0.3726139,
          11.957698,
          29.328201,
          0,
          38.682384,
          25.494518,
          33.78565,
          4.9188643,
          0,
          0.062224388,
          32.852676,
          33.84346,
          0,
          3.914752,
          0,
          0.5838909,
          0,
          0,
          3.8095236,
          27.229473,
          22.96524,
          0,
          0,
          0.55968475,
          0,
          27.789139,
          13.303094,
          0.67339516,
          3.882886,
          32.387238,
          0,
          1.7416029,
          0,
          24.441029,
          2.2697363,
          0.0061979294,
          3.308938,
          6.2347536,
          0,
          35.14577,
          1.1308832,
          1.5442562,
          0,
          14.693208,
          7.467763,
          0.18724632,
          0,
          0,
          0,
          33.014214,
          0,
          2.4185038,
          0,
          15.850837,
          30.005089,
          19.290146,
          0.36617947,
          1.1905403,
          5.9379854,
          1.1069174,
          8.252179,
          0,
          38.56177,
          0,
          0.0065135956,
          0,
          32.37639,
          0.24780178,
          0,
          7.0939417,
          27.408672,
          0,
          0,
          1.3441973,
          0.73572826,
          0,
          2.465989,
          0,
          0,
          0,
          4.4675226,
          29.704205,
          2.255355,
          0,
          0,
          1.4322901,
          4.975934,
          1.0507574,
          1.4534569,
          25.580368,
          7.7846365,
          14.06029,
          0,
          0,
          0.53692436,
          5.919137,
          0,
          1.7628021,
          0,
          3.6560755,
          9.308078,
          1.0168247,
          2.7835722,
          1.6755924,
          0,
          34.23587,
          24.980953,
          0,
          2.5979986,
          0,
          29.385986,
          1.0350533,
          8.346101,
          0,
          5.209161,
          17.490303,
          0.9739132,
          4.7252207,
          0.8681774,
          1.2433786,
          0,
          6.1095896,
          0,
          2.4962664,
          0,
          0,
          14.393828,
          0.89976597,
          6.5725927,
          0,
          0,
          3.5630693,
          0,
          36.269424,
          0,
          15.192584,
          0.11057186,
          5.668191,
          0,
          20.852257,
          4.9978476,
          9.965959,
          0,
          1.6917562,
          21.086525,
          1.5549955,
          0,
          0,
          32.303112,
          25.667,
          2.3441477,
          0,
          0,
          4.183734,
          0.7821703,
          4.354932,
          4.1360598,
          30.366383,
          0,
          23.416924,
          0,
          4.1468954,
          33.46497,
          30.752197,
          29.506721,
          1.1182346,
          32.730583,
          0,
          1.1508236,
          2.5762072,
          0.12529182,
          0,
          0.9120245,
          0,
          10.460511,
          8.461621,
          19.193092,
          1.2904644,
          0.35504436,
          0,
          0.0037059784,
          0,
          0,
          12.369138,
          29.471485,
          18.194607,
          10.676747,
          38.256516,
          0,
          4.9702005,
          11.363114,
          0,
          5.8703623,
          0.16835308,
          5.593417,
          0,
          0,
          0,
          13.696115,
          33.122227,
          11.673322,
          1.0226831,
          0,
          0,
          1.6486874,
          0,
          0,
          0,
          38.204166,
          6.571727,
          0,
          4.872403,
          0,
          5.3891172,
          1.3453236,
          29.893124,
          0,
          6.4382524,
          0.38061905,
          0.28454304,
          36.00068,
          0,
          1.0477686,
          0,
          1.8554697,
          0,
          5.2044077,
          0.16736603,
          7.969239,
          0,
          1.0192261,
          0,
          9.856067,
          0.039743423,
          22.63179,
          0,
          0,
          33.168934,
          17.043224,
          0,
          2.717822,
          0.7189741,
          5.758889,
          4.2841635,
          24.239021,
          7.6622305,
          16.187534,
          0,
          0,
          0.27810764,
          1.7658129,
          0.8740692,
          2.8145018,
          13.800525,
          13.470925,
          34.981823,
          1.6187172,
          0.6624918,
          0,
          0.49018192,
          1.7376757,
          3.6003885,
          7.757188,
          5.831931,
          18.061127,
          0.42407322,
          7.026103,
          6.1495085,
          0,
          7.623164,
          0,
          11.206304,
          0.857646,
          2.0432653,
          5.9294252,
          17.953396,
          0,
          1.1655083,
          0.21644783,
          32.70912,
          1.2784014,
          1.0702257,
          0,
          0,
          9.105147,
          4.3885107,
          15.449416,
          8.513003,
          29.106823,
          9.228974,
          1.2726698,
          0,
          9.570558
         ],
         "xaxis": "x",
         "y": [
          0,
          0.23623466,
          14.188439,
          0.8398094,
          0,
          12.716756,
          12.802297,
          0,
          0.77553177,
          1.4154491,
          20.868214,
          18.341637,
          2.0558662,
          0.20671368,
          17.549206,
          0.72760963,
          0,
          0.75508595,
          0,
          18.464233,
          5.5561275,
          1.3317356,
          0.48036098,
          11.118859,
          15.566279,
          19.502834,
          0,
          17.0746,
          9.209197,
          0.0035848618,
          21.640465,
          1.6323366,
          4.2292213,
          2.4589405,
          13.017644,
          0,
          6.676631,
          17.59573,
          1.5360165,
          13.145768,
          19.012585,
          13.799109,
          7.6317835,
          0.0032482147,
          6.60353,
          0.26632214,
          0,
          0,
          18.264256,
          2.6446295,
          0,
          14.1533575,
          18.511711,
          15.961621,
          0.48363876,
          5.2502995,
          1.7332306,
          0.93680286,
          12.966483,
          1.2428112,
          0.45258045,
          0.025141716,
          0,
          6.60353,
          1.8403616,
          2.8912487,
          3.295949,
          5.375457,
          5.102627,
          0.8644295,
          18.253403,
          12.539737,
          0,
          17.516674,
          5.2015038,
          1.5300627,
          15.841382,
          0.5708723,
          0.7867298,
          19.3595,
          0,
          0,
          0,
          16.51511,
          14.298608,
          3.7881851,
          0,
          20.679573,
          0,
          9.558911,
          0.15025806,
          5.031911,
          0.80006313,
          19.442604,
          15.84335,
          0.89434147,
          3.3179255,
          12.791356,
          13.047784,
          5.076706,
          0,
          12.651069,
          15.415265,
          0,
          0.16306019,
          0,
          17.022396,
          0,
          11.565574,
          1.5666294,
          1.5323925,
          0,
          0,
          0,
          1.3774452,
          18.417072,
          0,
          17.219578,
          0,
          0,
          2.7780075,
          4.416582,
          0,
          0,
          0,
          14.412688,
          0,
          9.843421,
          14.38651,
          0.028532982,
          0,
          9.419431,
          10.643521,
          20.646473,
          0.26796532,
          6.60353,
          0,
          0,
          0,
          1.0747681,
          1.3102131,
          21.431301,
          0,
          8.085803,
          17.37043,
          7.6438417,
          0,
          0,
          23.604286,
          21.087372,
          0.5969448,
          0,
          2.0278387,
          10.725797,
          0,
          0,
          18.466763,
          0.6392851,
          0.40393925,
          20.535465,
          0.0013065338,
          5.683116,
          16.788109,
          0,
          0.93360996,
          8.383414,
          0.09203243,
          0.52324295,
          2.4163237,
          20.38311,
          0,
          12.459693,
          0.3508997,
          20.513649,
          1.8607903,
          0,
          22.755737,
          1.0094385,
          3.4556475,
          18.35178,
          4.516921,
          0,
          13.403205,
          10.64787,
          0.14582348,
          0.39378357,
          0.20244217,
          9.370448,
          19.733559,
          2.8459396,
          5.186824,
          1.2092905,
          0,
          19.94659,
          20.401142,
          12.698756,
          2.7428179,
          5.798854,
          0,
          2.1087847,
          12.699204,
          14.949512,
          0,
          16.446114,
          0.73300934,
          0.4889555,
          19.694782,
          1.2471352,
          3.4996357,
          20.97216,
          0.5904875,
          1.326107,
          15.978126,
          5.0011168,
          0,
          1.9067421,
          0,
          8.3075285,
          17.101208,
          1.2816772,
          0,
          9.584214,
          22.049366,
          2.9754257,
          0.68775845,
          0,
          0.9772749,
          4.5562487,
          0.2977991,
          1.8753128,
          17.421352,
          20.003899,
          17.412312,
          0.17742062,
          7.052804,
          0,
          17.37254,
          1.8005285,
          9.778039,
          0.2258482,
          10.120891,
          0,
          14.452664,
          2.396078,
          0,
          2.1190577,
          18.422054,
          9.996366,
          1.8748493,
          4.488715,
          0,
          20.1792,
          1.1326723,
          2.147809,
          15.062058,
          0,
          19.428143,
          2.0478344,
          0.16781616,
          16.59066,
          20.463024,
          2.353918,
          13.952693,
          9.509246,
          0,
          11.251018,
          21.644035,
          0,
          0.20023632,
          0,
          18.447968,
          0,
          0,
          0,
          0,
          12.68715,
          1.4519243,
          0,
          18.51728,
          2.2855206,
          1.548068,
          1.2987089,
          9.397574,
          19.872223,
          0,
          0,
          22.100697,
          21.078178,
          14.462956,
          0,
          10.755048,
          0.08488369,
          0.36162663,
          13.619103,
          14.598523,
          0.97441006,
          0,
          1.0946903,
          21.681862,
          18.819313,
          22.62748,
          16.724495,
          5.5979443,
          0,
          0,
          17.233646,
          0,
          0,
          19.592056,
          9.3268385,
          7.617614,
          0,
          0.97005844,
          0.9811945,
          0.81481266,
          0.7869997,
          20.688747,
          0,
          0.8158798,
          0,
          0,
          15.077231,
          2.5172014,
          20.318672,
          9.311887,
          9.687699,
          22.22866,
          0,
          1.7107172,
          8.666471,
          10.666802,
          0.16584778,
          22.169239,
          0.9452715,
          21.332481,
          0,
          0.18747044,
          0.22602749,
          21.406235,
          11.759271,
          0.68147373,
          0.29117966,
          7.502387,
          0,
          0,
          13.075994,
          0,
          0,
          22.262566,
          0,
          0.66182137,
          0,
          15.257655,
          16.78603,
          0.57228756,
          0.17213154,
          0,
          7.51385,
          21.345776,
          21.109451,
          19.935379,
          0.29647255,
          18.090843,
          0.33599186,
          8.660176,
          0.3843937,
          0,
          21.907684,
          2.0988483,
          0,
          0,
          18.662704,
          16.061958,
          0.1833973,
          17.857143,
          17.014446,
          11.061187,
          0,
          1.2665224,
          0,
          17.54417,
          0,
          7.834565,
          1.0866432,
          0.05148506,
          0.771575,
          0,
          0,
          1.1611414,
          0,
          13.427972,
          20.20132,
          0,
          15.235974,
          3.9872017,
          0,
          3.7714758,
          0,
          0.7893801,
          1.7953644,
          17.099003,
          2.1674042,
          4.4173994,
          0.04971695,
          4.0519514,
          0.019607544,
          21.92852,
          1.077138,
          21.413582,
          2.482191,
          0,
          0,
          14.264329,
          1.5624952,
          0,
          1.6763372,
          5.892111,
          0,
          7.4588556,
          0,
          1.9595022,
          13.34582,
          0.40137196,
          7.6391516,
          0,
          5.60085,
          15.427646,
          8.447476,
          0.027503014,
          1.0001068,
          1.3000221,
          17.519665,
          0,
          0,
          2.13445,
          4.6368923,
          9.551446,
          20.783985,
          8.617606,
          15.883555,
          0,
          15.180379,
          0,
          0,
          0.45563412,
          13.2915945,
          1.6368732,
          22.754097,
          9.508883,
          0.79654026,
          21.40981,
          2.7797003,
          0.7465658,
          18.781918,
          0,
          17.938976,
          0.039320946,
          0,
          16.097095,
          1.4582653,
          0,
          15.074431,
          9.831014,
          18.18507,
          2.5221968,
          2.1006355,
          14.015285,
          7.926257,
          0,
          0,
          0.27598953,
          16.712673,
          0.8218126,
          1.4201803,
          0,
          0,
          9.849547,
          0,
          5.7912827,
          4.465517,
          10.376323,
          21.92057,
          1.3514185,
          0.83638954,
          0.059394836,
          0,
          0,
          0.24318981,
          15.779639,
          2.2509203,
          5.254609,
          3.0836325,
          3.512578,
          17.746384,
          4.9235992,
          9.806235,
          18.28746,
          6.97705,
          0.22332,
          0,
          14.837111,
          13.642493,
          12.628427,
          1.3144608,
          1.740469,
          1.9906025,
          0.7482405,
          0,
          2.2346,
          0.7541847,
          4.5432425,
          11.773101,
          5.7721443,
          9.22803,
          4.393075,
          11.313184,
          0,
          6.248111,
          5.3838034,
          17.27391,
          4.667555,
          21.594723,
          24.943745,
          17.013485,
          0,
          15.632136,
          2.000228,
          0.7380886,
          0,
          0.4949484,
          0,
          0,
          0.45522404,
          0,
          0,
          0,
          1.960576,
          1.0170622,
          2.5783024,
          1.414362,
          14.006225,
          6.1901436,
          5.040227,
          4.5014887,
          3.984314,
          2.6146727,
          4.5828867,
          1.8270416,
          2.8193798,
          15.275624,
          0.51763344,
          2.2304983,
          19.430767,
          0.5404005,
          0.41809082,
          18.010998,
          16.129631,
          15.286918,
          5.050374,
          8.347278,
          21.00167,
          0.8751583,
          0.31764317,
          0,
          19.928692,
          0.26199913,
          0.1940546,
          14.170133,
          17.685062,
          0.27353954,
          1.8052635,
          19.241123,
          11.039769,
          15.574086,
          19.513783,
          6.0456905,
          6.044567,
          1.8313618,
          0,
          10.510015,
          0,
          13.301219,
          14.090665,
          14.978463,
          0,
          0,
          0,
          8.728723,
          8.563523,
          1.7334728,
          14.84427,
          0,
          0.3535757,
          1.0930891,
          12.082444,
          0.7100811,
          19.900833,
          10.564651,
          3.2080488,
          9.508016,
          7.8030596,
          2.2015905,
          8.628716,
          10.704415,
          0,
          17.178123,
          3.37885,
          0,
          2.5893946,
          10.9135065,
          0.96612644,
          0,
          0.8353834,
          15.792382,
          0,
          0,
          6.4994783,
          12.700131,
          0.5935335,
          18.957039,
          8.31244,
          11.017974,
          18.430878,
          4.927088,
          0.4826765,
          17.661968,
          2.2670765,
          15.751269,
          0,
          5.5679865,
          7.875472,
          0.99376583,
          2.625205,
          0.97916794,
          0,
          3.4179363,
          1.0025539,
          0,
          0,
          14.067498,
          0,
          12.912354,
          7.6547556,
          4.9194736,
          0.01121521,
          5.563468,
          0.82777977,
          11.78251,
          21.462479,
          0,
          1.9545469,
          1.9488201,
          2.6928701,
          20.829823,
          25.313328,
          0,
          0.75701904,
          19.593712,
          0,
          0.7709751,
          1.5873394,
          0.5914736,
          6.8836355,
          21.251225,
          0.15540314,
          1.3201275,
          0.69835854,
          0,
          17.441238,
          1.9647722,
          7.722787,
          0,
          10.515691,
          2.4635677,
          0,
          0,
          0,
          17.94653,
          2.0231857,
          1.2574377,
          0,
          19.892746,
          1.5466595,
          9.50361,
          22.1395,
          0,
          2.8465357,
          1.1411629,
          9.564673,
          3.5894165,
          0.65994835,
          0,
          23.48273,
          0.6282234,
          1.9665031,
          1.7600298,
          0,
          0,
          20.516071,
          0,
          19.350662,
          13.828345,
          3.2674618,
          0.16633415,
          21.525372,
          11.060393,
          0.9713249,
          21.46598,
          22.529991,
          4.24308,
          2.4827356,
          0.012404442,
          2.0957546,
          0,
          19.536194,
          0.11423397,
          17.082245,
          17.00039,
          0.1297636,
          4.0483866,
          0,
          4.4170017,
          0,
          0.5119333,
          0.27915,
          0,
          14.489882,
          0,
          18.99057,
          3.8166866,
          15.359717,
          2.9033337,
          1.1332922,
          0.52473736,
          0,
          14.67946,
          1.3522806,
          13.074813,
          1.7877884,
          0,
          10.931258,
          0,
          0,
          0,
          1.3833447,
          0,
          8.646041,
          0.46331692,
          15.596101,
          5.8151655,
          3.2228394,
          16.863739,
          18.576275,
          3.3012838,
          16.300488,
          12.639548,
          0.16474915,
          0,
          17.836506,
          16.649773,
          12.450189,
          3.8823977,
          2.3606462,
          23.41185,
          5.8481035,
          17.347244,
          8.364448,
          0,
          13.517631,
          19.30017,
          0.25321293,
          21.82587,
          1.2354889,
          0.99793243,
          1.4120808,
          14.692187,
          0,
          12.492301,
          0.2962408,
          6.5438795,
          0,
          11.234733,
          19.911804,
          9.420102,
          6.390897,
          0,
          1.1008234,
          0.17622948,
          2.730507,
          7.397231,
          22.97123,
          1.9068441,
          0.87083244,
          12.319259,
          5.7933645,
          19.529495,
          23.355202,
          2.2329025,
          10.524936,
          6.720332,
          9.22313,
          11.666957,
          0.7124033,
          3.637,
          2.6411972,
          0,
          4.461401,
          0.2477932,
          0,
          0,
          0,
          1.9120121,
          0,
          18.584236,
          15.196986,
          18.249317,
          7.1620474,
          0,
          0,
          21.390152,
          0,
          5.4016676,
          0.038388252,
          11.827695,
          1.5015593,
          3.5169554,
          10.588235,
          1.7713518,
          0.3376894,
          0,
          6.60353,
          0.7062788,
          17.610573,
          21.694065,
          5.382554,
          20.746483,
          1.0696754,
          9.640792,
          0,
          0,
          12.933206,
          19.081383,
          10.2418375,
          19.418427,
          0,
          6.22159,
          19.654575,
          1.7273808,
          1.1455355,
          16.574974,
          19.916286,
          3.421651,
          0.9766741,
          11.31556,
          0,
          4.483918,
          0.3701048,
          9.4131,
          17.238922,
          0,
          2.904848,
          19.290154,
          0,
          18.791481,
          14.499463,
          0.41400623,
          15.8954115,
          0,
          11.561337,
          2.0796003,
          0,
          0.6283102,
          1.3207998,
          0,
          2.0005503,
          0.39230347,
          6.0579147,
          0,
          14.965196,
          1.8135929,
          0,
          0,
          0,
          22.343693,
          7.607692,
          14.522332,
          7.104247,
          22.868614,
          1.3805447,
          0,
          19.548782,
          0,
          18.665222,
          6.4710264,
          0,
          3.0741863,
          19.181786,
          0,
          7.6968336,
          0,
          0,
          4.4909296,
          12.29597,
          12.966123,
          10.875325,
          0,
          17.918922,
          12.725228,
          17.523506,
          16.25579,
          0.775774,
          14.913785,
          22.096157,
          19.926235,
          15.053716,
          7.211646,
          0.5442724,
          14.580813,
          0,
          0.35674095,
          0,
          22.204865,
          4.8230762,
          9.423863,
          15.470193,
          2.2626305,
          0,
          3.7951765,
          0,
          13.936055,
          11.319306,
          14.680209,
          6.9696894
         ],
         "yaxis": "y"
        }
       ],
       "layout": {
        "legend": {
         "tracegroupgap": 0
        },
        "template": {
         "data": {
          "bar": [
           {
            "error_x": {
             "color": "#2a3f5f"
            },
            "error_y": {
             "color": "#2a3f5f"
            },
            "marker": {
             "line": {
              "color": "#E5ECF6",
              "width": 0.5
             },
             "pattern": {
              "fillmode": "overlay",
              "size": 10,
              "solidity": 0.2
             }
            },
            "type": "bar"
           }
          ],
          "barpolar": [
           {
            "marker": {
             "line": {
              "color": "#E5ECF6",
              "width": 0.5
             },
             "pattern": {
              "fillmode": "overlay",
              "size": 10,
              "solidity": 0.2
             }
            },
            "type": "barpolar"
           }
          ],
          "carpet": [
           {
            "aaxis": {
             "endlinecolor": "#2a3f5f",
             "gridcolor": "white",
             "linecolor": "white",
             "minorgridcolor": "white",
             "startlinecolor": "#2a3f5f"
            },
            "baxis": {
             "endlinecolor": "#2a3f5f",
             "gridcolor": "white",
             "linecolor": "white",
             "minorgridcolor": "white",
             "startlinecolor": "#2a3f5f"
            },
            "type": "carpet"
           }
          ],
          "choropleth": [
           {
            "colorbar": {
             "outlinewidth": 0,
             "ticks": ""
            },
            "type": "choropleth"
           }
          ],
          "contour": [
           {
            "colorbar": {
             "outlinewidth": 0,
             "ticks": ""
            },
            "colorscale": [
             [
              0,
              "#0d0887"
             ],
             [
              0.1111111111111111,
              "#46039f"
             ],
             [
              0.2222222222222222,
              "#7201a8"
             ],
             [
              0.3333333333333333,
              "#9c179e"
             ],
             [
              0.4444444444444444,
              "#bd3786"
             ],
             [
              0.5555555555555556,
              "#d8576b"
             ],
             [
              0.6666666666666666,
              "#ed7953"
             ],
             [
              0.7777777777777778,
              "#fb9f3a"
             ],
             [
              0.8888888888888888,
              "#fdca26"
             ],
             [
              1,
              "#f0f921"
             ]
            ],
            "type": "contour"
           }
          ],
          "contourcarpet": [
           {
            "colorbar": {
             "outlinewidth": 0,
             "ticks": ""
            },
            "type": "contourcarpet"
           }
          ],
          "heatmap": [
           {
            "colorbar": {
             "outlinewidth": 0,
             "ticks": ""
            },
            "colorscale": [
             [
              0,
              "#0d0887"
             ],
             [
              0.1111111111111111,
              "#46039f"
             ],
             [
              0.2222222222222222,
              "#7201a8"
             ],
             [
              0.3333333333333333,
              "#9c179e"
             ],
             [
              0.4444444444444444,
              "#bd3786"
             ],
             [
              0.5555555555555556,
              "#d8576b"
             ],
             [
              0.6666666666666666,
              "#ed7953"
             ],
             [
              0.7777777777777778,
              "#fb9f3a"
             ],
             [
              0.8888888888888888,
              "#fdca26"
             ],
             [
              1,
              "#f0f921"
             ]
            ],
            "type": "heatmap"
           }
          ],
          "heatmapgl": [
           {
            "colorbar": {
             "outlinewidth": 0,
             "ticks": ""
            },
            "colorscale": [
             [
              0,
              "#0d0887"
             ],
             [
              0.1111111111111111,
              "#46039f"
             ],
             [
              0.2222222222222222,
              "#7201a8"
             ],
             [
              0.3333333333333333,
              "#9c179e"
             ],
             [
              0.4444444444444444,
              "#bd3786"
             ],
             [
              0.5555555555555556,
              "#d8576b"
             ],
             [
              0.6666666666666666,
              "#ed7953"
             ],
             [
              0.7777777777777778,
              "#fb9f3a"
             ],
             [
              0.8888888888888888,
              "#fdca26"
             ],
             [
              1,
              "#f0f921"
             ]
            ],
            "type": "heatmapgl"
           }
          ],
          "histogram": [
           {
            "marker": {
             "pattern": {
              "fillmode": "overlay",
              "size": 10,
              "solidity": 0.2
             }
            },
            "type": "histogram"
           }
          ],
          "histogram2d": [
           {
            "colorbar": {
             "outlinewidth": 0,
             "ticks": ""
            },
            "colorscale": [
             [
              0,
              "#0d0887"
             ],
             [
              0.1111111111111111,
              "#46039f"
             ],
             [
              0.2222222222222222,
              "#7201a8"
             ],
             [
              0.3333333333333333,
              "#9c179e"
             ],
             [
              0.4444444444444444,
              "#bd3786"
             ],
             [
              0.5555555555555556,
              "#d8576b"
             ],
             [
              0.6666666666666666,
              "#ed7953"
             ],
             [
              0.7777777777777778,
              "#fb9f3a"
             ],
             [
              0.8888888888888888,
              "#fdca26"
             ],
             [
              1,
              "#f0f921"
             ]
            ],
            "type": "histogram2d"
           }
          ],
          "histogram2dcontour": [
           {
            "colorbar": {
             "outlinewidth": 0,
             "ticks": ""
            },
            "colorscale": [
             [
              0,
              "#0d0887"
             ],
             [
              0.1111111111111111,
              "#46039f"
             ],
             [
              0.2222222222222222,
              "#7201a8"
             ],
             [
              0.3333333333333333,
              "#9c179e"
             ],
             [
              0.4444444444444444,
              "#bd3786"
             ],
             [
              0.5555555555555556,
              "#d8576b"
             ],
             [
              0.6666666666666666,
              "#ed7953"
             ],
             [
              0.7777777777777778,
              "#fb9f3a"
             ],
             [
              0.8888888888888888,
              "#fdca26"
             ],
             [
              1,
              "#f0f921"
             ]
            ],
            "type": "histogram2dcontour"
           }
          ],
          "mesh3d": [
           {
            "colorbar": {
             "outlinewidth": 0,
             "ticks": ""
            },
            "type": "mesh3d"
           }
          ],
          "parcoords": [
           {
            "line": {
             "colorbar": {
              "outlinewidth": 0,
              "ticks": ""
             }
            },
            "type": "parcoords"
           }
          ],
          "pie": [
           {
            "automargin": true,
            "type": "pie"
           }
          ],
          "scatter": [
           {
            "fillpattern": {
             "fillmode": "overlay",
             "size": 10,
             "solidity": 0.2
            },
            "type": "scatter"
           }
          ],
          "scatter3d": [
           {
            "line": {
             "colorbar": {
              "outlinewidth": 0,
              "ticks": ""
             }
            },
            "marker": {
             "colorbar": {
              "outlinewidth": 0,
              "ticks": ""
             }
            },
            "type": "scatter3d"
           }
          ],
          "scattercarpet": [
           {
            "marker": {
             "colorbar": {
              "outlinewidth": 0,
              "ticks": ""
             }
            },
            "type": "scattercarpet"
           }
          ],
          "scattergeo": [
           {
            "marker": {
             "colorbar": {
              "outlinewidth": 0,
              "ticks": ""
             }
            },
            "type": "scattergeo"
           }
          ],
          "scattergl": [
           {
            "marker": {
             "colorbar": {
              "outlinewidth": 0,
              "ticks": ""
             }
            },
            "type": "scattergl"
           }
          ],
          "scattermapbox": [
           {
            "marker": {
             "colorbar": {
              "outlinewidth": 0,
              "ticks": ""
             }
            },
            "type": "scattermapbox"
           }
          ],
          "scatterpolar": [
           {
            "marker": {
             "colorbar": {
              "outlinewidth": 0,
              "ticks": ""
             }
            },
            "type": "scatterpolar"
           }
          ],
          "scatterpolargl": [
           {
            "marker": {
             "colorbar": {
              "outlinewidth": 0,
              "ticks": ""
             }
            },
            "type": "scatterpolargl"
           }
          ],
          "scatterternary": [
           {
            "marker": {
             "colorbar": {
              "outlinewidth": 0,
              "ticks": ""
             }
            },
            "type": "scatterternary"
           }
          ],
          "surface": [
           {
            "colorbar": {
             "outlinewidth": 0,
             "ticks": ""
            },
            "colorscale": [
             [
              0,
              "#0d0887"
             ],
             [
              0.1111111111111111,
              "#46039f"
             ],
             [
              0.2222222222222222,
              "#7201a8"
             ],
             [
              0.3333333333333333,
              "#9c179e"
             ],
             [
              0.4444444444444444,
              "#bd3786"
             ],
             [
              0.5555555555555556,
              "#d8576b"
             ],
             [
              0.6666666666666666,
              "#ed7953"
             ],
             [
              0.7777777777777778,
              "#fb9f3a"
             ],
             [
              0.8888888888888888,
              "#fdca26"
             ],
             [
              1,
              "#f0f921"
             ]
            ],
            "type": "surface"
           }
          ],
          "table": [
           {
            "cells": {
             "fill": {
              "color": "#EBF0F8"
             },
             "line": {
              "color": "white"
             }
            },
            "header": {
             "fill": {
              "color": "#C8D4E3"
             },
             "line": {
              "color": "white"
             }
            },
            "type": "table"
           }
          ]
         },
         "layout": {
          "annotationdefaults": {
           "arrowcolor": "#2a3f5f",
           "arrowhead": 0,
           "arrowwidth": 1
          },
          "autotypenumbers": "strict",
          "coloraxis": {
           "colorbar": {
            "outlinewidth": 0,
            "ticks": ""
           }
          },
          "colorscale": {
           "diverging": [
            [
             0,
             "#8e0152"
            ],
            [
             0.1,
             "#c51b7d"
            ],
            [
             0.2,
             "#de77ae"
            ],
            [
             0.3,
             "#f1b6da"
            ],
            [
             0.4,
             "#fde0ef"
            ],
            [
             0.5,
             "#f7f7f7"
            ],
            [
             0.6,
             "#e6f5d0"
            ],
            [
             0.7,
             "#b8e186"
            ],
            [
             0.8,
             "#7fbc41"
            ],
            [
             0.9,
             "#4d9221"
            ],
            [
             1,
             "#276419"
            ]
           ],
           "sequential": [
            [
             0,
             "#0d0887"
            ],
            [
             0.1111111111111111,
             "#46039f"
            ],
            [
             0.2222222222222222,
             "#7201a8"
            ],
            [
             0.3333333333333333,
             "#9c179e"
            ],
            [
             0.4444444444444444,
             "#bd3786"
            ],
            [
             0.5555555555555556,
             "#d8576b"
            ],
            [
             0.6666666666666666,
             "#ed7953"
            ],
            [
             0.7777777777777778,
             "#fb9f3a"
            ],
            [
             0.8888888888888888,
             "#fdca26"
            ],
            [
             1,
             "#f0f921"
            ]
           ],
           "sequentialminus": [
            [
             0,
             "#0d0887"
            ],
            [
             0.1111111111111111,
             "#46039f"
            ],
            [
             0.2222222222222222,
             "#7201a8"
            ],
            [
             0.3333333333333333,
             "#9c179e"
            ],
            [
             0.4444444444444444,
             "#bd3786"
            ],
            [
             0.5555555555555556,
             "#d8576b"
            ],
            [
             0.6666666666666666,
             "#ed7953"
            ],
            [
             0.7777777777777778,
             "#fb9f3a"
            ],
            [
             0.8888888888888888,
             "#fdca26"
            ],
            [
             1,
             "#f0f921"
            ]
           ]
          },
          "colorway": [
           "#636efa",
           "#EF553B",
           "#00cc96",
           "#ab63fa",
           "#FFA15A",
           "#19d3f3",
           "#FF6692",
           "#B6E880",
           "#FF97FF",
           "#FECB52"
          ],
          "font": {
           "color": "#2a3f5f"
          },
          "geo": {
           "bgcolor": "white",
           "lakecolor": "white",
           "landcolor": "#E5ECF6",
           "showlakes": true,
           "showland": true,
           "subunitcolor": "white"
          },
          "hoverlabel": {
           "align": "left"
          },
          "hovermode": "closest",
          "mapbox": {
           "style": "light"
          },
          "paper_bgcolor": "white",
          "plot_bgcolor": "#E5ECF6",
          "polar": {
           "angularaxis": {
            "gridcolor": "white",
            "linecolor": "white",
            "ticks": ""
           },
           "bgcolor": "#E5ECF6",
           "radialaxis": {
            "gridcolor": "white",
            "linecolor": "white",
            "ticks": ""
           }
          },
          "scene": {
           "xaxis": {
            "backgroundcolor": "#E5ECF6",
            "gridcolor": "white",
            "gridwidth": 2,
            "linecolor": "white",
            "showbackground": true,
            "ticks": "",
            "zerolinecolor": "white"
           },
           "yaxis": {
            "backgroundcolor": "#E5ECF6",
            "gridcolor": "white",
            "gridwidth": 2,
            "linecolor": "white",
            "showbackground": true,
            "ticks": "",
            "zerolinecolor": "white"
           },
           "zaxis": {
            "backgroundcolor": "#E5ECF6",
            "gridcolor": "white",
            "gridwidth": 2,
            "linecolor": "white",
            "showbackground": true,
            "ticks": "",
            "zerolinecolor": "white"
           }
          },
          "shapedefaults": {
           "line": {
            "color": "#2a3f5f"
           }
          },
          "ternary": {
           "aaxis": {
            "gridcolor": "white",
            "linecolor": "white",
            "ticks": ""
           },
           "baxis": {
            "gridcolor": "white",
            "linecolor": "white",
            "ticks": ""
           },
           "bgcolor": "#E5ECF6",
           "caxis": {
            "gridcolor": "white",
            "linecolor": "white",
            "ticks": ""
           }
          },
          "title": {
           "x": 0.05
          },
          "xaxis": {
           "automargin": true,
           "gridcolor": "white",
           "linecolor": "white",
           "ticks": "",
           "title": {
            "standoff": 15
           },
           "zerolinecolor": "white",
           "zerolinewidth": 2
          },
          "yaxis": {
           "automargin": true,
           "gridcolor": "white",
           "linecolor": "white",
           "ticks": "",
           "title": {
            "standoff": 15
           },
           "zerolinecolor": "white",
           "zerolinewidth": 2
          }
         }
        },
        "title": {
         "text": "Feature 1 vs Feature 2"
        },
        "xaxis": {
         "anchor": "y",
         "domain": [
          0,
          1
         ],
         "title": {
          "text": "val1"
         }
        },
        "yaxis": {
         "anchor": "x",
         "domain": [
          0,
          1
         ],
         "title": {
          "text": "val2"
         }
        }
       }
      },
      "text/html": [
       "<div>                            <div id=\"716f57ad-4524-4efa-857b-e9797032e7d2\" class=\"plotly-graph-div\" style=\"height:525px; width:100%;\"></div>            <script type=\"text/javascript\">                require([\"plotly\"], function(Plotly) {                    window.PLOTLYENV=window.PLOTLYENV || {};                                    if (document.getElementById(\"716f57ad-4524-4efa-857b-e9797032e7d2\")) {                    Plotly.newPlot(                        \"716f57ad-4524-4efa-857b-e9797032e7d2\",                        [{\"customdata\":[[\" which\",\"\\u003c|endoftext|\\u003e| which| had\"],[\" every\",\" as they're used in| every| shop\"],[\" this\",\" the courage to jump off| this| one\"],[\" that\",\" work our way over to| that| one\"],[\" that\",\" pulls the ball, and| that|'s\"],[\" this\",\"0 against unranked opponents| this| season\"],[\" this\",\" outscored its opponents| this| season\"],[\" The\",\"-degree VR environment.| The| CES\"],[\"These\",\" visual experience.\\n\\n|These| —\"],[\"This\",\" even there.\\n\\n|This| was\"],[\" this\",\" my attention that he posted| this| photo\"],[\" this\",\": ��Had ordered| this| suit\"],[\" every\",\"\\u003c|endoftext|\\u003e changes the behavior of| every| single\"],[\" the\",\" part of the kernel with| the| option\"],[\" this\",\"based approach. I wrote| this| wrapper\"],[\" that\",\" Then whatever the answer to| that| question\"],[\" that\",\" to that question is,| that| will\"],[\" it\",\" are just as contaminated by| it| all\"],[\" that\",\" the size challenge. But| that| stereotypical\"],[\" this\",\" needed a pit bull in| this| neighborhood\"],[\" this\",\"od compound in Portland,| this| one\"],[\"This\",\" salad tomorrow.\\n\\n|This| post\"],[\" these\",\" or other issues. Sometimes| these| unsc\"],[\" this\",\"\\u003c|endoftext|\\u003e reform on Capitol Hill| this| year\"],[\" this\",\" what he says. In| this| example\"],[\" this\",\" problem with doing that in| this| game\"],[\"That\",\" Cup.\\n\\n\\\"|That| music\"],[\" this\",\" we answered what was behind| this| big\"],[\" these\",\" supporters apparently wanted to ensure| these| women\"],[\" an\",\" using Genius. To see| an| annotation\"],[\" this\",\" into Trump's antics in| this| post\"],[\" that\",\" (as I'll save| that| for\"],[\"This\",\" release.\\n\\n\\\"|This| is\"],[\"This\",\" explained.\\n\\n\\\"|This| is\"],[\" this\",\", philosophers of science believe| this| now\"],[\" This\",\" in a physics textbook.| This| is\"],[\" this\",\" start teaching again and all| this| stuff\"],[\" this\",\" now just locked in to| this| other\"],[\" other\",\" just locked in to this| other| [\"],[\" this\",\" Council approved the increase earlier| this| month\"],[\" this\",\" Cheetahs have adopted| this| playing\"],[\" this\",\" the past year. Despite| this|,\"],[\" this\",\"\\u003c|endoftext|\\u003e��| this| assessment\"],[\" the\",\" since Shelf Awareness broke| the| story\"],[\" this\",\"\\u003c|endoftext|\\u003e| this| site\"],[\" the\",\" to settle before I begin| the| next\"],[\" that\",\" currently wrapping up, but| that| was\"],[\" first\",\" hundreds of thousands. The| first| smarter\"],[\" this\",\" not difficult to recognise in| this| lovely\"],[\" This\",\" explain, not confuse.| This| time\"],[\" that\",\" from Canada. Okay,| that|'s\"],[\" this\",\" quark matter. In| this| case\"],[\" this\",\" stabilize itself and survive in| this| state\"],[\" this\",\" A-type star in| this| hypothetical\"],[\" that\",\" for us to accentuate| that|.\"],[\"This\",\" 14, 1990) (|This| episode\"],[\" This\",\" perfectly to 3D.| This| Batman\"],[\" similar\",\" Sweden at risk of a| similar| outcome\"],[\" this\",\" war? Well, consider| this|:\"],[\" the\",\" up to level \\u003c entering| the| circle\"],[\" This\",\" actually deeds of trust.| This| process\"],[\" This\",\"as elaborated upon below).| This| process\"],[\" few\",\" never looked back. A| few| times\"],[\" this\",\"\\u003c|endoftext|\\u003e| this| process\"],[\" it\",\"\\nFor those who saw| it| more\"],[\"This\",\" not shown).\\n\\n|This| report\"],[\" present\",\" lectin isolated in the| present| investigation\"],[\" this\",\" unlike the previous two,| this| article\"],[\" following\",\"end parts that cover the| following| main\"],[\" it\",\"If you want to try| it| by\"],[\" this\",\" and MySQL running to build| this| chart\"],[\" this\",\"ob chasing their food sources| this| direction\"],[\"Another\",\" this direction.\\n\\n|Another| big\"],[\" this\",\" Oregon coast had never seen| this| before\"],[\" these\",\" still don't know why| these| Dol\"],[\" it\",\" \\\"complete agreement\\\" with| it|,\"],[\" this\",\" lame! Lets deal with| this| but\"],[\" This\",\"� in.��| This| one\"],[\" every\",\" for your pursuit to express| every| moment\"],[\" this\",\" 53% of workers citing| this|:\"],[\" The\",\" Charitable Trusts.| The| same\"],[\" same\",\"itable Trusts. The| same| is\"],[\" That\",\" other kinds of engineering.| That| means\"],[\" this\",\" who thinks we can move| this| economy\"],[\" this\",\" didn��t come| this| far\"],[\" these\",\" Byne. Together,| these| two\"],[\" Each\",\" Monday, November 29.| Each| of\"],[\" this\",\"ona said, \\\"At| this| time\"],[\" Which\",\" toy for my puppy!| Which| he\"],[\" this\",\" adore!\\n\\nAnd| this| is\"],[\" This\",\"driver\\u002ftorch!| This| is\"],[\" this\",\"th's screwdriver so| this| will\"],[\" each\",\" civil liberties protections differ in| each| of\"],[\" this\",\" and pastoral. I write| this| because\"],[\" this\",\" reasonable manner. He shares| this| temperament\"],[\" another\",\"ff accessed, and deployed| another| that\"],[\"This\",\"-116):\\n\\n|This| had\"],[\" this\",\" see (for example)| this| or\"],[\" this\",\"for example) this or| this| from\"],[\" these\",\" could be altered by manipulating| these| metabolic\"],[\"Similar\",\" cells.\\n\\n\\\"|Similar| control\"],[\" this\",\"It is detailed information like| this| that\"],[\" this\",\"; economic models often work| this| way\"],[\" that\",\"-school mathematics. But| that|\"],[\" that\",\" people who want to do| that|,\"],[\" It\",\" that, I think.| It|�\"],[\" this\",\" leaders were failing to show| this|.\"],[\" These\",\" sticking with the process.| These| people\"],[\" this\",\" up to 500 less shots| this| season\"],[\" that\",\" If he were to achieve| that| feat\"],[\"This\",\" anul trecut.|This| is\"],[\" is\",\"ul trecut.This| is| the\"],[\" These\",\" to rig the election.| These| outrageous\"],[\" which\",\"\\u003c|endoftext|\\u003e| which| have\"],[\" This\",\" ranks up your Team.| This| is\"],[\" this\",\" is and attempt to justify| this| by\"],[\" This\",\" insight to the leader.| This| may\"],[\" this\",\" the same. So in| this| context\"],[\" [\",\" kuutsinaruti| [|ku\"],[\" [\",\"� atigitsaq| [|a\"],[\" that\",\", the ranking Democrat on| that| panel\"],[\"This\",\" to work.\\\"\\n\\n|This|\"],[\" Cheong\",\" is that of suspense.| Cheong| (\"],[\"That\",\" tax bill.\\n\\n|That|'s\"],[\"The\",\" been removed.\\n\\n|The| very\"],[\" this\",\"\\u003c|endoftext|\\u003e2 percent| this| year\"],[\" few\",\" stood shocked nearby. A| few| away\"],[\" these\",\" to praise the commitment of| these| Isles\"],[\" this\",\"�t want to do| this| because\"],[\" that\",\"�t wanna deal with| that| it\"],[\" that\",\":\\n\\nWell,| that| was\"],[\" this\",\" Clinton-Trump debate,| this| one\"],[\" these\",\" in a way used by| these| people\"],[\" this\",\" who are paid to organize| this| fraud\"],[\" This\",\" to connect the dots.| This| was\"],[\" this\",\"\\u003c|endoftext|\\u003e| this| form\"],[\" first\",\"\\u003c|endoftext|\\u003e.\\n\\nThe| first| formally\"],[\"One\",\" a machine.\\n\\n|One|\"],[\" or\",\" any individual member what he| or| she\"],[\" This\",\" Spence.��| This| is\"],[\" thought\",\" Design is a school of| thought| which\"],[\" this\",\" sides of his mouth about| this| signature\"],[\"these\",\", hormones, stress—|these| are\"],[\" this\",\" So it could be that| this| is\"],[\" this\",\" weather—is she on| this| medication\"],[\" these\",\"\\n\\n'We knew| these| different\"],[\"The\",\" educational infrastructure.\\n\\n|The| situation\"],[\" same\",\" Mediafax reported. The| same| document\"],[\" this\",\" rural and urban areas in| this| respect\"],[\" this\",\" rural areas are confronted with| this| situation\"],[\" situation\",\" areas are confronted with this| situation|,\"],[\"The\",\" in cities.\\n\\n|The| absence\"],[\" that\",\" end of her fight with| that| psychopath\"],[\" these\",\" an internationally recognized authority on| these| matters\"],[\" That\",\" in the default settings.| That| made\"],[\"Another\",\" web interface.\\n\\n|Another| set\"],[\" this\",\" most successful fishing captains understood| this| migr\"],[\" current\",\" phase, water temperature,| current| direction\"],[\" that\",\"d always start out in| that| weakened\"],[\" this\",\"\\u003c|endoftext|\\u003e of| this| issue\"],[\" another\",\" All-Star money or| another| family\"],[\" these\",\" \\\"always white people putting| these| things\"],[\" this\",\" and try to get him| this| win\"],[\"Last\",\"kin said. ��|Last| two\"],[\" this\",\" out. In some ways| this| may\"],[\" these\",\" the best ways to obtain| these| cards\"],[\" last\",\"\\n\\nIt started the| last| Wednesday\"],[\" a\",\" energy had to withstand such| a| w\"],[\"This\",\"' and said, '|This| election\"],[\" this\",\" Ready For Hillary, tweeted| this| picture\"],[\" The\",\" opposed to paper ballots.| The| study\"],[\" this\",\" been hacked, but indicated| this| was\"],[\"This\",\" Maple Leafs, 2.|This| is\"],[\" this\",\" technical details that went into| this|,\"],[\"This\",\" time.\\n\\n\\\"|This| is\"],[\" impact\",\" always shown that our broader| impact| —\"],[\" this\",\" a far bigger role in| this| election\"],[\" election\",\" far bigger role in this| election|.\\\"\"],[\" these\",\" and the girls are certain| these| three\"],[\" this\",\" sectarian strife that continues to| this| day\"],[\" these\",\" Pictures 36 Pictures All of| these| celebrities\"],[\" These\",\" More picture galleries 16 Pictures| These| photos\"],[\" this\",\" expected outcomes in core subjects| this| year\"],[\" this\",\" to 3.8%| this| year\"],[\" These\",\" access journal PLoS One.| These| findings\"],[\" it\",\" not only moved out of| it| to\"],[\" much\",\" out of it to settle| much| of\"],[\" these\",\" to trace the movement of| these|\"],[\" this\",\"The other major force in| this| area\"],[\"This\",\"�ites.\\n\\n|This| is\"],[\" this\",\" of gas supplies. Is| this| not\"],[\" This\",\" put things in proportion.| This| is\"],[\" following\",\" Zealanders which of the| following| statements\"],[\" this\",\" life, but God guided| this| process\"],[\" this\",\" God had no part in| this| process\"],[\" this\",\" was finally published in May| this| year\"],[\" that\",\" suicide almost robbed her of| that| bright\"],[\" This\",\"\\n\\n*Correction:| This| article\"],[\" These\",\" reduce your carbon footprint.| These| are\"],[\" that\",\" Goldstein should consider giving up| that| luxury\"],[\" this\",\" like I want I want| this| to\"],[\" this\",\" the trick\\n\\nto| this| Oh\"],[\"Last\",\"He added: ��|Last| night\"],[\" this\",\" God is trying to make| this| so\"],[\" that\",\"�� himself to beat| that| one\"],[\" that\",\" doesn��t do| that| nothing\"],[\" this\",\"kegaard too had diagnosed| this| particular\"],[\" particular\",\"gaard too had diagnosed this| particular| form\"],[\" these\",\" took over in 2010 and| these| MPs\"],[\" this\",\" you have a hand in| this|.\"],[\" the\",\"acey Crouch also received| the| letter\"],[\" offence\",\"\\u003c|endoftext|\\u003e an indictable| offence|.\"],[\" this\",\" See Backtalk interview in| this| issue\"],[\" this\",\" competition in Paris. But| this| Israeli\"],[\" That\",\" was 8 months old.| That| means\"],[\" same\",\" means she developed prematurely,| same| thing\"],[\" that\",\" once or twice, but| that| decision\"],[\" this\",\" second T-Rex,| this| one\"],[\" this\",\"To see the reefs change| this| dramatically\"],[\"This\",\".\\n\\n��|This| intense\"],[\" intense\",\"\\n\\n��This| intense| heat\"],[\" this\",\"�To our knowledge,| this| is\"],[\" this\",\" app store could help address| this| deficit\"],[\" This\",\" Android, as well?| This| question\"],[\" every\",\" player a +2 to| every| subsequent\"],[\" It\",\"\\u003c|endoftext|\\u003efriendly electorate.| It|'s\"],[\" that\",\" counterparts elsewhere to reach for| that| option\"],[\" these\",\". Unfortunately, many of| these| things\"],[\" every\",\" agencies abilities to listen to| every| citizen\"],[\"This\",\" every citizen.\\n\\n|This| article\"],[\" this\",\" permission to republish| this| article\"],[\" this\",\" justifying-piracy post from| this| morning\"],[\" this\",\"d like to expand on| this| part\"],[\" video\",\" does not support HTML5| video| tag\"],[\" this\",\"t know actually, maybe| this| would\"],[\"Last\",\" for change.\\n\\n|Last|\"],[\" this\",\"��\\n\\nFrom| this| recent\"],[\" recent\",\"�\\n\\nFrom this| recent| hearing\"],[\" this\",\" in Florida. Many believe| this| is\"],[\" another\",\" Many believe this is yet| another| sign\"],[\" this\",\" the more we saw that| this| game\"],[\" These\",\" a big rework.| These| past\"],[\" this\",\" groundwork to make sure that| this| game\"],[\"This\",\".��\\n\\n|This| hard\"],[\" work\",\"�\\n\\nThis hard| work| paid\"],[\" next\",\" and Lai discussed their| next| move\"],[\" this\",\"A little birdie gave| this| to\"],[\" this\",\"ie gave this to us| this| morning\"],[\" these\",\" They are a bit hot| these| days\"],[\" this\",\" exchange.\\n\\nBut| this| is\"],[\" following\",\"\\u003c|endoftext|\\u003e\\n\\nThe| following| is\"],[\" this\",\" average, caloric intakes on| this| diet\"],[\" this\",\" dietary fat. Obviously,| this| will\"],[\" that\",\"\\nSo with all of| that| in\"],[\" this\",\" charge of curating all| this| video\"],[\" These\",\" used in law enforcement.| These| are\"],[\" this\",\"\\n\\\"We fully retract| this| paper\"],[\" that\",\" a decision and improve on| that| decision\"],[\" different\",\" your previous decisions were a| different| beings\"],[\" this\",\" fit in. So in| this| quarterback\"],[\" this\",\" quarterbacks likely to be in| this| year\"],[\" that\",\" I start growing curious of| that| L\"],[\" this\",\". I do not mean| this| as\"],[\" these\",\" gear is designed to take| these| loads\"],[\" result\",\" the touchdown. The end| result| was\"],[\" this\",\"Hare International airport earlier| this| year\"],[\" this\",\"\\u003c|endoftext|\\u003e now at| this| link\"],[\"The\",\"f reports.\\n\\n|The| activists\"],[\" This\",\" get a second serve .| This| is\"],[\"The\",\" William Jennings.\\n\\n|The| company\"],[\" this\",\"\\u003c|endoftext|\\u003e much she loves| this| man\"],[\" That\",\"��t able.| That|\"],[\"That\",\",\\\" he says. \\\"|That| takes\"],[\" That\",\" part of your salary.| That|�\"],[\" Another\",\" schemes in the country.| Another| $\"],[\" this\",\" And in defence of all| this|,\"],[\" that\",\" hiding in plain sight behind| that|,\"],[\"Last\",\"�� he added.|Last| week\"],[\" this\",\" school and college and announced| this| summer\"],[\" last\",\" online in China. During| last| year\"],[\"This\",\" 60 ]−\\n\\n|This| salt\"],[\" deciding\",\" Internet access has become a| deciding| factor\"],[\" this\",\"��I feel like| this| is\"],[\" this\",\" in public, especially for| this|.\"],[\" that\",\" income growth. In aggregate| that| decision\"],[\" second\",\"al consequences. And the| second| era\"],[\" this\",\" shifts allow the losers from| this| arrangement\"],[\" this\",\" been in a relationship with| this| woman\"],[\" this\",\" about spending the next year| this|\"],[\"Last\",\" pollinators.\\n\\n|Last| year\"],[\" this\",\" restricted to talk. Earlier| this| week\"],[\" that\",\" says. ��At| that| time\"],[\"This\",\" was like, ��|This| kid\"],[\" this\",\" similar wiretap order earlier| this| year\"],[\" this\",\" banking blockade against WikiLeaks download| this| PDF\"],[\" This\",\" leaks in journalistic history.| This| has\"],[\" that\",\"�� before, but| that|�\"],[\"This\",\" academic literature.\\n\\n|This|,\"],[\" this\",\"The government did look at| this| matter\"],[\" this\",\" 883 suspects. To| this| day\"],[\" this\",\" privacy can be respected at| this| time\"],[\" this\",\"The New York Post reported| this| week\"],[\" this\",\" were warming faster, and| this| was\"],[\" This\",\" of kriging.| This| is\"],[\" is\",\" kriging. This| is| a\"],[\" this\",\" right way to look at| this| is\"],[\" Every\",\" be much more local.| Every| missing\"],[\" each\",\" the 1999 Tour – but| each| passing\"],[\" this\",\" but each passing day sees| this| time\"],[\" these\",\"I always like to end| these| updates\"],[\" this\",\" discussion about interest. All| this| talk\"],[\" That\",\" the most important number.| That| continues\"],[\" This\",\"sheltered accounts.| This| is\"],[\" our\",\" vegan casseroles to| our| Daily\"],[\" These\",\" to take one example.| These| tend\"],[\" This\",\" bed for the night.| This| can\"],[\" this\",\" not correct Daudi on| this| point\"],[\" It\",\" and never ending faith.| It| is\"],[\" that\",\" at a level equal to| that| of\"],[\" That\",\" for white American households.| That| means\"],[\" that\",\" Hispanics. My friends,| that| gap\"],[\" this\",\" slob? Consider building| this| food\"],[\" This\",\" RAST dresser.| This| hacker\"],[\" this\",\" What is at stake in| this| contest\"],[\" these\",\" all manufacturers to offer together| these| technically\"],[\" these\",\" Office of Aviation to make| these| safety\"],[\" this\",\" stain on the face of| this| campus\"],[\"One\",\" protective orders.\\n\\n|One| taken\"],[\" This\",\" health associations and correlations.| This| led\"],[\" these\",\" initially not able to reproduce| these| effects\"],[\" these\",\"\\u003c|endoftext|\\u003eAM has uncovered| these| overdoses\"],[\" that\",\"\\n\\nSo I did| that|\"],[\" this\",\"To sustain the city in| this| difficult\"],[\" difficult\",\" sustain the city in this| difficult| site\"],[\" this\",\" to make our theme for| this| issue\"],[\" This\",\" the Movies.��| This| was\"],[\" that\",\" the ball was out by| that| much\"],[\" so\",\" scorn, as they did| so|.\"],[\" this\",\" level of past players on| this| roster\"],[\" this\",\" Steve Ballmer – If| this| Microsoft\"],[\" here\",\"\\nTake two key provisions| here|,\"],[\" US\",\".3 1.07| US| Platinum\"],[\" this\",\". As things stand,| this| constitutes\"],[\" whole\",\" developmental learning disabilities, the| whole| process\"],[\" Such\",\" used to test drugs.| Such| organ\"],[\" this\",\":\\n\\nWe hope| this| work\"],[\"Such\",\" vivo systems.\\n\\n|Such| 3\"],[\" The\",\" conduct biomedical research worldwide.| The| NC\"],[\" this\",\" a laptop could have vetted| this| preacher\"],[\"One\",\" something else).\\n\\n|One| rum\"],[\" This\",\" the flat ones bounce.| This| has\"],[\" One\",\" filed as a result.| One| by\"],[\" this\",\", or he's doing| this| because\"],[\" this\",\" And the latest evidence of| this| comes\"],[\" each\",\" do than wail on| each| other\"],[\" that\",\" defense and Cover 3 at| that|.\"],[\" That\",\" Cover 3 at that.| That|�\"],[\" these\",\", the benefit with scouting| these|\"],[\" this\",\"ine Chiou contributed to| this| report\"],[\" this\",\" believe the official word at| this| point\"],[\" this\",\" be too painful to see| this| beautiful\"],[\" beautiful\",\" too painful to see this| beautiful| device\"],[\" This\",\"\\nBefore We Broke| This| Story\"],[\" last\",\" of runs. Like the| last| time\"],[\" these\",\" be examining the trends of| these| factors\"],[\" us\",\" your tickets now! Like| us| on\"],[\"More\",\" FAQ's.\\n\\n|More| rewards\"],[\" this\",\"\\u003c|endoftext|\\u003e for| this| higher\"],[\" that\",\" atheists have no trouble with| that|,\"],[\" reverse\",\" bullying – is that the| reverse| is\"],[\" This\",\" and get up field.| This| is\"],[\" this\",\" a lot of play in| this| way\"],[\" this\",\" offer. In view of| this|,\"],[\" that\",\"red in the stomach of| that| f\"],[\" this\",\" opt for the isolation of| this| rust\"],[\" this\",\" love in the embrace of| this| venom\"],[\" these\",\" Moreover, the law in| these| societies\"],[\" This\",\" the Rich Text Editor.| This| is\"],[\"This\",\" GPL one:\\n\\n|This| is\"],[\" is\",\" one:\\n\\nThis| is| a\"],[\" this\",\" City at the end of| this| month\"],[\" That\",\"000 lines of code.| That| code\"],[\" this\",\"ie made it clear that| this| was\"],[\"This\",\" search query.\\n\\n|This| is\"],[\" and\",\" be adapted to both salty| and| fresh\"],[\" that\",\" sort them all based on| that| risk\"],[\"Which\",\" be offered.\\n\\n|Which| projects\"],[\" whole\",\", no problem.\\\" The| whole| time\"],[\" that\",\" about half that. Besides| that| the\"],[\"Next\",\" or so.\\n\\n|Next| to\"],[\" this\",\"al, which looks like| this|.\"],[\" this\",\"\\n\\nThe key to| this| family\"],[\" This\",\" looks absolutely effortless.| This| is\"],[\" this\",\" here's what Dawson said| this| week\"],[\" that\",\" Dawson said this week about| that| fight\"],[\" It\",\" way that they did.| It|'s\"],[\" these\",\" and grew to represent,| these| three\"],[\" three\",\" grew to represent, these| three| players\"],[\" This\",\" all the parts interchangeable.| This| is\"],[\" that\",\"t know the answer to| that| question\"],[\" this\",\"ve still got to give| this| production\"],[\" This\",\"45.8 billion.| This| article\"],[\" these\",\" timelines continue to slip,| these| 2\"],[\" that\",\"\\u003c|endoftext|\\u003e residents who live in| that| area\"],[\" this\",\" High Holidays, and| this| disrupt\"],[\" This\",\" apparatus in the country.| This| will\"],[\" this\",\" to Ratzinger for| this| reason\"],[\" that\",\" people, is also from| that| state\"],[\" this\",\" side, has spotlighted| this| destination\"],[\" that\",\", really make something of| that| inspiration\"],[\"That\",\",\\\" Page said. \\\"|That| goes\"],[\" This\",\"-bet for value.| This| leads\"],[\" this\",\"agh's minutes are up| this| season\"],[\" This\",\"-bits of data.| This| is\"],[\" result\",\"796fb\\n\\nThe| result| is\"],[\" here\",\"s only getting better from| here|.\"],[\" this\",\" of my 23 years,| this| is\"],[\" Each\",\"\\u003c|endoftext|\\u003e be aware of.| Each| actor\"],[\" this\",\". An example of where| this| can\"],[\"Another\",\") situation.\\n\\n|Another| is\"],[\" that\",\" burdens.\\n\\nFor| that| short\"],[\" this\",\" of about $75 million| this| year\"],[\" that\",\" don��t do| that|.\"],[\" these\",\"\\n\\nYou might like| these|\"],[\" fourth\",\" build.\\n\\nThe| fourth| and\"],[\" This\",\". All rights reserved.| This| material\"],[\" this\",\"\\n\\nRead or Share| this| story\"],[\" this\",\" with Pakistan has said,| this|\"],[\" This\",\"aded pixels per second.| This| means\"],[\" tonight\",\" to fuel further protests at| tonight|'s\"],[\" that\",\" King will continue to offer| that| alternative\"],[\" this\",\" need to look farther than| this| chart\"],[\" two\",\" reduce inequality\\n\\nThe| two| biggest\"],[\" That\",\" Spider for the LM.| That| got\"],[\" This\",\" March 3, 1969.| This| was\"],[\" thus\",\" Dictionary of Musicians concludes| thus|:\"],[\" these\",\" going to college thanks to| these| terms\"],[\" this\",\". The continued belief in| this| misconception\"],[\" these\",\" creations to make use of| these| services\"],[\" this\",\" birtherism—comes| this| revelation\"],[\"Another\",\" to 423.\\n\\n|Another| report\"],[\" this\",\"t necessarily continue to do| this|\"],[\" a\",\" rape? Indeed, such| a| low\"],[\"Another\",\" he said.\\n\\n|Another| witness\"],[\" This\",\" to call one in.| This| all\"],[\" this\",\" a series of meetings later| this| month\"],[\" This\",\" meetings later this month.| This| would\"],[\" this\",\"The only other pages from| this| book\"],[\" this\",\" books, a find like| this| has\"],[\" third\",\", he came to his| third| reason\"],[\" this\",\" edition only available by backing| this| Kickstarter\"],[\"This\",\"bury, Vermont\\n\\n|This| 84\"],[\" This\",\" Bridge comes under attack.| This| bus\"],[\" this\",\" our best shot at winning| this| thing\"],[\" This\",\" and subsequently withdrew it.| This| is\"],[\" this\",\".\\n\\n\\\"In| this| terrain\"],[\" the\",\" lecturer at Illinois who conducted| the| research\"],[\"The\",\" weeks ago.\\n\\n|The| rate\"],[\" this\",\" by no means out of| this| discussion\"],[\" that\",\" absolutely needed to upgrade on| that| side\"],[\"The\",\" been disclosed.\\n\\n|The| European\"],[\" this\",\" CSiR. In| this| paper\"],[\" these\",\" this paper, we address| these| questions\"],[\" this\",\"iR. We approach| this| question\"],[\" next\",\" into the cage for his| next| fight\"],[\" that\",\"tshire with some of| that| taking\"],[\" this\",\" make up something that is| this| bad\"],[\" these\",\" for 440. I ran| these| tones\"],[\" Both\",\" for the 440 piece.| Both| apps\"],[\" Each\",\" Easter bunny looks like.| Each| of\"],[\" each\",\" They divided both to conquer| each|.\"],[\" this\",\" with Blacks, and by| this| means\"],[\" that\",\" said: Refraining from| that| which\"],[\" that\",\" that he becomes involved in| that| which\"],[\" above\",\" devices.\\n\\nThe| above|\"],[\" next\",\" battles and injuries. The| next| four\"],[\" this\",\" During the regular season,| this| column\"],[\" that\",\"ist.\\n\\nBut| that| was\"],[\" these\",\"com. ��When| these|\"],[\" This\",\" Conway told ��CBS| This| Morning\"],[\" this\",\" Giles-light trade chip| this| July\"],[\" this\",\"; even if only at| this| point\"],[\" This\",\"��s arms.| This| is\"],[\" that\",\" the week to focus on| that| and\"],[\" other\",\" money or is it the| other| way\"],[\" first\",\" bonds.\\n\\nThe| first| and\"],[\" next\",\" Remember?\\n\\nThe| next| step\"],[\"These\",\" years ago. ��|These| technologies\"],[\" this\",\"oplastic activities. In| this| review\"],[\" current\",\" figures and tables for the| current|\"],[\" this\",\" earnest on October 12,| this| could\"],[\" that\",\" not the classification authority for| that| information\"],[\" this\",\" way of explanation. So| this| is\"],[\" this\",\" criminal justice system. For| this| reason\"],[\" these\",\". For this reason,| these| approaches\"],[\" these\",\"a2\\n\\nWith| these| we\"],[\" this\",\"\\n\\nFourth commit at| this| point\"],[\" this\",\"725f\\n\\nHow| this| ties\"],[\" his\",\", he logs in using| his| username\"],[\" These\",\" password for first time.| These| credentials\"],[\" this\",\" the api key corresponding to| this| user\"],[\" this\",\" app. Mobile app stores| this| api\"],[\" this\",\" mobile end and then uses| this| token\"],[\" every\",\" then uses this token for| every| subsequent\"],[\"This\",\" of proposals. ��|This| policy\"],[\" that\",\"career faculty hired in| that| period\"],[\" information\",\" that period, according to| information| from\"],[\"The\",\" finance department.\\n\\n|The| closest\"],[\" that\",\". ��Not with| that| thing\"],[\" here\",\" in alternative downtempo| here| and\"],[\" these\",\" separating church and state,| these| state\"],[\" this\",\". \\\"Depending on how| this| case\"],[\" this\",\" how this case goes,| this| could\"],[\" this\",\". As of 2018,| this| number\"],[\" these\",\"\\u003c|endoftext|\\u003e ��None of| these| theories\"],[\" this\",\" green light to the plan| this| morning\"],[\"The\",\" this morning.\\n\\n|The| trusts\"],[\" these\",\" They��re available| these| days\"],[\" this\",\" here at home. And| this| year\"],[\" this\",\" right now, to accelerate| this| trend\"],[\"This\",\" efforts.\\n\\n\\\"|This| abnormal\"],[\" this\",\"��As part of| this| process\"],[\" this\",\" we near a conclusion to| this| evaluation\"],[\" this\",\" position with a hand of| this| type\"],[\" This\",\"��s whole.| This| is\"],[\" this\",\" the hell do we fix| this|?\"],[\" that\",\" the most important variable in| that| equation\"],[\" These\",\" of the two schools.| These| two\"],[\" two\",\" the two schools. These| two| schools\"],[\" last\",\"\\n\\nAt an inquest| last| month\"],[\"Last\",\"��The ��|Last| Hur\"],[\" that\",\" The Senate Of course,| that| doesn\"],[\" This\",\" Langtang Valley.| This| particular\"],[\" particular\",\"tang Valley. This| particular|\"],[\"That\",\" Conservative Central Office. \\\"|That|'s\"],[\" and\",\" in the league in scoring| and| third\"],[\" that\",\" struggles. They identify in| that| way\"],[\" each\",\" and Two come up against| each| other\"],[\" each\",\"��re impressed by| each| other\"],[\" each\",\" develop that mutual respect for| each| other\"],[\" this\",\"��\\n\\nShare| this|:\"],[\"this\",\" if (isset($|this|-\\u003e\"],[\"this\",\")) { unset($|this|-\\u003e\"],[\"this\",\" if (isset($|this|-\\u003e\"],[\"this\",\"])) { return $|this|-\\u003e\"],[\"this\",\"search($key, $|this|-\\u003e\"],[\"this\",\") : isset($|this|-\\u003e\"],[\"this\",\" return new ArrayIterator($|this|-\\u003e\"],[\"This\",\"\\u003c|endoftext|\\u003e\\n|This| is\"],[\" this\",\" pumpkin puree. Stir| this| until\"],[\" that\",\" NDP and otherwise depriving| that| party\"],[\" that\",\" not make sense, from| that| perspective\"],[\" this\",\" and Jane both agree on| this|,\"],[\" This\",\" for areas of convergence.| This| is\"],[\" another\",\"Porter also underlined| another| possible\"],[\" this\",\" worth it? To answer| this|,\"],[\" this\",\" policing. The reasons for| this| are\"],[\" this\",\" how WG will implement| this|,\"],[\" that\",\". On August 16 of| that| year\"],[\" these\",\". As is customary in| these| situations\"],[\" this\",\" surprise to be playing at| this| level\"],[\" This\",\" playing at this level.| This| will\"],[\" same\",\"rodiil works the| same| way\"],[\" first\",\" job.\\n\\nThe| first| collection\"],[\" this\",\"\\nThe first collection from| this| new\"],[\" new\",\"The first collection from this| new| NYC\"],[\" any\",\" offers far more flexibility than| any| similar\"],[\" this\",\"\\n\\nOn top of| this|,\"],[\" this\",\" offer video calls. With| this| new\"],[\" new\",\" video calls. With this| new| beta\"],[\" that\",\" been kind of jealous about| that|.\\\"\"],[\" this\",\" Thompson was confronted again with| this| p\"],[\" this\",\" to think about Africa as| this| hom\"],[\" this\",\" Kings were 5-0| this| season\"],[\" this\",\" that we can call upon| this| informal\"],[\" this\",\" the theoretical account. Whether| this| is\"],[\" this\",\" are not in things,| this| would\"],[\"This\",\" and restless.\\n\\n|This| does\"],[\" new\",\" to its benefit. The| new| process\"],[\" this\",\" paying. The implications that| this| reality\"],[\" reality\",\". The implications that this| reality| holds\"],[\" this\",\" not have. It was| this| exact\"],[\" this\",\" which scars history books to| this| day\"],[\" this\",\" day. For proof of| this|,\"],[\"That\",\".��\\n\\n|That| wasn\"],[\"That\",\" recalls Slaughter. ��|That| first\"],[\" The\",\" and Hyperallergic.| The| group\"],[\" these\",\" is absolutely necessary to take| these| properties\"],[\" these\",\"meih) returning from| these| countries\"],[\" that\",\"ince Priebus seemed to contradict| that|\"],[\" this\",\" and his children. In| this| way\"],[\"Another\",\" digital medium.\\n\\n|Another| character\"],[\"This\",\" a mountain\\\".\\n\\n|This| evidently\"],[\" each\",\" seen \\\"grinning at| each| other\"],[\" this\",\"-June quarter of Nvidia| this| year\"],[\" here\",\" isn��t listed| here| that\"],[\" this\",\" Picks.\\n\\nIn| this| case\"],[\" this\",\"In an op-ed| this| month\"],[\" this\",\"-caused death,| this| account\"],[\" these\",\", but willfully engages in| these| behaviors\"],[\" these\",\" and recommendations, which found| these| students\"],[\" latter\",\" And yet, regarding the| latter|,\"],[\" these\",\"\\nThe radical feminism behind| these| courses\"],[\" this\",\" with their 10 year anniversary| this| November\"],[\" few\",\" after the Restoration. A| few| verses\"],[\" this\",\"OK, I made up| this| story\"],[\" This\",\" with any contemporary philosophers.| This| is\"],[\"Last\",\"ert said.\\n\\n|Last| year\"],[\" this\",\" Germany to be eligible;| this| includes\"],[\" this\",\" (typically half) of| this|\"],[\" These\",\" to 29 degrees Celsius.| These| extremely\"],[\"The\",\" terminal illnesses.\\n\\n|The| report\"],[\" each\",\" of good and evil fighting| each| other\"],[\" this\",\" But King's version of| this| battle\"],[\" which\",\" other franchises zag,| which| is\"],[\" [\",\"\\u003c|endoftext|\\u003e,\\n\\nIt| [|Trump\"],[\" this\",\" money's rolling in and| this| is\"],[\" this\",\"'ve never seen anything like| this|,\"],[\" this\",\" anything like this, and| this| is\"],[\" this\",\" Trump is well aware of| this| and\"],[\" this\",\" Kung Fu Panda film,| this| c\"],[\" this\",\" Panda film (right),| this| c\"],[\" this\",\" triumphant radical heroism only reinforces| this| bondage\"],[\"This\",\" ago.\\n\\n\\\"|This| is\"],[\" another\",\"\\n\\n\\\"This is| another| good\"],[\" this\",\" the displayed cyber code in| this| illustration\"],[\" these\",\". In either case,| these| are\"],[\" this\",\" data.\\n\\nIn| this| post\"],[\" This\",\" or below that threshold.| This| works\"],[\" these\",\"�s hard to break| these| feelings\"],[\" this\",\" is, ��Is| this| all\"],[\" such\",\" can still be fooled through| such| simple\"],[\" This\",\"\\u003c|endoftext|\\u003eHSR construction.| This| extension\"],[\" that\",\" the Transit Center. Above| that| are\"],[\" final\",\"hound waiting room. The| final| indoors\"],[\" these\",\" strength and rigidity,| these| plastics\"],[\" These\",\", and in Medicare.| These| standards\"],[\" The\",\"umene in Australia.| The| sp\"],[\" That\",\" to produce a concentrate.| That| concentrate\"],[\" this\",\" the \\\"I've done| this| my\"],[\" Many\",\" to their state legislatures.| Many|\"],[\" this\",\"\\n\\n��Once| this| plan\"],[\" this\",\" VoteAs previously announced,| this| week\"],[\" that\",\" the weeks leading up to| that| day\"],[\" This\",\" with 5 percent undecided.| This| is\"],[\" this\",\" number one goalie, and| this| season\"],[\" This\",\" his time to shine.| This| may\"],[\" this\",\" only good move Toronto made| this| off\"],[\" this\",\" impossible player to rank on| this| list\"],[\" Another\",\" the guns to school.| Another| friend\"],[\" This\",\" Mega Star Enterprises Inc.| This| adds\"],[\" This\",\" of the gold standard.| This| enabled\"],[\" that\",\"atin Country Club. Beyond| that|,\"],[\" this\",\" (near the center of| this| photo\"],[\" this\",\" subjected to an attack on| this| scale\"],[\" That\",\"\\u003c|endoftext|\\u003e issues going on.| That| there\"],[\" recent\",\".\\n\\nDuring a| recent| visiting\"],[\" this\",\" ship were also implanted with| this| Pl\"],[\"That\",\" White House.\\n\\n|That| message\"],[\" This\",\" fact check (Note –| This| is\"],[\" this\",\"��s interview;| this| is\"],[\" very\",\" school, followed by doing| very| well\"],[\" these\",\" and in the course of| these| conversations\"],[\" this\",\" he only became aware of| this| fact\"],[\" fact\",\" only became aware of this| fact| on\"],[\" This\",\": I am Katie.| This| is\"],[\"These\",\" another official.\\n\\n|These| are\"],[\"Last\",\".��\\n\\n|Last| week\"],[\" this\",\")\\n\\nTo put| this| in\"],[\" This\",\" lot to be desired.| This| bullpen\"],[\" these\",\"\\n��Where are| these| shards\"],[\" That\",\" is getting very rich.| That|'s\"],[\" these\",\" for a time before running| these| clean\"],[\" This\",\"), and click ok.| This| comes\"],[\"Each\",\" click ok.\\n\\n|Each| entry\"],[\" Every\",\" $200,000.| Every| penny\"],[\"That\",\" community apart.\\n\\n|That| characterization\"],[\" this\",\"A kind of climax of| this| same\"],[\" same\",\" kind of climax of this| same| trend\"],[\" This\",\" zest and zeal.| This| festival\"],[\" festival\",\"est and zeal. This| festival| is\"],[\" this\",\" play a stellar role in| this| festival\"],[\" that\",\" too scrambling and disorderly for| that|.\"],[\" this\",\" disorderly for that. Or| this| is\"],[\" this\",\" said.The contents of| this|\"],[\" which\",\" replication process is working,| which| binary\"],[\" current\",\" binary log name and the| current| position\"],[\" that\",\" it, ready to take| that| bad\"],[\" these\",\" appreciate being able to buy| these| ingredients\"],[\"This\",\".[15]\\n\\n|This| letter\"],[\" states\",\"\\u003c|endoftext|\\u003e already,\\\" the website| states|.\"],[\" That\",\" simply want clean air.| That| belief\"],[\" this\",\" the legislation to include in| this| database\"],[\"These\",\" gaming console. ��|These| are\"],[\" This\",\" on the other side!| This| unit\"],[\" This\",\" of 5 by Skip from| This|\"],[\" There\",\"road tattoos.��| There|�\"],[\" That\",\" lines on the road.| That| guy\"],[\" this\",\" that the express aim of| this| Order\"],[\" That\",\" people willing to watch.| That| population\"],[\" this\",\"��\\n\\nIn| this| case\"],[\" this\",\"I never imagined any of| this| would\"],[\"This\",\"ari said.\\n\\n|This| year\"],[\" controversial\",\" in clinical settings is a| controversial| practice\"],[\" this\",\"\\n\\\"Thus, at| this|\"],[\" these\",\" Guidelines is the use of| these| impl\"],[\" This\",\" under-consumed.| This| statement\"],[\" this\",\" exception should be made in| this| case\"],[\" this\",\" are disgustingly biased on| this| issue\"],[\" these\",\" at night. Mainly| these| thoughts\"],[\" this\",\" sky. Of course,| this| desire\"],[\" it\",\" seemed, seeking to satisfy| it| in\"],[\" here\",\"�s really going on| here|.\"],[\" It\",\" the megabanks.| It| is\"],[\" this\",\" that compelled me to write| this| book\"],[\" busy\",\"\\nSpring is a particularly| busy| season\"],[\"this\",\"—or falsifying—|this| weird\"],[\" this\",\" your way clear to letting| this| go\"],[\" the\",\" the final step to begin| the| process\"],[\" following\",\" Creator however I get the| following| error\"],[\" That\",\" talk to his mother.\\\"| That| is\"],[\" this\",\" interesting analogy. However,| this| Evangel\"],[\" Fro\",\" noise.The MSI Twin| Fro|z\"],[\" our\",\" of his tunics for| our| shoot\"],[\" credit\",\"\\n\\nWhen using a| credit| card\"],[\" same\",\" the total purchase. The| same| goes\"],[\" this\",\"argent, you know| this|,\"],[\" That\",\" Grassland Elementary Schools.| That| park\"],[\" this\",\"way with a gun under| this| bill\"],[\" this\",\" is really clear. And| this| is\"],[\" this\",\" whole new fruit. In| this| peach\"],[\" this\",\".\\n\\nAll of| this| amounts\"],[\" another\",\". where she will reveal| another| song\"],[\" that\",\" think you should have done| that|,\"],[\"\\\"\",\"\\u003c|endoftext|\\u003ehumans|\\\"| do\"],[\" this\",\" closest friends and show them| this| wiki\"],[\" that\",\"��re sensitive to| that| sort\"],[\" this\",\" of OS X Yosemite like| this| one\"],[\" everything\",\". If you can read| everything| fine\"],[\" That\",\" would take defenders deep.| That|�\"],[\" this\",\" Redskins beat writers admit camp| this| year\"],[\" Much\",\" life beneath the surface.| Much| of\"],[\" of\",\" beneath the surface. Much| of| the\"],[\" That\",\" that we are fools.\\\"| That| attitude\"],[\" each\",\" as much protein in to| each| meal\"],[\" This\",\" what works for you.| This| isn\"],[\" this\",\" facility. To date,| this| law\"],[\" each\",\" maintains a word doc with| each| cabinet\"],[\" this\",\" us!\\n\\nLike| this| post\"],[\" following\",\" editor, and add the| following| lines\"],[\" this\",\" here.\\n\\nAnd| this| is\"],[\" this\",\"�m getting tired of| this| constant\"],[\" this\",\" choose.\\n\\nDuring| this| entire\"],[\" entire\",\".\\n\\nDuring this| entire| period\"],[\" this\",\" Trump Campaign has already incurred| this| past\"],[\" this\",\" his filing that he believes| this| entire\"],[\" entire\",\" filing that he believes this| entire| suit\"],[\" That\",\" profiled Latino drivers.| That| ruling\"],[\" this\",\" that our culture reveres| this| state\"],[\" this\",\"\\u003c|endoftext|\\u003earing| this| makes\"],[\" this\",\" why do I tell all| this|?\"],[\" these\",\" want you to know that| these| things\"],[\" that\",\" is not helping you at| that| point\"],[\" this\",\" publishers and exchanges centered on| this| last\"],[\" last\",\" and exchanges centered on this| last|-\"],[\" this\",\"ve been working with like| this| [\"],[\" this\",\"change], because they think| this| is\"],[\" The\",\" the global average ocean.| The| authors\"],[\" this\",\". The authors should know| this|,\"],[\" this\",\" of the paper not catch| this| basic\"],[\" our\",\" wonder how closely anyone read| our| paper\"],[\" this\",\"\\u003c|endoftext|\\u003e theme in| this| matchup\"],[\" that\",\" and paving the way for| that| barn\"],[\"This\",\" one possession.\\n\\n|This| game\"],[\" that\",\" they are ordained, throughout| that| whole\"],[\" this\",\" Israeli products, as well| this| year\"],[\" that\",\" their sales practices, presumably| that| is\"],[\" this\",\". How can we say| this|?\"],[\" such\",\" consists of former members of| such| companies\"],[\" this\",\" one of them, then| this| is\"],[\"Each\",\" our pockets.\\n\\n|Each| year\"],[\" this\",\" only criticism of my experience| this| year\"],[\" this\",\" attempt but fail to swallow| this| Swedish\"],[\" this\",\" better if broken up like| this|.\"],[\" this\",\" this. So, while| this| may\"],[\" which\",\" wolf attacked 31 people,| which| resulted\"],[\" present\",\" Gysinge (within| present|-\"],[\" one\",\"\\nWith the exception of| one| 19\"],[\" This\",\" to support the child.| This| method\"],[\" this\",\"ão Luis – and that| this| will\"],[\" this\",\" are with those affected by| this| horrific\"],[\" horrific\",\" with those affected by this| horrific| act\"],[\" current\",\" that may not fit your| current| goals\"],[\" this\",\" setup, should you find| this| is\"],[\" these\",\" recommend crafting as many of| these| as\"],[\" this\",\"15,000+ At| this| point\"],[\" this\",\" on Twitter with comments on| this| nearly\"],[\"This\",\"\\u003c|endoftext|\\u003e|This| story\"],[\" these\",\" 2018 reconciliation bill Congress redirect| these| dollars\"],[\" this\",\"\\\"In a sense,| this| is\"],[\" these\",\" if not clear intent caused| these| rebels\"],[\" this\",\"\\n\\nThen, earlier| this| week\"],[\" This\",\" display white upon blue.| This|,\"],[\"This\",\" effective flag.\\n\\n|This| sampling\"],[\"This\",\" appear representative.\\n\\n|This| is\"],[\" is\",\" representative.\\n\\nThis| is| the\"],[\" This\",\" based on local data.| This| is\"],[\" an\",\" points, and are assigned| an| average\"],[\" One\",\" to any of them.| One| day\"],[\" That\",\" Western deserters.| That|�\"],[\" each\",\" from CARE Norway shows,| each| tiny\"],[\" that\",\".\\n\\nTo hammer| that| idea\"],[\"There\",\" from the data\\n\\n|There| are\"],[\" this\",\" will not cover it in| this| post\"],[\" this\",\" logs.\\n\\nIn| this| post\"],[\" this\",\" face, because he swore| this| deal\"],[\" this\",\" a serious hit too because| this| was\"],[\" that\",\" ally. Oh well,| that| may\"],[\" That\",\" the LMPC car.| That| would\"],[\" this\",\" Richard Hoagland in| this| article\"],[\" It\",\" our upcoming radio show.| It|�\"],[\" These\",\" Hoagland About All| These| Issues\"],[\" other\",\" a brewing process unlike any| other|,\"],[\" this\",\" Seraphim addresses the paradox| this| way\"],[\" This\",\" all seriousness, keep .| This| page\"],[\" This\",\" in all seriousness, .| This|\"],[\" this\",\"�s changed a bit| this| year\"],[\"This\",\" criminal code.\\n\\n|This| May\"],[\" criminal\",\"\\nThis May 2014 provision| criminal|izes\"],[\"That\",\"'s office.\\n\\n|That| might\"],[\" this\",\"\\u003c|endoftext|\\u003e| this| time\"],[\" each\",\" of personnel who fought in| each| battle\"],[\" this\",\" will be difficult to remember| this| way\"],[\" this\",\" way to contribute to solving| this| global\"],[\" these\",\" 1971.\\n\\nSince| these| people\"],[\" this\",\" steps in the evolution of| this| feeding\"],[\" that\",\" and investors seem to like| that|.\\\"\"],[\" these\",\" may be allowed to use| these| firms\"],[\" these\",\" regarding data protection, but| these| tend\"],[\" This\",\" to the other dimension.| This| invented\"],[\" this\",\". Someone once told me| this| was\"],[\" this\",\"\\u003c|endoftext|\\u003e to| this| quickly\"],[\" these\",\" terrified of the prospect of| these| investigations\"],[\" this\",\" a lifetime of choices under| this| false\"],[\" Which\",\" under this false paradigm.| Which| is\"],[\" these\",\" importance that videos such as| these| find\"],[\" this\",\" hands of those reeling from| this| divide\"],[\" so\",\" was the only person doing| so|.\"],[\" This\",\" only person doing so.| This| is\"],[\" this\",\" been killed for their work| this| year\"],[\" this\",\" 2015, the university surpassed| this| goal\"],[\" these\",\"free eggs. Many of| these| sustain\"],[\" new\",\" a bold appearance in a| new| report\"],[\" this\",\" reason.\\n\\nPublished| this| week\"],[\" The\",\" females respond to stress.| The| findings\"],[\"This\",\" achieved.\\n\\n\\\"|This| is\"],[\" here\",\" a Western-style society| here|,\\\"\"],[\" this\",\" PS Vita and PS4| this| Autumn\"],[\" this\",\" he will continue to do| this| and\"],[\"The\",\"l said.\\n\\n|The| private\"],[\" This\",\" a vision and policy.| This| would\"],[\" this\",\", but clothes made of| this| cloth\"],[\" One\",\" tried more radical departures.| One| promising\"],[\" this\",\" When he continues to spread| this| kind\"],[\" this\",\" degrading. We cannot let| this| be\"],[\" that\",\" way to find out about| that| is\"],[\" this\",\" peruse, I recommend| this| list\"],[\" that\",\" talking about it, but| that|�\"],[\" this\",\" is so good!) or| this| (\"],[\" that\",\"fully think his way through| that|,\"],[\" that\",\" came around the side and| that| could\"],[\" another\",\" that could arguably have been| another| yellow\"],[\" these\",\" another yellow card. And| these| are\"],[\" The\",\" Open Markets Operations Committee.| The| Fed\"],[\" this\",\" gets picked up. So| this| is\"],[\" here\",\" just started watching the show| here| and\"],[\" these\",\" the fact that I do| these| cool\"],[\" This\",\" a local Bitcoin node.| This| node\"],[\" this\",\".\\n\\nBut as| this| recent\"],[\" recent\",\"\\n\\nBut as this| recent| video\"],[\" that\",\" Ken can win. But| that| depends\"],[\" Two\",\" mice. (c)| Two|–\"],[\" That\",\" from a year ago.| That| figure\"],[\" this\",\" 25,000 individuals in| this| business\"],[\" this\",\"\\nKeep in mind that| this| is\"],[\" this\",\" the game better. In| this| case\"],[\" this\",\" one way or another whether| this| slightly\"],[\" this\",\" very little to do with| this| technology\"],[\" that\",\" not very many schools with| that| many\"],[\"It\",\" crazy arcade installation\\n\\n|It|'s\"],[\" this\",\"s an image for sharing| this| episode\"],[\" Every\",\" again compromise our responsibilities.| Every| time\"],[\" this\",\"��When you leave| this| meeting\"],[\" this\",\"��m like,| this| is\"],[\" these\",\" and regulatory requirements, but| these| measures\"],[\" This\",\" measures have proved inadequate.| This| indicates\"],[\" this\",\"% to 8% over| this| time\"],[\"That\",\"% today.\\n\\n|That| Gib\"],[\" these\",\" us a lot about what| these| anti\"],[\"Wow\",\", etc.\\n\\n|Wow|,\"],[\" that\",\" an interest in. Sadly| that| system\"],[\" these\",\" there's better music available| these| companies\"],[\" this\",\" will I ever. Should| this| charge\"],[\" this\",\" and we do not consider| this| unethical\"],[\" this\",\"\\u003c|endoftext|\\u003e that| this| is\"],[\"blooded\",\" where a more full-|blooded| Conservative\"],[\" this\",\" of the paradoxes of| this| is\"],[\" this\",\" it. One explanation for| this| is\"],[\" this\",\" ��probably everybody in| this| room\"],[\" this\",\" live far away? In| this| video\"],[\" such\",\" learn how to talk about| such| relationships\"],[\" this\",\" Many include tigers. In| this| posting\"],[\" this\",\" money to their account on| this| ledger\"],[\" this\",\" off-ramp between| this| chain\"],[\" this\",\"\\nThe main benefit of| this| second\"],[\" this\",\" and scalability. Since| this| second\"],[\" bright\",\"��s wearing a| bright| lip\"],[\" this\",\" down more than 20 percent| this| year\"],[\"That\",\" South Side.\\n\\n|That| trademark\"],[\" This\",\" damage and constipation.| This| level\"],[\" level\",\" and constipation. This| level| of\"],[\" this\",\", Roberts has belonged to| this| latter\"],[\" latter\",\" Roberts has belonged to this| latter| group\"],[\" these\",\" and the hundreds of partners| these| manufacturers\"],[\" this\",\" into a hex editor reveals| this| image\"],[\" following\",\" a text editor, the| following| was\"],[\" These\",\" they are state property.| These| areas\"],[\" these\",\" worked. They thought that| these| projects\"],[\" This\",\" to the main thread.| This| event\"],[\" this\",\"? And so I consider| this| to\"],[\" this\",\" (\\\"winning a battle like| this| would\"],[\" this\",\" there's very little of| this| attorney\"],[\" this\",\" of this attorney general,| this| Department\"]],\"hovertemplate\":\"val1=%{x}\\u003cbr\\u003eval2=%{y}\\u003cbr\\u003estr_tokens=%{customdata[0]}\\u003cbr\\u003econtext=%{customdata[1]}\\u003cextra\\u003e\\u003c\\u002fextra\\u003e\",\"legendgroup\":\"\",\"marker\":{\"color\":\"#636efa\",\"symbol\":\"circle\"},\"mode\":\"markers\",\"name\":\"\",\"orientation\":\"v\",\"showlegend\":false,\"x\":[1.200284,0.0,0.0,0.0,2.59439,3.5121984,4.345298,0.20851612,15.153623,37.049507,0.47506905,0.0,0.0,0.0,7.024928,0.0,1.1996336,0.0,0.9228878,0.0,17.150555,32.976875,11.27925,6.7864923,8.179135,0.0,0.95011806,3.3308096,0.7466469,0.0,1.6705885,0.0,31.566368,32.2041,7.437318,34.04202,2.958148,0.14868927,0.0,0.0,4.2029085,6.581395,20.905182,0.0,11.363114,0.0,0.21461487,0.9750614,2.6584501,35.80697,1.3152952,11.482739,0.0,1.9864569,0.0,23.735699,37.27994,0.0,5.565816,0.0,37.022926,32.455856,0.11898708,11.363114,0.0,33.33549,0.0,21.486156,0.0,0.0,1.1850891,8.36098,1.7858362,0.0,2.88383,0.0,0.93791294,35.266174,0.0,1.9456921,0.8519039,4.186446,2.7310133,1.4988623,0.0,2.8772821,4.8985987,4.2338495,0.021923065,16.62828,30.53481,20.478191,0.0,3.3287973,1.8211708,0.0,34.01534,5.7406893,0.0,0.0,3.0673265,0.0,2.9767694,4.398656,0.0,0.8626108,6.190219,13.352536,9.323291,0.0,29.844189,0.80526066,13.766416,1.200284,35.331055,1.2694159,31.111763,3.3861513,1.6011524,0.9125242,0.0,39.18855,1.6000528,6.52617,0.78800297,7.0598593,1.9108591,0.0,0.82108784,0.0,0.62094975,17.595741,0.0,0.0,31.259094,11.363114,0.9804306,2.0835638,0.16002655,30.54903,0.0,3.0599394,11.243695,20.161285,0.0,3.9306993,1.1690149,2.204154,0.65471935,0.0,0.0,0.14942837,0.0,0.0,2.6691523,2.3283472,1.9197092,0.0,0.0,1.6016636,0.0,0.0,2.606618,0.43494606,22.278019,1.0408573,0.0,0.0,27.939434,4.726775,0.9415531,18.45816,30.181488,0.6972933,27.967392,1.6268072,0.0,0.0,5.1430845,0.0,2.0209246,11.107802,8.783763,7.3115625,16.458015,0.0,0.0,0.0,3.3849573,40.028366,7.312085,30.830238,4.7243586,0.0,0.31404686,4.4140997,0.0,19.713139,16.734787,0.0,7.379018,5.758235,1.4298811,0.0,0.0,0.0,2.0659761,0.0,10.8233,1.6362553,0.0,0.0,0.0,27.783699,2.2115965,0.0,0.32965183,11.546231,6.919614,34.563374,0.8999052,23.97181,0.24203968,36.656456,0.0,0.42905903,0.0,4.0861063,0.0,41.79977,0.0,1.8558903,1.0105038,0.0,21.01176,0.88426304,7.2840147,0.0,18.859394,0.0,18.824589,15.753552,10.660607,36.934216,1.2761574,0.0,2.6955786,7.6015024,0.55161476,31.131104,7.8639536,0.0,26.96857,0.0,0.0,15.172429,1.9640017,0.0,0.0,7.5379057,0.0,0.0,6.5290384,0.0,0.8676815,0.0,0.0,0.023897171,34.27269,0.07523346,2.9269056,1.5208035,2.8873682,2.9377851,2.660386,0.046866417,0.0,1.7920637,10.244388,0.0,27.577995,0.0,16.564041,1.3677568,1.6116343,2.0016508,0.34404278,0.0,1.9348011,0.12597847,5.968568,0.0,20.94841,0.0,7.2001467,36.671696,1.1691628,41.93723,1.862711,3.390998,0.0,12.13728,28.39141,37.850243,2.8092413,4.8121347,0.92184067,2.0750437,4.154048,0.0,10.018918,0.15006065,36.5153,0.0,14.127723,35.485474,0.0,1.394722,0.0,4.433383,0.5398483,0.0,26.465164,1.6923304,0.0,0.0,0.0,2.5831537,32.609203,0.0,0.0,0.0,0.0,0.0,4.7655115,37.000923,0.0,0.0,0.0,11.569949,0.0,0.0,24.331337,0.1202507,2.891326,16.40247,2.2977533,0.22581959,3.6697226,0.60771847,34.805435,0.45461273,0.0,4.939788,0.0,0.0,2.9802675,0.640955,0.0,0.0,1.3243275,0.0,0.0,0.0,0.0,0.0,0.630682,2.9952364,0.0,5.3862276,33.42307,2.2728186,5.991105,0.0,1.443223,0.0,0.0,36.775875,35.48297,0.72310066,0.0,4.3841524,22.966057,40.419174,0.0,0.0,1.9027672,0.3084364,0.0,0.76184654,0.0,8.158,35.068665,10.054059,0.0,0.49857235,7.7989225,1.0766315,36.668926,0.0,2.7041101,36.903393,7.639632,0.0,25.917229,36.506054,0.0,0.0,5.2661734,0.0,2.0850039,31.569935,3.8900938,32.811584,0.068122864,0.0,14.682923,4.252551,14.847953,2.6296206,0.0,5.2475977,0.0,0.0,1.3392315,14.449517,0.0,24.0377,34.036667,0.0,0.0,2.848899,0.38717175,1.7580318,33.40513,0.0,0.0,1.4750271,0.0,0.48862553,2.9433432,1.5021667,0.00858593,2.625167,35.742565,0.0,36.267075,3.5903597,3.2324877,0.0,3.1095762,32.50397,35.673084,0.17058277,33.143845,7.0938196,0.0,0.3943367,0.0,0.0,0.027226448,9.86365,0.0,1.301444,0.0,0.0,0.0,0.082380295,0.16984844,2.7735376,0.0,0.15441322,0.0,0.0,7.640134,0.1407938,25.105137,4.2184515,2.5201216,7.164769,4.4285593,0.0,38.680344,0.0,0.0,2.1972322,0.6452446,16.889172,8.81655,0.0,26.26867,0.0,27.156242,12.667197,7.420945,1.9580393,0.0,9.875934,0.0,12.581992,0.0,1.859211,0.0,0.0,35.809338,0.0,0.0,0.31032562,0.0,0.0,7.159816,7.985675,17.858608,20.654423,7.16549,9.023999,0.109259605,0.0,28.817345,0.0,30.183174,3.6009111,2.2333956,0.0,36.34304,0.0,0.0,10.493402,2.250678,0.0,0.9855108,1.9811335,29.650406,2.8838358,2.1520357,0.09090996,0.0,0.0,0.0,0.0,0.80775166,7.8844156,2.6412535,3.172677,1.244936,3.0870047,0.15677357,3.7596617,35.950863,4.346978,0.0,0.0,4.1138525,34.6703,0.0,3.6134462,5.833867,0.44772816,0.0,0.0,0.0,30.44463,0.0,2.734929,5.678155,0.0,0.0,0.4583454,9.9414625,0.0,0.0,1.4881496,0.7896519,0.0,1.6113234,18.508919,19.283195,35.11548,0.28733826,16.470665,0.42136574,4.4742327,0.0,1.6914053,3.630206,2.5824175,0.094184875,0.0,0.0,0.0,12.313817,0.39219952,38.5738,0.0,7.225505,0.0,9.590373,7.54399,23.177612,0.0,1.5527878,0.0,0.0,7.017268,0.50492287,0.7507324,30.64455,0.09401417,30.809258,9.710084,14.646983,0.15438175,0.0,3.6555033,0.14815617,0.86910725,16.851467,0.0,20.138409,0.66678905,25.345665,8.757249,0.0,28.016075,0.0,0.0,9.814824,9.826648,33.495247,0.0,8.4126215,0.0,36.719296,0.0,0.15433502,8.44521,16.316044,0.1739788,1.6136112,0.0,0.3726139,11.957698,29.328201,0.0,38.682384,25.494518,33.78565,4.9188643,0.0,0.062224388,32.852676,33.84346,0.0,3.914752,0.0,0.5838909,0.0,0.0,3.8095236,27.229473,22.96524,0.0,0.0,0.55968475,0.0,27.789139,13.303094,0.67339516,3.882886,32.387238,0.0,1.7416029,0.0,24.441029,2.2697363,0.0061979294,3.308938,6.2347536,0.0,35.14577,1.1308832,1.5442562,0.0,14.693208,7.467763,0.18724632,0.0,0.0,0.0,33.014214,0.0,2.4185038,0.0,15.850837,30.005089,19.290146,0.36617947,1.1905403,5.9379854,1.1069174,8.252179,0.0,38.56177,0.0,0.0065135956,0.0,32.37639,0.24780178,0.0,7.0939417,27.408672,0.0,0.0,1.3441973,0.73572826,0.0,2.465989,0.0,0.0,0.0,4.4675226,29.704205,2.255355,0.0,0.0,1.4322901,4.975934,1.0507574,1.4534569,25.580368,7.7846365,14.06029,0.0,0.0,0.53692436,5.919137,0.0,1.7628021,0.0,3.6560755,9.308078,1.0168247,2.7835722,1.6755924,0.0,34.23587,24.980953,0.0,2.5979986,0.0,29.385986,1.0350533,8.346101,0.0,5.209161,17.490303,0.9739132,4.7252207,0.8681774,1.2433786,0.0,6.1095896,0.0,2.4962664,0.0,0.0,14.393828,0.89976597,6.5725927,0.0,0.0,3.5630693,0.0,36.269424,0.0,15.192584,0.11057186,5.668191,0.0,20.852257,4.9978476,9.965959,0.0,1.6917562,21.086525,1.5549955,0.0,0.0,32.303112,25.667,2.3441477,0.0,0.0,4.183734,0.7821703,4.354932,4.1360598,30.366383,0.0,23.416924,0.0,4.1468954,33.46497,30.752197,29.506721,1.1182346,32.730583,0.0,1.1508236,2.5762072,0.12529182,0.0,0.9120245,0.0,10.460511,8.461621,19.193092,1.2904644,0.35504436,0.0,0.0037059784,0.0,0.0,12.369138,29.471485,18.194607,10.676747,38.256516,0.0,4.9702005,11.363114,0.0,5.8703623,0.16835308,5.593417,0.0,0.0,0.0,13.696115,33.122227,11.673322,1.0226831,0.0,0.0,1.6486874,0.0,0.0,0.0,38.204166,6.571727,0.0,4.872403,0.0,5.3891172,1.3453236,29.893124,0.0,6.4382524,0.38061905,0.28454304,36.00068,0.0,1.0477686,0.0,1.8554697,0.0,5.2044077,0.16736603,7.969239,0.0,1.0192261,0.0,9.856067,0.039743423,22.63179,0.0,0.0,33.168934,17.043224,0.0,2.717822,0.7189741,5.758889,4.2841635,24.239021,7.6622305,16.187534,0.0,0.0,0.27810764,1.7658129,0.8740692,2.8145018,13.800525,13.470925,34.981823,1.6187172,0.6624918,0.0,0.49018192,1.7376757,3.6003885,7.757188,5.831931,18.061127,0.42407322,7.026103,6.1495085,0.0,7.623164,0.0,11.206304,0.857646,2.0432653,5.9294252,17.953396,0.0,1.1655083,0.21644783,32.70912,1.2784014,1.0702257,0.0,0.0,9.105147,4.3885107,15.449416,8.513003,29.106823,9.228974,1.2726698,0.0,9.570558],\"xaxis\":\"x\",\"y\":[0.0,0.23623466,14.188439,0.8398094,0.0,12.716756,12.802297,0.0,0.77553177,1.4154491,20.868214,18.341637,2.0558662,0.20671368,17.549206,0.72760963,0.0,0.75508595,0.0,18.464233,5.5561275,1.3317356,0.48036098,11.118859,15.566279,19.502834,0.0,17.0746,9.209197,0.0035848618,21.640465,1.6323366,4.2292213,2.4589405,13.017644,0.0,6.676631,17.59573,1.5360165,13.145768,19.012585,13.799109,7.6317835,0.0032482147,6.60353,0.26632214,0.0,0.0,18.264256,2.6446295,0.0,14.1533575,18.511711,15.961621,0.48363876,5.2502995,1.7332306,0.93680286,12.966483,1.2428112,0.45258045,0.025141716,0.0,6.60353,1.8403616,2.8912487,3.295949,5.375457,5.102627,0.8644295,18.253403,12.539737,0.0,17.516674,5.2015038,1.5300627,15.841382,0.5708723,0.7867298,19.3595,0.0,0.0,0.0,16.51511,14.298608,3.7881851,0.0,20.679573,0.0,9.558911,0.15025806,5.031911,0.80006313,19.442604,15.84335,0.89434147,3.3179255,12.791356,13.047784,5.076706,0.0,12.651069,15.415265,0.0,0.16306019,0.0,17.022396,0.0,11.565574,1.5666294,1.5323925,0.0,0.0,0.0,1.3774452,18.417072,0.0,17.219578,0.0,0.0,2.7780075,4.416582,0.0,0.0,0.0,14.412688,0.0,9.843421,14.38651,0.028532982,0.0,9.419431,10.643521,20.646473,0.26796532,6.60353,0.0,0.0,0.0,1.0747681,1.3102131,21.431301,0.0,8.085803,17.37043,7.6438417,0.0,0.0,23.604286,21.087372,0.5969448,0.0,2.0278387,10.725797,0.0,0.0,18.466763,0.6392851,0.40393925,20.535465,0.0013065338,5.683116,16.788109,0.0,0.93360996,8.383414,0.09203243,0.52324295,2.4163237,20.38311,0.0,12.459693,0.3508997,20.513649,1.8607903,0.0,22.755737,1.0094385,3.4556475,18.35178,4.516921,0.0,13.403205,10.64787,0.14582348,0.39378357,0.20244217,9.370448,19.733559,2.8459396,5.186824,1.2092905,0.0,19.94659,20.401142,12.698756,2.7428179,5.798854,0.0,2.1087847,12.699204,14.949512,0.0,16.446114,0.73300934,0.4889555,19.694782,1.2471352,3.4996357,20.97216,0.5904875,1.326107,15.978126,5.0011168,0.0,1.9067421,0.0,8.3075285,17.101208,1.2816772,0.0,9.584214,22.049366,2.9754257,0.68775845,0.0,0.9772749,4.5562487,0.2977991,1.8753128,17.421352,20.003899,17.412312,0.17742062,7.052804,0.0,17.37254,1.8005285,9.778039,0.2258482,10.120891,0.0,14.452664,2.396078,0.0,2.1190577,18.422054,9.996366,1.8748493,4.488715,0.0,20.1792,1.1326723,2.147809,15.062058,0.0,19.428143,2.0478344,0.16781616,16.59066,20.463024,2.353918,13.952693,9.509246,0.0,11.251018,21.644035,0.0,0.20023632,0.0,18.447968,0.0,0.0,0.0,0.0,12.68715,1.4519243,0.0,18.51728,2.2855206,1.548068,1.2987089,9.397574,19.872223,0.0,0.0,22.100697,21.078178,14.462956,0.0,10.755048,0.08488369,0.36162663,13.619103,14.598523,0.97441006,0.0,1.0946903,21.681862,18.819313,22.62748,16.724495,5.5979443,0.0,0.0,17.233646,0.0,0.0,19.592056,9.3268385,7.617614,0.0,0.97005844,0.9811945,0.81481266,0.7869997,20.688747,0.0,0.8158798,0.0,0.0,15.077231,2.5172014,20.318672,9.311887,9.687699,22.22866,0.0,1.7107172,8.666471,10.666802,0.16584778,22.169239,0.9452715,21.332481,0.0,0.18747044,0.22602749,21.406235,11.759271,0.68147373,0.29117966,7.502387,0.0,0.0,13.075994,0.0,0.0,22.262566,0.0,0.66182137,0.0,15.257655,16.78603,0.57228756,0.17213154,0.0,7.51385,21.345776,21.109451,19.935379,0.29647255,18.090843,0.33599186,8.660176,0.3843937,0.0,21.907684,2.0988483,0.0,0.0,18.662704,16.061958,0.1833973,17.857143,17.014446,11.061187,0.0,1.2665224,0.0,17.54417,0.0,7.834565,1.0866432,0.05148506,0.771575,0.0,0.0,1.1611414,0.0,13.427972,20.20132,0.0,15.235974,3.9872017,0.0,3.7714758,0.0,0.7893801,1.7953644,17.099003,2.1674042,4.4173994,0.04971695,4.0519514,0.019607544,21.92852,1.077138,21.413582,2.482191,0.0,0.0,14.264329,1.5624952,0.0,1.6763372,5.892111,0.0,7.4588556,0.0,1.9595022,13.34582,0.40137196,7.6391516,0.0,5.60085,15.427646,8.447476,0.027503014,1.0001068,1.3000221,17.519665,0.0,0.0,2.13445,4.6368923,9.551446,20.783985,8.617606,15.883555,0.0,15.180379,0.0,0.0,0.45563412,13.2915945,1.6368732,22.754097,9.508883,0.79654026,21.40981,2.7797003,0.7465658,18.781918,0.0,17.938976,0.039320946,0.0,16.097095,1.4582653,0.0,15.074431,9.831014,18.18507,2.5221968,2.1006355,14.015285,7.926257,0.0,0.0,0.27598953,16.712673,0.8218126,1.4201803,0.0,0.0,9.849547,0.0,5.7912827,4.465517,10.376323,21.92057,1.3514185,0.83638954,0.059394836,0.0,0.0,0.24318981,15.779639,2.2509203,5.254609,3.0836325,3.512578,17.746384,4.9235992,9.806235,18.28746,6.97705,0.22332,0.0,14.837111,13.642493,12.628427,1.3144608,1.740469,1.9906025,0.7482405,0.0,2.2346,0.7541847,4.5432425,11.773101,5.7721443,9.22803,4.393075,11.313184,0.0,6.248111,5.3838034,17.27391,4.667555,21.594723,24.943745,17.013485,0.0,15.632136,2.000228,0.7380886,0.0,0.4949484,0.0,0.0,0.45522404,0.0,0.0,0.0,1.960576,1.0170622,2.5783024,1.414362,14.006225,6.1901436,5.040227,4.5014887,3.984314,2.6146727,4.5828867,1.8270416,2.8193798,15.275624,0.51763344,2.2304983,19.430767,0.5404005,0.41809082,18.010998,16.129631,15.286918,5.050374,8.347278,21.00167,0.8751583,0.31764317,0.0,19.928692,0.26199913,0.1940546,14.170133,17.685062,0.27353954,1.8052635,19.241123,11.039769,15.574086,19.513783,6.0456905,6.044567,1.8313618,0.0,10.510015,0.0,13.301219,14.090665,14.978463,0.0,0.0,0.0,8.728723,8.563523,1.7334728,14.84427,0.0,0.3535757,1.0930891,12.082444,0.7100811,19.900833,10.564651,3.2080488,9.508016,7.8030596,2.2015905,8.628716,10.704415,0.0,17.178123,3.37885,0.0,2.5893946,10.9135065,0.96612644,0.0,0.8353834,15.792382,0.0,0.0,6.4994783,12.700131,0.5935335,18.957039,8.31244,11.017974,18.430878,4.927088,0.4826765,17.661968,2.2670765,15.751269,0.0,5.5679865,7.875472,0.99376583,2.625205,0.97916794,0.0,3.4179363,1.0025539,0.0,0.0,14.067498,0.0,12.912354,7.6547556,4.9194736,0.01121521,5.563468,0.82777977,11.78251,21.462479,0.0,1.9545469,1.9488201,2.6928701,20.829823,25.313328,0.0,0.75701904,19.593712,0.0,0.7709751,1.5873394,0.5914736,6.8836355,21.251225,0.15540314,1.3201275,0.69835854,0.0,17.441238,1.9647722,7.722787,0.0,10.515691,2.4635677,0.0,0.0,0.0,17.94653,2.0231857,1.2574377,0.0,19.892746,1.5466595,9.50361,22.1395,0.0,2.8465357,1.1411629,9.564673,3.5894165,0.65994835,0.0,23.48273,0.6282234,1.9665031,1.7600298,0.0,0.0,20.516071,0.0,19.350662,13.828345,3.2674618,0.16633415,21.525372,11.060393,0.9713249,21.46598,22.529991,4.24308,2.4827356,0.012404442,2.0957546,0.0,19.536194,0.11423397,17.082245,17.00039,0.1297636,4.0483866,0.0,4.4170017,0.0,0.5119333,0.27915,0.0,14.489882,0.0,18.99057,3.8166866,15.359717,2.9033337,1.1332922,0.52473736,0.0,14.67946,1.3522806,13.074813,1.7877884,0.0,10.931258,0.0,0.0,0.0,1.3833447,0.0,8.646041,0.46331692,15.596101,5.8151655,3.2228394,16.863739,18.576275,3.3012838,16.300488,12.639548,0.16474915,0.0,17.836506,16.649773,12.450189,3.8823977,2.3606462,23.41185,5.8481035,17.347244,8.364448,0.0,13.517631,19.30017,0.25321293,21.82587,1.2354889,0.99793243,1.4120808,14.692187,0.0,12.492301,0.2962408,6.5438795,0.0,11.234733,19.911804,9.420102,6.390897,0.0,1.1008234,0.17622948,2.730507,7.397231,22.97123,1.9068441,0.87083244,12.319259,5.7933645,19.529495,23.355202,2.2329025,10.524936,6.720332,9.22313,11.666957,0.7124033,3.637,2.6411972,0.0,4.461401,0.2477932,0.0,0.0,0.0,1.9120121,0.0,18.584236,15.196986,18.249317,7.1620474,0.0,0.0,21.390152,0.0,5.4016676,0.038388252,11.827695,1.5015593,3.5169554,10.588235,1.7713518,0.3376894,0.0,6.60353,0.7062788,17.610573,21.694065,5.382554,20.746483,1.0696754,9.640792,0.0,0.0,12.933206,19.081383,10.2418375,19.418427,0.0,6.22159,19.654575,1.7273808,1.1455355,16.574974,19.916286,3.421651,0.9766741,11.31556,0.0,4.483918,0.3701048,9.4131,17.238922,0.0,2.904848,19.290154,0.0,18.791481,14.499463,0.41400623,15.8954115,0.0,11.561337,2.0796003,0.0,0.6283102,1.3207998,0.0,2.0005503,0.39230347,6.0579147,0.0,14.965196,1.8135929,0.0,0.0,0.0,22.343693,7.607692,14.522332,7.104247,22.868614,1.3805447,0.0,19.548782,0.0,18.665222,6.4710264,0.0,3.0741863,19.181786,0.0,7.6968336,0.0,0.0,4.4909296,12.29597,12.966123,10.875325,0.0,17.918922,12.725228,17.523506,16.25579,0.775774,14.913785,22.096157,19.926235,15.053716,7.211646,0.5442724,14.580813,0.0,0.35674095,0.0,22.204865,4.8230762,9.423863,15.470193,2.2626305,0.0,3.7951765,0.0,13.936055,11.319306,14.680209,6.9696894],\"yaxis\":\"y\",\"type\":\"scatter\"}],                        {\"template\":{\"data\":{\"histogram2dcontour\":[{\"type\":\"histogram2dcontour\",\"colorbar\":{\"outlinewidth\":0,\"ticks\":\"\"},\"colorscale\":[[0.0,\"#0d0887\"],[0.1111111111111111,\"#46039f\"],[0.2222222222222222,\"#7201a8\"],[0.3333333333333333,\"#9c179e\"],[0.4444444444444444,\"#bd3786\"],[0.5555555555555556,\"#d8576b\"],[0.6666666666666666,\"#ed7953\"],[0.7777777777777778,\"#fb9f3a\"],[0.8888888888888888,\"#fdca26\"],[1.0,\"#f0f921\"]]}],\"choropleth\":[{\"type\":\"choropleth\",\"colorbar\":{\"outlinewidth\":0,\"ticks\":\"\"}}],\"histogram2d\":[{\"type\":\"histogram2d\",\"colorbar\":{\"outlinewidth\":0,\"ticks\":\"\"},\"colorscale\":[[0.0,\"#0d0887\"],[0.1111111111111111,\"#46039f\"],[0.2222222222222222,\"#7201a8\"],[0.3333333333333333,\"#9c179e\"],[0.4444444444444444,\"#bd3786\"],[0.5555555555555556,\"#d8576b\"],[0.6666666666666666,\"#ed7953\"],[0.7777777777777778,\"#fb9f3a\"],[0.8888888888888888,\"#fdca26\"],[1.0,\"#f0f921\"]]}],\"heatmap\":[{\"type\":\"heatmap\",\"colorbar\":{\"outlinewidth\":0,\"ticks\":\"\"},\"colorscale\":[[0.0,\"#0d0887\"],[0.1111111111111111,\"#46039f\"],[0.2222222222222222,\"#7201a8\"],[0.3333333333333333,\"#9c179e\"],[0.4444444444444444,\"#bd3786\"],[0.5555555555555556,\"#d8576b\"],[0.6666666666666666,\"#ed7953\"],[0.7777777777777778,\"#fb9f3a\"],[0.8888888888888888,\"#fdca26\"],[1.0,\"#f0f921\"]]}],\"heatmapgl\":[{\"type\":\"heatmapgl\",\"colorbar\":{\"outlinewidth\":0,\"ticks\":\"\"},\"colorscale\":[[0.0,\"#0d0887\"],[0.1111111111111111,\"#46039f\"],[0.2222222222222222,\"#7201a8\"],[0.3333333333333333,\"#9c179e\"],[0.4444444444444444,\"#bd3786\"],[0.5555555555555556,\"#d8576b\"],[0.6666666666666666,\"#ed7953\"],[0.7777777777777778,\"#fb9f3a\"],[0.8888888888888888,\"#fdca26\"],[1.0,\"#f0f921\"]]}],\"contourcarpet\":[{\"type\":\"contourcarpet\",\"colorbar\":{\"outlinewidth\":0,\"ticks\":\"\"}}],\"contour\":[{\"type\":\"contour\",\"colorbar\":{\"outlinewidth\":0,\"ticks\":\"\"},\"colorscale\":[[0.0,\"#0d0887\"],[0.1111111111111111,\"#46039f\"],[0.2222222222222222,\"#7201a8\"],[0.3333333333333333,\"#9c179e\"],[0.4444444444444444,\"#bd3786\"],[0.5555555555555556,\"#d8576b\"],[0.6666666666666666,\"#ed7953\"],[0.7777777777777778,\"#fb9f3a\"],[0.8888888888888888,\"#fdca26\"],[1.0,\"#f0f921\"]]}],\"surface\":[{\"type\":\"surface\",\"colorbar\":{\"outlinewidth\":0,\"ticks\":\"\"},\"colorscale\":[[0.0,\"#0d0887\"],[0.1111111111111111,\"#46039f\"],[0.2222222222222222,\"#7201a8\"],[0.3333333333333333,\"#9c179e\"],[0.4444444444444444,\"#bd3786\"],[0.5555555555555556,\"#d8576b\"],[0.6666666666666666,\"#ed7953\"],[0.7777777777777778,\"#fb9f3a\"],[0.8888888888888888,\"#fdca26\"],[1.0,\"#f0f921\"]]}],\"mesh3d\":[{\"type\":\"mesh3d\",\"colorbar\":{\"outlinewidth\":0,\"ticks\":\"\"}}],\"scatter\":[{\"fillpattern\":{\"fillmode\":\"overlay\",\"size\":10,\"solidity\":0.2},\"type\":\"scatter\"}],\"parcoords\":[{\"type\":\"parcoords\",\"line\":{\"colorbar\":{\"outlinewidth\":0,\"ticks\":\"\"}}}],\"scatterpolargl\":[{\"type\":\"scatterpolargl\",\"marker\":{\"colorbar\":{\"outlinewidth\":0,\"ticks\":\"\"}}}],\"bar\":[{\"error_x\":{\"color\":\"#2a3f5f\"},\"error_y\":{\"color\":\"#2a3f5f\"},\"marker\":{\"line\":{\"color\":\"#E5ECF6\",\"width\":0.5},\"pattern\":{\"fillmode\":\"overlay\",\"size\":10,\"solidity\":0.2}},\"type\":\"bar\"}],\"scattergeo\":[{\"type\":\"scattergeo\",\"marker\":{\"colorbar\":{\"outlinewidth\":0,\"ticks\":\"\"}}}],\"scatterpolar\":[{\"type\":\"scatterpolar\",\"marker\":{\"colorbar\":{\"outlinewidth\":0,\"ticks\":\"\"}}}],\"histogram\":[{\"marker\":{\"pattern\":{\"fillmode\":\"overlay\",\"size\":10,\"solidity\":0.2}},\"type\":\"histogram\"}],\"scattergl\":[{\"type\":\"scattergl\",\"marker\":{\"colorbar\":{\"outlinewidth\":0,\"ticks\":\"\"}}}],\"scatter3d\":[{\"type\":\"scatter3d\",\"line\":{\"colorbar\":{\"outlinewidth\":0,\"ticks\":\"\"}},\"marker\":{\"colorbar\":{\"outlinewidth\":0,\"ticks\":\"\"}}}],\"scattermapbox\":[{\"type\":\"scattermapbox\",\"marker\":{\"colorbar\":{\"outlinewidth\":0,\"ticks\":\"\"}}}],\"scatterternary\":[{\"type\":\"scatterternary\",\"marker\":{\"colorbar\":{\"outlinewidth\":0,\"ticks\":\"\"}}}],\"scattercarpet\":[{\"type\":\"scattercarpet\",\"marker\":{\"colorbar\":{\"outlinewidth\":0,\"ticks\":\"\"}}}],\"carpet\":[{\"aaxis\":{\"endlinecolor\":\"#2a3f5f\",\"gridcolor\":\"white\",\"linecolor\":\"white\",\"minorgridcolor\":\"white\",\"startlinecolor\":\"#2a3f5f\"},\"baxis\":{\"endlinecolor\":\"#2a3f5f\",\"gridcolor\":\"white\",\"linecolor\":\"white\",\"minorgridcolor\":\"white\",\"startlinecolor\":\"#2a3f5f\"},\"type\":\"carpet\"}],\"table\":[{\"cells\":{\"fill\":{\"color\":\"#EBF0F8\"},\"line\":{\"color\":\"white\"}},\"header\":{\"fill\":{\"color\":\"#C8D4E3\"},\"line\":{\"color\":\"white\"}},\"type\":\"table\"}],\"barpolar\":[{\"marker\":{\"line\":{\"color\":\"#E5ECF6\",\"width\":0.5},\"pattern\":{\"fillmode\":\"overlay\",\"size\":10,\"solidity\":0.2}},\"type\":\"barpolar\"}],\"pie\":[{\"automargin\":true,\"type\":\"pie\"}]},\"layout\":{\"autotypenumbers\":\"strict\",\"colorway\":[\"#636efa\",\"#EF553B\",\"#00cc96\",\"#ab63fa\",\"#FFA15A\",\"#19d3f3\",\"#FF6692\",\"#B6E880\",\"#FF97FF\",\"#FECB52\"],\"font\":{\"color\":\"#2a3f5f\"},\"hovermode\":\"closest\",\"hoverlabel\":{\"align\":\"left\"},\"paper_bgcolor\":\"white\",\"plot_bgcolor\":\"#E5ECF6\",\"polar\":{\"bgcolor\":\"#E5ECF6\",\"angularaxis\":{\"gridcolor\":\"white\",\"linecolor\":\"white\",\"ticks\":\"\"},\"radialaxis\":{\"gridcolor\":\"white\",\"linecolor\":\"white\",\"ticks\":\"\"}},\"ternary\":{\"bgcolor\":\"#E5ECF6\",\"aaxis\":{\"gridcolor\":\"white\",\"linecolor\":\"white\",\"ticks\":\"\"},\"baxis\":{\"gridcolor\":\"white\",\"linecolor\":\"white\",\"ticks\":\"\"},\"caxis\":{\"gridcolor\":\"white\",\"linecolor\":\"white\",\"ticks\":\"\"}},\"coloraxis\":{\"colorbar\":{\"outlinewidth\":0,\"ticks\":\"\"}},\"colorscale\":{\"sequential\":[[0.0,\"#0d0887\"],[0.1111111111111111,\"#46039f\"],[0.2222222222222222,\"#7201a8\"],[0.3333333333333333,\"#9c179e\"],[0.4444444444444444,\"#bd3786\"],[0.5555555555555556,\"#d8576b\"],[0.6666666666666666,\"#ed7953\"],[0.7777777777777778,\"#fb9f3a\"],[0.8888888888888888,\"#fdca26\"],[1.0,\"#f0f921\"]],\"sequentialminus\":[[0.0,\"#0d0887\"],[0.1111111111111111,\"#46039f\"],[0.2222222222222222,\"#7201a8\"],[0.3333333333333333,\"#9c179e\"],[0.4444444444444444,\"#bd3786\"],[0.5555555555555556,\"#d8576b\"],[0.6666666666666666,\"#ed7953\"],[0.7777777777777778,\"#fb9f3a\"],[0.8888888888888888,\"#fdca26\"],[1.0,\"#f0f921\"]],\"diverging\":[[0,\"#8e0152\"],[0.1,\"#c51b7d\"],[0.2,\"#de77ae\"],[0.3,\"#f1b6da\"],[0.4,\"#fde0ef\"],[0.5,\"#f7f7f7\"],[0.6,\"#e6f5d0\"],[0.7,\"#b8e186\"],[0.8,\"#7fbc41\"],[0.9,\"#4d9221\"],[1,\"#276419\"]]},\"xaxis\":{\"gridcolor\":\"white\",\"linecolor\":\"white\",\"ticks\":\"\",\"title\":{\"standoff\":15},\"zerolinecolor\":\"white\",\"automargin\":true,\"zerolinewidth\":2},\"yaxis\":{\"gridcolor\":\"white\",\"linecolor\":\"white\",\"ticks\":\"\",\"title\":{\"standoff\":15},\"zerolinecolor\":\"white\",\"automargin\":true,\"zerolinewidth\":2},\"scene\":{\"xaxis\":{\"backgroundcolor\":\"#E5ECF6\",\"gridcolor\":\"white\",\"linecolor\":\"white\",\"showbackground\":true,\"ticks\":\"\",\"zerolinecolor\":\"white\",\"gridwidth\":2},\"yaxis\":{\"backgroundcolor\":\"#E5ECF6\",\"gridcolor\":\"white\",\"linecolor\":\"white\",\"showbackground\":true,\"ticks\":\"\",\"zerolinecolor\":\"white\",\"gridwidth\":2},\"zaxis\":{\"backgroundcolor\":\"#E5ECF6\",\"gridcolor\":\"white\",\"linecolor\":\"white\",\"showbackground\":true,\"ticks\":\"\",\"zerolinecolor\":\"white\",\"gridwidth\":2}},\"shapedefaults\":{\"line\":{\"color\":\"#2a3f5f\"}},\"annotationdefaults\":{\"arrowcolor\":\"#2a3f5f\",\"arrowhead\":0,\"arrowwidth\":1},\"geo\":{\"bgcolor\":\"white\",\"landcolor\":\"#E5ECF6\",\"subunitcolor\":\"white\",\"showland\":true,\"showlakes\":true,\"lakecolor\":\"white\"},\"title\":{\"x\":0.05},\"mapbox\":{\"style\":\"light\"}}},\"xaxis\":{\"anchor\":\"y\",\"domain\":[0.0,1.0],\"title\":{\"text\":\"val1\"}},\"yaxis\":{\"anchor\":\"x\",\"domain\":[0.0,1.0],\"title\":{\"text\":\"val2\"}},\"legend\":{\"tracegroupgap\":0},\"title\":{\"text\":\"Feature 1 vs Feature 2\"}},                        {\"responsive\": true}                    ).then(function(){\n",
       "                            \n",
       "var gd = document.getElementById('716f57ad-4524-4efa-857b-e9797032e7d2');\n",
       "var x = new MutationObserver(function (mutations, observer) {{\n",
       "        var display = window.getComputedStyle(gd).display;\n",
       "        if (!display || display === 'none') {{\n",
       "            console.log([gd, 'removed!']);\n",
       "            Plotly.purge(gd);\n",
       "            observer.disconnect();\n",
       "        }}\n",
       "}});\n",
       "\n",
       "// Listen for the removal of the full notebook cells\n",
       "var notebookContainer = gd.closest('#notebook-container');\n",
       "if (notebookContainer) {{\n",
       "    x.observe(notebookContainer, {childList: true});\n",
       "}}\n",
       "\n",
       "// Listen for the clearing of the current output cell\n",
       "var outputEl = gd.closest('.output');\n",
       "if (outputEl) {{\n",
       "    x.observe(outputEl, {childList: true});\n",
       "}}\n",
       "\n",
       "                        })                };                });            </script>        </div>"
      ]
     },
     "metadata": {},
     "output_type": "display_data"
    }
   ],
   "source": [
    "px.scatter(token_df[(token_df.val1 >0) | (token_df.val2 >0) ], x=\"val1\", y=\"val2\", hover_data=[\"str_tokens\", \"context\"], title=\"Feature 1 vs Feature 2\")"
   ]
  },
  {
   "cell_type": "code",
   "execution_count": null,
   "metadata": {},
   "outputs": [],
   "source": []
  }
 ],
 "metadata": {
  "kernelspec": {
   "display_name": "sae_2l",
   "language": "python",
   "name": "python3"
  },
  "language_info": {
   "codemirror_mode": {
    "name": "ipython",
    "version": 3
   },
   "file_extension": ".py",
   "mimetype": "text/x-python",
   "name": "python",
   "nbconvert_exporter": "python",
   "pygments_lexer": "ipython3",
   "version": "3.10.13"
  }
 },
 "nbformat": 4,
 "nbformat_minor": 2
}
